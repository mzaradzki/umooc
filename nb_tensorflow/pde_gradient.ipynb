{
 "cells": [
  {
   "cell_type": "code",
   "execution_count": 1,
   "metadata": {
    "collapsed": true
   },
   "outputs": [],
   "source": [
    "#Import libraries for simulation\n",
    "import tensorflow as tf\n",
    "import numpy as np\n",
    "\n",
    "#Imports for visualization\n",
    "import PIL.Image\n",
    "from io import BytesIO\n",
    "from IPython.display import clear_output, Image, display"
   ]
  },
  {
   "cell_type": "code",
   "execution_count": 2,
   "metadata": {
    "collapsed": true
   },
   "outputs": [],
   "source": [
    "### This notebook computes the gradient of a PDE scheme result\n",
    "### This is useful to get the greeks in the case of option pricing"
   ]
  },
  {
   "cell_type": "code",
   "execution_count": 3,
   "metadata": {
    "collapsed": false
   },
   "outputs": [
    {
     "data": {
      "text/plain": [
       "'def DisplayArray(a, fmt=\\'jpeg\\', rng=[0,1]):\\n  \"\"\"Display an array as a picture.\"\"\"\\n  a = (a - rng[0])/float(rng[1] - rng[0])*255\\n  a = np.uint8(np.clip(a, 0, 255))\\n  f = BytesIO()\\n  PIL.Image.fromarray(a).save(f, fmt)\\n  clear_output(wait = True)\\n  display(Image(data=f.getvalue()))'"
      ]
     },
     "execution_count": 3,
     "metadata": {},
     "output_type": "execute_result"
    }
   ],
   "source": [
    "'''def DisplayArray(a, fmt='jpeg', rng=[0,1]):\n",
    "  \"\"\"Display an array as a picture.\"\"\"\n",
    "  a = (a - rng[0])/float(rng[1] - rng[0])*255\n",
    "  a = np.uint8(np.clip(a, 0, 255))\n",
    "  f = BytesIO()\n",
    "  PIL.Image.fromarray(a).save(f, fmt)\n",
    "  clear_output(wait = True)\n",
    "  display(Image(data=f.getvalue()))'''"
   ]
  },
  {
   "cell_type": "code",
   "execution_count": 4,
   "metadata": {
    "collapsed": true
   },
   "outputs": [],
   "source": [
    "sess = tf.InteractiveSession()"
   ]
  },
  {
   "cell_type": "code",
   "execution_count": 5,
   "metadata": {
    "collapsed": true
   },
   "outputs": [],
   "source": [
    "def make_kernel(a):\n",
    "  \"\"\"Transform a 2D array into a convolution kernel\"\"\"\n",
    "  a = np.asarray(a)\n",
    "  a = a.reshape(list(a.shape) + [1,1])\n",
    "  return tf.constant(a, dtype=1)\n",
    "\n",
    "def simple_conv(x, k):\n",
    "  \"\"\"A simplified 2D convolution operation\"\"\"\n",
    "  x = tf.expand_dims(tf.expand_dims(x, 0), -1)\n",
    "  y = tf.nn.depthwise_conv2d(x, k, [1, 1, 1, 1], padding='SAME')\n",
    "  return y[0, :, :, 0]\n",
    "\n",
    "def laplace(x):\n",
    "  \"\"\"Compute the 2D laplacian of an array\"\"\"\n",
    "  laplace_k = make_kernel([[0.5, 1.0, 0.5],\n",
    "                           [1.0, -6., 1.0],\n",
    "                           [0.5, 1.0, 0.5]])\n",
    "  return simple_conv(x, laplace_k)"
   ]
  },
  {
   "cell_type": "code",
   "execution_count": 6,
   "metadata": {
    "collapsed": false
   },
   "outputs": [],
   "source": [
    "N = 100\n",
    "\n",
    "# Initial Conditions -- some rain drops hit a pond\n",
    "\n",
    "# Set everything to zero\n",
    "u_init = np.zeros([N, N], dtype=np.float32)\n",
    "ut_init = np.zeros([N, N], dtype=np.float32)\n",
    "\n",
    "# Some rain drops hit a pond at random points\n",
    "for n in range(40):\n",
    "  a,b = np.random.randint(0, N, 2)\n",
    "  u_init[a,b] = np.random.uniform()\n",
    "\n",
    "#DisplayArray(u_init, rng=[-0.1, 0.1])"
   ]
  },
  {
   "cell_type": "code",
   "execution_count": 7,
   "metadata": {
    "collapsed": false
   },
   "outputs": [
    {
     "data": {
      "text/plain": [
       "'step = tf.group(\\n  U.assign(U_),\\n  Ut.assign(Ut_))'"
      ]
     },
     "execution_count": 7,
     "metadata": {},
     "output_type": "execute_result"
    }
   ],
   "source": [
    "# Parameters:\n",
    "# eps -- time resolution\n",
    "# damping -- wave damping\n",
    "eps = tf.placeholder(tf.float32, shape=())\n",
    "damping = tf.placeholder(tf.float32, shape=())\n",
    "\n",
    "'''\n",
    "# Create variables for simulation state\n",
    "U  = tf.Variable(u_init)\n",
    "Ut = tf.Variable(ut_init)\n",
    "\n",
    "# Discretized PDE update rules\n",
    "U_ = U + eps * Ut\n",
    "Ut_ = Ut + eps * (laplace(U) - damping * Ut)\n",
    "'''\n",
    "\n",
    "# Best to store each time step in a list to get the final gradient\n",
    "# The group and re-assign method computes a 0 gradients (or maybe there is another way ?)\n",
    "Us  = [tf.Variable(u_init)] \n",
    "Uts = [tf.Variable(ut_init)]\n",
    "\n",
    "# Operation to update the state\n",
    "'''step = tf.group(\n",
    "  U.assign(U_),\n",
    "  Ut.assign(Ut_))'''"
   ]
  },
  {
   "cell_type": "code",
   "execution_count": 48,
   "metadata": {
    "collapsed": true
   },
   "outputs": [],
   "source": [
    "# Initialize state to initial conditions\n",
    "tf.global_variables_initializer().run()"
   ]
  },
  {
   "cell_type": "code",
   "execution_count": 9,
   "metadata": {
    "collapsed": false
   },
   "outputs": [
    {
     "data": {
      "text/plain": [
       "'\\n# Run 1000 steps of PDE\\nfor i in range(100):\\n  # Step simulation\\n  step.run({eps: 0.03, damping: 0.04})\\n  #DisplayArray(U.eval(), rng=[-0.1, 0.1])\\n'"
      ]
     },
     "execution_count": 9,
     "metadata": {},
     "output_type": "execute_result"
    }
   ],
   "source": [
    "'''\n",
    "# Run 1000 steps of PDE\n",
    "for i in range(100):\n",
    "  # Step simulation\n",
    "  step.run({eps: 0.03, damping: 0.04})\n",
    "  #DisplayArray(U.eval(), rng=[-0.1, 0.1])\n",
    "'''"
   ]
  },
  {
   "cell_type": "code",
   "execution_count": 10,
   "metadata": {
    "collapsed": false
   },
   "outputs": [],
   "source": [
    "for i in range(1,100):\n",
    "    Us.append( Us[i-1] + eps * Uts[i-1] )\n",
    "    Uts.append( Uts[i-1] + eps * (laplace(Us[i-1]) - damping * Uts[i-1]) )"
   ]
  },
  {
   "cell_type": "code",
   "execution_count": 11,
   "metadata": {
    "collapsed": true
   },
   "outputs": [],
   "source": [
    "output = tf.trace(Us[9])"
   ]
  },
  {
   "cell_type": "code",
   "execution_count": 12,
   "metadata": {
    "collapsed": false
   },
   "outputs": [],
   "source": [
    "grads = tf.gradients(output, [eps, damping])"
   ]
  },
  {
   "cell_type": "code",
   "execution_count": 13,
   "metadata": {
    "collapsed": false
   },
   "outputs": [
    {
     "data": {
      "text/plain": [
       "-0.004110585"
      ]
     },
     "execution_count": 13,
     "metadata": {},
     "output_type": "execute_result"
    }
   ],
   "source": [
    "grads[1].eval({eps: 0.03, damping: 0.04})"
   ]
  },
  {
   "cell_type": "code",
   "execution_count": 127,
   "metadata": {
    "collapsed": false
   },
   "outputs": [],
   "source": [
    "# Initialize state to initial conditions\n",
    "#tf.global_variables_initializer().run()\n",
    "\n",
    "dt = tf.placeholder(tf.float32, shape=())\n",
    "dx = tf.placeholder(tf.float32, shape=())\n",
    "sigma = tf.placeholder(tf.float32, shape=())\n",
    "\n",
    "dx2 = dx*dx\n",
    "\n",
    "def tridiag(a, b, c, k1=-1, k2=0, k3=1):\n",
    "    return np.diag(a, k1) + np.diag(b, k2) + np.diag(c, k3)\n",
    "\n",
    "Nx = 100\n",
    "Nt = 100\n",
    "\n",
    "arrLAP = tridiag([1 for i in range(Nx-1)], [-2 for i in range(Nx)], [1 for i in range(Nx-1)])\n",
    "# boundary conditions for Laplacian\n",
    "arrLAP[0][0] = 0\n",
    "arrLAP[0][1] = 0\n",
    "arrLAP[0][2] = 0\n",
    "arrLAP[-1][-1] = 0\n",
    "arrLAP[-1][-2] = 0\n",
    "arrLAP[-1][-3] = 0\n",
    "tfLAP = tf.constant(arrLAP, dtype=tf.float32)\n",
    "tfID = tf.eye(Nx, dtype=tf.float32)\n",
    "#\n",
    "tfPDEl = tfID - (0.5*sigma*sigma*dt/dx2) * tfLAP\n",
    "tfPDEr = tfID + (0.5*sigma*sigma*dt/dx2) * tfLAP\n",
    "#\n",
    "lhs0 = tf.constant([max((i-0.5*Nx)/float(Nx),0) for i in range(Nx)], dtype=tf.float32, shape=[Nx, 1])\n",
    "LHSs = [lhs0,]"
   ]
  },
  {
   "cell_type": "code",
   "execution_count": 128,
   "metadata": {
    "collapsed": true
   },
   "outputs": [],
   "source": [
    "for step in range(1,Nt):\n",
    "    rhs = tf.matmul(tfPDEr, LHSs[step-1])\n",
    "    lhs = tf.matrix_solve(tfPDEl, rhs)\n",
    "    LHSs.append(lhs)\n",
    "    #print tf.reduce_mean(LHSs[-1]).eval({eps: 0.03, damping: 0.01})"
   ]
  },
  {
   "cell_type": "code",
   "execution_count": 129,
   "metadata": {
    "collapsed": false
   },
   "outputs": [
    {
     "name": "stdout",
     "output_type": "stream",
     "text": [
      "0 0.1225\n",
      "10 0.1235\n",
      "20 0.1245\n",
      "30 0.1255\n",
      "40 0.126501\n",
      "50 0.127501\n",
      "60 0.128501\n",
      "70 0.129501\n",
      "80 0.130501\n",
      "90 0.131501\n"
     ]
    }
   ],
   "source": [
    "for step in range(0,Nt,10):\n",
    "    print step, tf.reduce_mean(LHSs[step]).eval({dt: 0.01, dx:0.01, sigma: 0.10})"
   ]
  },
  {
   "cell_type": "code",
   "execution_count": 132,
   "metadata": {
    "collapsed": false
   },
   "outputs": [
    {
     "name": "stdout",
     "output_type": "stream",
     "text": [
      "0.0561017\n",
      "0.561726\n",
      "0.307288\n",
      "-0.0614577\n"
     ]
    }
   ],
   "source": [
    "#output = tf.reduce_mean(LHSs[-1])\n",
    "output = LHSs[-1][50][0] # value at 50th index\n",
    "print output.eval({dt: 0.01, dx:0.01, sigma: 0.10})\n",
    "grads = tf.gradients(output, [sigma,dt,dx])\n",
    "print grads[0].eval({dt: 0.01, dx:0.01, sigma: 0.10})\n",
    "print grads[1].eval({dt: 0.01, dx:0.1, sigma: 0.10})\n",
    "print grads[2].eval({dt: 0.01, dx:0.1, sigma: 0.10})"
   ]
  },
  {
   "cell_type": "code",
   "execution_count": null,
   "metadata": {
    "collapsed": true
   },
   "outputs": [],
   "source": []
  },
  {
   "cell_type": "code",
   "execution_count": null,
   "metadata": {
    "collapsed": true
   },
   "outputs": [],
   "source": []
  }
 ],
 "metadata": {
  "kernelspec": {
   "display_name": "Python 2",
   "language": "python",
   "name": "python2"
  },
  "language_info": {
   "codemirror_mode": {
    "name": "ipython",
    "version": 2
   },
   "file_extension": ".py",
   "mimetype": "text/x-python",
   "name": "python",
   "nbconvert_exporter": "python",
   "pygments_lexer": "ipython2",
   "version": "2.7.11"
  }
 },
 "nbformat": 4,
 "nbformat_minor": 0
}
