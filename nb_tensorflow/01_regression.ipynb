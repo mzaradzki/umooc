{
 "cells": [
  {
   "cell_type": "code",
   "execution_count": 1,
   "metadata": {
    "collapsed": true
   },
   "outputs": [],
   "source": [
    "# %% imports\n",
    "%matplotlib inline\n",
    "import numpy as np\n",
    "import tensorflow as tf\n",
    "import matplotlib.pyplot as plt"
   ]
  },
  {
   "cell_type": "code",
   "execution_count": 2,
   "metadata": {
    "collapsed": false
   },
   "outputs": [
    {
     "name": "stderr",
     "output_type": "stream",
     "text": [
      "/home/ubuntu/anaconda2/lib/python2.7/site-packages/matplotlib/figure.py:397: UserWarning: matplotlib is currently using a non-GUI backend, so cannot show the figure\n",
      "  \"matplotlib is currently using a non-GUI backend, \"\n"
     ]
    },
    {
     "data": {
      "image/png": "[encoded data removed]",
      "text/plain": [
       "<matplotlib.figure.Figure at 0x7f8c89601d90>"
      ]
     },
     "metadata": {},
     "output_type": "display_data"
    }
   ],
   "source": [
    "# %% Let's create some toy data\n",
    "plt.ion()\n",
    "n_observations = 100\n",
    "fig, ax = plt.subplots(1, 1)\n",
    "xs = np.linspace(-3, 3, n_observations)\n",
    "ys = np.sin(xs) + np.random.uniform(-0.5, 0.5, n_observations)\n",
    "ax.scatter(xs, ys)\n",
    "fig.show()\n",
    "plt.draw()"
   ]
  },
  {
   "cell_type": "code",
   "execution_count": 3,
   "metadata": {
    "collapsed": true
   },
   "outputs": [],
   "source": [
    "# %% tf.placeholders for the input and output of the network. Placeholders are\n",
    "# variables which we need to fill in when we are ready to compute the graph.\n",
    "X = tf.placeholder(tf.float32)\n",
    "Y = tf.placeholder(tf.float32)"
   ]
  },
  {
   "cell_type": "code",
   "execution_count": 4,
   "metadata": {
    "collapsed": true
   },
   "outputs": [],
   "source": [
    "# %% We will try to optimize min_(W,b) ||(X*w + b) - y||^2\n",
    "# The `Variable()` constructor requires an initial value for the variable,\n",
    "# which can be a `Tensor` of any type and shape. The initial value defines the\n",
    "# type and shape of the variable. After construction, the type and shape of\n",
    "# the variable are fixed. The value can be changed using one of the assign\n",
    "# methods.\n",
    "W = tf.Variable(tf.random_normal([1]), name='weight')\n",
    "b = tf.Variable(tf.random_normal([1]), name='bias')\n",
    "Y_pred = tf.add(tf.mul(X, W), b)"
   ]
  },
  {
   "cell_type": "code",
   "execution_count": 5,
   "metadata": {
    "collapsed": true
   },
   "outputs": [],
   "source": [
    "# %% Loss function will measure the distance between our observations\n",
    "# and predictions and average over them.\n",
    "cost = tf.reduce_sum(tf.pow(Y_pred - Y, 2)) / (n_observations - 1)"
   ]
  },
  {
   "cell_type": "code",
   "execution_count": 6,
   "metadata": {
    "collapsed": true
   },
   "outputs": [],
   "source": [
    "# %% if we wanted to add regularization, we could add other terms to the cost,\n",
    "# e.g. ridge regression has a parameter controlling the amount of shrinkage\n",
    "# over the norm of activations. the larger the shrinkage, the more robust\n",
    "# to collinearity.\n",
    "# cost = tf.add(cost, tf.mul(1e-6, tf.global_norm([W])))"
   ]
  },
  {
   "cell_type": "code",
   "execution_count": 7,
   "metadata": {
    "collapsed": true
   },
   "outputs": [],
   "source": [
    "# %% Use gradient descent to optimize W,b\n",
    "# Performs a single step in the negative gradient\n",
    "learning_rate = 0.01\n",
    "optimizer = tf.train.GradientDescentOptimizer(learning_rate).minimize(cost)"
   ]
  },
  {
   "cell_type": "code",
   "execution_count": 8,
   "metadata": {
    "collapsed": false
   },
   "outputs": [
    {
     "name": "stdout",
     "output_type": "stream",
     "text": [
      "WARNING:tensorflow:From <ipython-input-8-327c5c9c431f>:6 in <module>.: initialize_all_variables (from tensorflow.python.ops.variables) is deprecated and will be removed after 2017-03-02.\n",
      "Instructions for updating:\n",
      "Use `tf.global_variables_initializer` instead.\n"
     ]
    },
    {
     "name": "stderr",
     "output_type": "stream",
     "text": [
      "WARNING:tensorflow:From <ipython-input-8-327c5c9c431f>:6 in <module>.: initialize_all_variables (from tensorflow.python.ops.variables) is deprecated and will be removed after 2017-03-02.\n",
      "Instructions for updating:\n",
      "Use `tf.global_variables_initializer` instead.\n"
     ]
    },
    {
     "name": "stdout",
     "output_type": "stream",
     "text": [
      "3.27391\n",
      "2.92511\n",
      "2.61687\n",
      "2.34446\n",
      "2.10372\n",
      "1.89097\n",
      "1.70294\n",
      "1.53676\n",
      "1.38989\n",
      "1.26008\n",
      "1.14535\n",
      "1.04394\n",
      "0.954307\n",
      "0.875079\n",
      "0.805046\n",
      "0.743139\n",
      "0.688413\n",
      "0.640033\n",
      "0.597261\n",
      "0.559445\n",
      "0.52601\n",
      "0.496446\n",
      "0.470303\n",
      "0.447185\n",
      "0.426739\n",
      "0.408656\n",
      "0.392661\n",
      "0.378512\n",
      "0.365994\n",
      "0.354918\n",
      "0.345117\n",
      "0.336444\n",
      "0.328767\n",
      "0.32197\n",
      "0.315953\n",
      "0.310625\n",
      "0.305905\n",
      "0.301724\n",
      "0.298019\n",
      "0.294736\n",
      "0.291825\n",
      "0.289244\n",
      "0.286955\n",
      "0.284924\n",
      "0.28312\n",
      "0.281519\n",
      "0.280097\n",
      "0.278833\n",
      "0.27771\n",
      "0.27671\n",
      "0.275821\n",
      "0.275029\n",
      "0.274323\n",
      "0.273693\n",
      "0.273132\n",
      "0.27263\n",
      "0.272182\n",
      "0.271781\n",
      "0.271423\n",
      "0.271101\n",
      "0.270813\n",
      "0.270554\n",
      "0.270321\n",
      "0.270112\n",
      "0.269923\n",
      "0.269753\n",
      "0.269599\n",
      "0.269459\n",
      "0.269333\n",
      "0.269219\n",
      "0.269115\n",
      "0.26902\n",
      "0.268934\n",
      "0.268855\n",
      "0.268782\n",
      "0.268716\n",
      "0.268655\n",
      "0.2686\n",
      "0.268548\n",
      "0.2685\n",
      "0.268456\n",
      "0.268416\n",
      "0.268378\n",
      "0.268343\n",
      "0.26831\n",
      "0.268279\n",
      "0.268251\n",
      "0.268224\n",
      "0.268199\n",
      "0.268175\n",
      "0.268153\n",
      "0.268132\n",
      "0.268112\n",
      "0.268094\n",
      "0.268076\n",
      "0.26806\n",
      "0.268044\n",
      "0.268029\n",
      "0.268015\n",
      "0.268001\n",
      "0.267988\n",
      "0.267976\n",
      "0.267964\n",
      "0.267953\n",
      "0.267942\n",
      "0.267932\n",
      "0.267922\n",
      "0.267913\n",
      "0.267904\n",
      "0.267896\n",
      "0.267887\n",
      "0.267879\n",
      "0.267872\n",
      "0.267865\n",
      "0.267858\n",
      "0.267851\n",
      "0.267845\n",
      "0.267838\n",
      "0.267833\n",
      "0.267827\n",
      "0.267821\n",
      "0.267816\n",
      "0.267811\n",
      "0.267806\n",
      "0.267801\n",
      "0.267797\n",
      "0.267792\n",
      "0.267788\n",
      "0.267784\n",
      "0.26778\n",
      "0.267777\n",
      "0.267773\n",
      "0.267769\n",
      "0.267766\n",
      "0.267763\n",
      "0.26776\n",
      "0.267756\n",
      "0.267754\n",
      "0.267751\n",
      "0.267748\n",
      "0.267745\n",
      "0.267743\n",
      "0.26774\n",
      "0.267738\n",
      "0.267736\n",
      "0.267733\n",
      "0.267731\n",
      "0.267729\n",
      "0.267727\n",
      "0.267725\n",
      "0.267723\n",
      "0.267722\n",
      "0.26772\n",
      "0.267718\n",
      "0.267716\n",
      "0.267715\n",
      "0.267713\n",
      "0.267712\n",
      "0.26771\n",
      "0.267709\n",
      "0.267708\n",
      "0.267706\n",
      "0.267705\n",
      "0.267704\n",
      "0.267703\n",
      "0.267702\n",
      "0.2677\n",
      "0.267699\n",
      "0.267698\n",
      "0.267697\n",
      "0.267696\n"
     ]
    },
    {
     "data": {
      "text/plain": [
       "<matplotlib.figure.Figure at 0x7f8c5451f550>"
      ]
     },
     "metadata": {},
     "output_type": "display_data"
    }
   ],
   "source": [
    "# %% We create a session to use the graph\n",
    "n_epochs = 1000\n",
    "with tf.Session() as sess:\n",
    "    # Here we tell tensorflow that we want to initialize all\n",
    "    # the variables in the graph so we can use them\n",
    "    sess.run(tf.initialize_all_variables())\n",
    "\n",
    "    # Fit all training data\n",
    "    prev_training_cost = 0.0\n",
    "    for epoch_i in range(n_epochs):\n",
    "        for (x, y) in zip(xs, ys):\n",
    "            sess.run(optimizer, feed_dict={X: x, Y: y})\n",
    "\n",
    "        training_cost = sess.run(\n",
    "            cost, feed_dict={X: xs, Y: ys})\n",
    "        print(training_cost)\n",
    "\n",
    "        if epoch_i % 20 == 0:\n",
    "            ax.plot(xs, Y_pred.eval(\n",
    "                feed_dict={X: xs}, session=sess),\n",
    "                    'k', alpha=epoch_i / n_epochs)\n",
    "            fig.show()\n",
    "            plt.draw()\n",
    "\n",
    "        # Allow the training to quit if we've reached a minimum\n",
    "        if np.abs(prev_training_cost - training_cost) < 0.000001:\n",
    "            break\n",
    "        prev_training_cost = training_cost\n",
    "fig.show()"
   ]
  },
  {
   "cell_type": "code",
   "execution_count": null,
   "metadata": {
    "collapsed": true
   },
   "outputs": [],
   "source": []
  }
 ],
 "metadata": {
  "kernelspec": {
   "display_name": "Python 2",
   "language": "python",
   "name": "python2"
  },
  "language_info": {
   "codemirror_mode": {
    "name": "ipython",
    "version": 2
   },
   "file_extension": ".py",
   "mimetype": "text/x-python",
   "name": "python",
   "nbconvert_exporter": "python",
   "pygments_lexer": "ipython2",
   "version": "2.7.11"
  }
 },
 "nbformat": 4,
 "nbformat_minor": 0
}
