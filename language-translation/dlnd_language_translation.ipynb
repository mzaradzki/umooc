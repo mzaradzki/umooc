{
 "cells": [
  {
   "cell_type": "markdown",
   "metadata": {
    "collapsed": true,
    "deletable": true,
    "editable": true
   },
   "source": [
    "# Language Translation\n",
    "In this project, you’re going to take a peek into the realm of neural network machine translation.  You’ll be training a sequence to sequence model on a dataset of English and French sentences that can translate new sentences from English to French.\n",
    "## Get the Data\n",
    "Since translating the whole language of English to French will take lots of time to train, we have provided you with a small portion of the English corpus."
   ]
  },
  {
   "cell_type": "code",
   "execution_count": 1,
   "metadata": {
    "collapsed": false,
    "deletable": true,
    "editable": true
   },
   "outputs": [],
   "source": [
    "\"\"\"\n",
    "DON'T MODIFY ANYTHING IN THIS CELL\n",
    "\"\"\"\n",
    "import helper\n",
    "import problem_unittests as tests\n",
    "\n",
    "source_path = 'data/small_vocab_en'\n",
    "target_path = 'data/small_vocab_fr'\n",
    "source_text = helper.load_data(source_path)\n",
    "target_text = helper.load_data(target_path)"
   ]
  },
  {
   "cell_type": "markdown",
   "metadata": {
    "deletable": true,
    "editable": true
   },
   "source": [
    "## Explore the Data\n",
    "Play around with view_sentence_range to view different parts of the data."
   ]
  },
  {
   "cell_type": "code",
   "execution_count": 2,
   "metadata": {
    "collapsed": false,
    "deletable": true,
    "editable": true
   },
   "outputs": [
    {
     "name": "stdout",
     "output_type": "stream",
     "text": [
      "Dataset Stats\n",
      "Roughly the number of unique words: 227\n",
      "Number of sentences: 137861\n",
      "Average number of words in a sentence: 13.225277634719028\n",
      "\n",
      "English sentences 0 to 10:\n",
      "new jersey is sometimes quiet during autumn , and it is snowy in april .\n",
      "the united states is usually chilly during july , and it is usually freezing in november .\n",
      "california is usually quiet during march , and it is usually hot in june .\n",
      "the united states is sometimes mild during june , and it is cold in september .\n",
      "your least liked fruit is the grape , but my least liked is the apple .\n",
      "his favorite fruit is the orange , but my favorite is the grape .\n",
      "paris is relaxing during december , but it is usually chilly in july .\n",
      "new jersey is busy during spring , and it is never hot in march .\n",
      "our least liked fruit is the lemon , but my least liked is the grape .\n",
      "the united states is sometimes busy during january , and it is sometimes warm in november .\n",
      "\n",
      "French sentences 0 to 10:\n",
      "new jersey est parfois calme pendant l' automne , et il est neigeux en avril .\n",
      "les états-unis est généralement froid en juillet , et il gèle habituellement en novembre .\n",
      "california est généralement calme en mars , et il est généralement chaud en juin .\n",
      "les états-unis est parfois légère en juin , et il fait froid en septembre .\n",
      "votre moins aimé fruit est le raisin , mais mon moins aimé est la pomme .\n",
      "son fruit préféré est l'orange , mais mon préféré est le raisin .\n",
      "paris est relaxant en décembre , mais il est généralement froid en juillet .\n",
      "new jersey est occupé au printemps , et il est jamais chaude en mars .\n",
      "notre fruit est moins aimé le citron , mais mon moins aimé est le raisin .\n",
      "les états-unis est parfois occupé en janvier , et il est parfois chaud en novembre .\n"
     ]
    }
   ],
   "source": [
    "view_sentence_range = (0, 10)\n",
    "\n",
    "\"\"\"\n",
    "DON'T MODIFY ANYTHING IN THIS CELL\n",
    "\"\"\"\n",
    "import numpy as np\n",
    "\n",
    "print('Dataset Stats')\n",
    "print('Roughly the number of unique words: {}'.format(len({word: None for word in source_text.split()})))\n",
    "\n",
    "sentences = source_text.split('\\n')\n",
    "word_counts = [len(sentence.split()) for sentence in sentences]\n",
    "print('Number of sentences: {}'.format(len(sentences)))\n",
    "print('Average number of words in a sentence: {}'.format(np.average(word_counts)))\n",
    "\n",
    "print()\n",
    "print('English sentences {} to {}:'.format(*view_sentence_range))\n",
    "print('\\n'.join(source_text.split('\\n')[view_sentence_range[0]:view_sentence_range[1]]))\n",
    "print()\n",
    "print('French sentences {} to {}:'.format(*view_sentence_range))\n",
    "print('\\n'.join(target_text.split('\\n')[view_sentence_range[0]:view_sentence_range[1]]))"
   ]
  },
  {
   "cell_type": "markdown",
   "metadata": {
    "deletable": true,
    "editable": true
   },
   "source": [
    "## Implement Preprocessing Function\n",
    "### Text to Word Ids\n",
    "As you did with other RNNs, you must turn the text into a number so the computer can understand it. In the function `text_to_ids()`, you'll turn `source_text` and `target_text` from words to ids.  However, you need to add the `<EOS>` word id at the end of each sentence from `target_text`.  This will help the neural network predict when the sentence should end.\n",
    "\n",
    "You can get the `<EOS>` word id by doing:\n",
    "```python\n",
    "target_vocab_to_int['<EOS>']\n",
    "```\n",
    "You can get other word ids using `source_vocab_to_int` and `target_vocab_to_int`."
   ]
  },
  {
   "cell_type": "code",
   "execution_count": 3,
   "metadata": {
    "collapsed": false,
    "deletable": true,
    "editable": true
   },
   "outputs": [
    {
     "name": "stdout",
     "output_type": "stream",
     "text": [
      "Tests Passed\n"
     ]
    }
   ],
   "source": [
    "def text_to_ids(source_text, target_text, source_vocab_to_int, target_vocab_to_int):\n",
    "    \"\"\"\n",
    "    Convert source and target text to proper word ids\n",
    "    :param source_text: String that contains all the source text.\n",
    "    :param target_text: String that contains all the target text.\n",
    "    :param source_vocab_to_int: Dictionary to go from the source words to an id\n",
    "    :param target_vocab_to_int: Dictionary to go from the target words to an id\n",
    "    :return: A tuple of lists (source_id_text, target_id_text)\n",
    "    \"\"\"\n",
    "    # TODO: Implement Function\n",
    "    \n",
    "    source_id_text = []\n",
    "    for stnc in source_text.split('\\n'):\n",
    "        L = []\n",
    "        for wrd in stnc.split(' '):\n",
    "            if len(wrd)>0:\n",
    "                L.append( source_vocab_to_int[wrd] )\n",
    "        source_id_text.append( L )\n",
    "            \n",
    "    target_id_text = []\n",
    "    for stnc in target_text.split('\\n'):\n",
    "        L = []\n",
    "        for wrd in stnc.split(' '):\n",
    "            if len(wrd)>0:\n",
    "                L.append( target_vocab_to_int[wrd] )\n",
    "        L.append( target_vocab_to_int['<EOS>'] ) # WARNING : <EOS> only for the TARGET sentences\n",
    "        target_id_text.append( L )\n",
    "    \n",
    "    return source_id_text, target_id_text\n",
    "\n",
    "\"\"\"\n",
    "DON'T MODIFY ANYTHING IN THIS CELL THAT IS BELOW THIS LINE\n",
    "\"\"\"\n",
    "tests.test_text_to_ids(text_to_ids)"
   ]
  },
  {
   "cell_type": "markdown",
   "metadata": {
    "deletable": true,
    "editable": true
   },
   "source": [
    "### Preprocess all the data and save it\n",
    "Running the code cell below will preprocess all the data and save it to file."
   ]
  },
  {
   "cell_type": "code",
   "execution_count": 4,
   "metadata": {
    "collapsed": false,
    "deletable": true,
    "editable": true
   },
   "outputs": [],
   "source": [
    "\"\"\"\n",
    "DON'T MODIFY ANYTHING IN THIS CELL\n",
    "\"\"\"\n",
    "helper.preprocess_and_save_data(source_path, target_path, text_to_ids)"
   ]
  },
  {
   "cell_type": "markdown",
   "metadata": {
    "deletable": true,
    "editable": true
   },
   "source": [
    "# Check Point\n",
    "This is your first checkpoint. If you ever decide to come back to this notebook or have to restart the notebook, you can start from here. The preprocessed data has been saved to disk."
   ]
  },
  {
   "cell_type": "code",
   "execution_count": 5,
   "metadata": {
    "collapsed": false,
    "deletable": true,
    "editable": true
   },
   "outputs": [],
   "source": [
    "\"\"\"\n",
    "DON'T MODIFY ANYTHING IN THIS CELL\n",
    "\"\"\"\n",
    "import numpy as np\n",
    "import helper\n",
    "\n",
    "(source_int_text, target_int_text), (source_vocab_to_int, target_vocab_to_int), _ = helper.load_preprocess()"
   ]
  },
  {
   "cell_type": "markdown",
   "metadata": {
    "deletable": true,
    "editable": true
   },
   "source": [
    "### Check the Version of TensorFlow and Access to GPU\n",
    "This will check to make sure you have the correct version of TensorFlow and access to a GPU"
   ]
  },
  {
   "cell_type": "code",
   "execution_count": 6,
   "metadata": {
    "collapsed": false,
    "deletable": true,
    "editable": true
   },
   "outputs": [
    {
     "name": "stdout",
     "output_type": "stream",
     "text": [
      "TensorFlow Version: 1.0.1\n",
      "Default GPU Device: /gpu:0\n"
     ]
    }
   ],
   "source": [
    "\"\"\"\n",
    "DON'T MODIFY ANYTHING IN THIS CELL\n",
    "\"\"\"\n",
    "from distutils.version import LooseVersion\n",
    "import warnings\n",
    "import tensorflow as tf\n",
    "\n",
    "# Check TensorFlow Version\n",
    "assert LooseVersion(tf.__version__) in [LooseVersion('1.0.0'), LooseVersion('1.0.1')], 'This project requires TensorFlow version 1.0  You are using {}'.format(tf.__version__)\n",
    "print('TensorFlow Version: {}'.format(tf.__version__))\n",
    "\n",
    "# Check for a GPU\n",
    "if not tf.test.gpu_device_name():\n",
    "    warnings.warn('No GPU found. Please use a GPU to train your neural network.')\n",
    "else:\n",
    "    print('Default GPU Device: {}'.format(tf.test.gpu_device_name()))"
   ]
  },
  {
   "cell_type": "code",
   "execution_count": 7,
   "metadata": {
    "collapsed": true
   },
   "outputs": [],
   "source": [
    "VERBOSE = False"
   ]
  },
  {
   "cell_type": "markdown",
   "metadata": {
    "deletable": true,
    "editable": true
   },
   "source": [
    "## Build the Neural Network\n",
    "You'll build the components necessary to build a Sequence-to-Sequence model by implementing the following functions below:\n",
    "- `model_inputs`\n",
    "- `process_decoding_input`\n",
    "- `encoding_layer`\n",
    "- `decoding_layer_train`\n",
    "- `decoding_layer_infer`\n",
    "- `decoding_layer`\n",
    "- `seq2seq_model`\n",
    "\n",
    "### Input\n",
    "Implement the `model_inputs()` function to create TF Placeholders for the Neural Network. It should create the following placeholders:\n",
    "\n",
    "- Input text placeholder named \"input\" using the TF Placeholder name parameter with rank 2.\n",
    "- Targets placeholder with rank 2.\n",
    "- Learning rate placeholder with rank 0.\n",
    "- Keep probability placeholder named \"keep_prob\" using the TF Placeholder name parameter with rank 0.\n",
    "\n",
    "Return the placeholders in the following the tuple (Input, Targets, Learing Rate, Keep Probability)"
   ]
  },
  {
   "cell_type": "code",
   "execution_count": 8,
   "metadata": {
    "collapsed": false,
    "deletable": true,
    "editable": true
   },
   "outputs": [
    {
     "name": "stdout",
     "output_type": "stream",
     "text": [
      "Tests Passed\n"
     ]
    }
   ],
   "source": [
    "def model_inputs():\n",
    "    \"\"\"\n",
    "    Create TF Placeholders for input, targets, and learning rate.\n",
    "    :return: Tuple (input, targets, learning rate, keep probability)\n",
    "    \"\"\"\n",
    "    # TODO: Implement Function\n",
    "    if VERBOSE:\n",
    "        print('FUNCTION : model_inputs')\n",
    "    inputs = tf.placeholder(tf.int32, shape=(None, None), name='input')\n",
    "    targets = tf.placeholder(tf.int32, shape=(None, None))\n",
    "    learning_rate = tf.placeholder(tf.float32, shape=None)\n",
    "    keep_prob = tf.placeholder(tf.float32, shape=None, name='keep_prob')\n",
    "    return inputs, targets, learning_rate, keep_prob\n",
    "\n",
    "\"\"\"\n",
    "DON'T MODIFY ANYTHING IN THIS CELL THAT IS BELOW THIS LINE\n",
    "\"\"\"\n",
    "tests.test_model_inputs(model_inputs)"
   ]
  },
  {
   "cell_type": "markdown",
   "metadata": {
    "deletable": true,
    "editable": true
   },
   "source": [
    "### Process Decoding Input\n",
    "Implement `process_decoding_input` using TensorFlow to remove the last word id from each batch in `target_data` and concat the GO ID to the beginning of each batch."
   ]
  },
  {
   "cell_type": "code",
   "execution_count": 9,
   "metadata": {
    "collapsed": false,
    "deletable": true,
    "editable": true
   },
   "outputs": [
    {
     "name": "stdout",
     "output_type": "stream",
     "text": [
      "Tests Passed\n"
     ]
    }
   ],
   "source": [
    "def process_decoding_input(target_data, target_vocab_to_int, batch_size):\n",
    "    \"\"\"\n",
    "    Preprocess target data for decoding\n",
    "    :param target_data: Target Placeholder\n",
    "    :param target_vocab_to_int: Dictionary to go from the target words to an id\n",
    "    :param batch_size: Batch Size\n",
    "    :return: Preprocessed target data\n",
    "    \"\"\"\n",
    "    # TODO: Implement Function\n",
    "    if VERBOSE:\n",
    "        print('FUNCTION : process_decoding_input')\n",
    "    # INFO : target data is as INTEGER (so already coded) so only need dictionary to find GO ID\n",
    "    # INFO : tensor shape is (batch_size, nb_words)\n",
    "    \n",
    "    # Create a vector of GO_ID\n",
    "    goid = target_vocab_to_int['<GO>']\n",
    "    goid_tensor = tf.constant(goid, dtype=tf.int32, shape=[batch_size,1], verify_shape=False)\n",
    "    \n",
    "    # Remove the last column of target_data\n",
    "    if VERBOSE:\n",
    "        print(target_data)\n",
    "    \n",
    "    # INFO : still confused about the way to do the below this with \"slice\"\n",
    "    sliced_target_data = tf.strided_slice(target_data,\n",
    "                                          [0, 0], # begin as in \"slice\"\n",
    "                                          [batch_size, -1], # end\n",
    "                                          [1,1]) # strides i.e. step size ?\n",
    "    #sliced_target_data = tf.slice(target_data,\n",
    "    #                                      [0, 0],\n",
    "    #                                      [batch_size, -2]) # -1 keeps it all ??\n",
    "    \n",
    "    if VERBOSE:\n",
    "        print(sliced_target_data)\n",
    "    \n",
    "    # Append GO_ID vector to 1 column of tensor\n",
    "    return tf.concat([goid_tensor, sliced_target_data], 1)\n",
    "\n",
    "\"\"\"\n",
    "DON'T MODIFY ANYTHING IN THIS CELL THAT IS BELOW THIS LINE\n",
    "\"\"\"\n",
    "tests.test_process_decoding_input(process_decoding_input)"
   ]
  },
  {
   "cell_type": "markdown",
   "metadata": {
    "deletable": true,
    "editable": true
   },
   "source": [
    "### Encoding\n",
    "Implement `encoding_layer()` to create a Encoder RNN layer using [`tf.nn.dynamic_rnn()`](https://www.tensorflow.org/api_docs/python/tf/nn/dynamic_rnn)."
   ]
  },
  {
   "cell_type": "code",
   "execution_count": 10,
   "metadata": {
    "collapsed": false
   },
   "outputs": [],
   "source": [
    "from tensorflow.contrib.rnn import BasicLSTMCell, MultiRNNCell, DropoutWrapper\n",
    "from tensorflow.python.ops.rnn import dynamic_rnn"
   ]
  },
  {
   "cell_type": "code",
   "execution_count": 11,
   "metadata": {
    "collapsed": false,
    "deletable": true,
    "editable": true
   },
   "outputs": [
    {
     "name": "stdout",
     "output_type": "stream",
     "text": [
      "Tests Passed\n"
     ]
    }
   ],
   "source": [
    "def encoding_layer(rnn_inputs, rnn_size, num_layers, keep_prob):\n",
    "    \"\"\"\n",
    "    Create encoding layer\n",
    "    :param rnn_inputs: Inputs for the RNN\n",
    "    :param rnn_size: RNN Size\n",
    "    :param num_layers: Number of layers\n",
    "    :param keep_prob: Dropout keep probability\n",
    "    :return: RNN state\n",
    "    \"\"\"\n",
    "    # TODO: Implement Function\n",
    "    if VERBOSE:\n",
    "        print('FUNCTION : encoding_layer')\n",
    "    cells = []\n",
    "    for i in range(num_layers):\n",
    "        cells.append( BasicLSTMCell(rnn_size) )\n",
    "    \n",
    "    Cell = MultiRNNCell(cells)\n",
    "    #zs = Cell.zero_state(batch_size, tf.float32) # WARNING : we need a 0 state initialization ?\n",
    "    #tf.identity(zs, name='initial_state')\n",
    "    DOCell = DropoutWrapper(Cell, output_keep_prob=keep_prob)\n",
    "    outputs, fs = dynamic_rnn(DOCell, rnn_inputs,\n",
    "                              dtype=tf.float32)\n",
    "    return fs\n",
    "\n",
    "\"\"\"\n",
    "DON'T MODIFY ANYTHING IN THIS CELL THAT IS BELOW THIS LINE\n",
    "\"\"\"\n",
    "tests.test_encoding_layer(encoding_layer)"
   ]
  },
  {
   "cell_type": "markdown",
   "metadata": {
    "deletable": true,
    "editable": true
   },
   "source": [
    "### Decoding - Training\n",
    "Create training logits using [`tf.contrib.seq2seq.simple_decoder_fn_train()`](https://www.tensorflow.org/versions/r1.0/api_docs/python/tf/contrib/seq2seq/simple_decoder_fn_train) and [`tf.contrib.seq2seq.dynamic_rnn_decoder()`](https://www.tensorflow.org/versions/r1.0/api_docs/python/tf/contrib/seq2seq/dynamic_rnn_decoder).  Apply the `output_fn` to the [`tf.contrib.seq2seq.dynamic_rnn_decoder()`](https://www.tensorflow.org/versions/r1.0/api_docs/python/tf/contrib/seq2seq/dynamic_rnn_decoder) outputs."
   ]
  },
  {
   "cell_type": "code",
   "execution_count": 12,
   "metadata": {
    "collapsed": false
   },
   "outputs": [],
   "source": [
    "from tensorflow.contrib.seq2seq import simple_decoder_fn_train, dynamic_rnn_decoder"
   ]
  },
  {
   "cell_type": "code",
   "execution_count": 13,
   "metadata": {
    "collapsed": false,
    "deletable": true,
    "editable": true
   },
   "outputs": [
    {
     "name": "stdout",
     "output_type": "stream",
     "text": [
      "Tests Passed\n"
     ]
    }
   ],
   "source": [
    "def decoding_layer_train(encoder_state, dec_cell, dec_embed_input, sequence_length, decoding_scope,\n",
    "                         output_fn, keep_prob):\n",
    "    \"\"\"\n",
    "    Create a decoding layer for training\n",
    "    :param encoder_state: Encoder State\n",
    "    :param dec_cell: Decoder RNN Cell\n",
    "    :param dec_embed_input: Decoder embedded input\n",
    "    :param sequence_length: Sequence Length\n",
    "    :param decoding_scope: TenorFlow Variable Scope for decoding\n",
    "    :param output_fn: Function to apply the output layer\n",
    "    :param keep_prob: Dropout keep probability\n",
    "    :return: Train Logits\n",
    "    \"\"\"\n",
    "    # TODO: Implement Function\n",
    "    if VERBOSE:\n",
    "        print('FUNCTION : decoding_layer_train')\n",
    "    DOCell = DropoutWrapper(dec_cell, output_keep_prob=keep_prob)\n",
    "    \n",
    "    dynamic_fn_train = simple_decoder_fn_train(encoder_state)\n",
    "    \n",
    "    outputs, final_state, final_context_state = dynamic_rnn_decoder(DOCell,\n",
    "                                                                    decoder_fn=dynamic_fn_train,\n",
    "                                                                    inputs=dec_embed_input,\n",
    "                                                                    sequence_length=sequence_length,\n",
    "                                                                    scope=decoding_scope)\n",
    "                                                                    #parallel_iterations=None,\n",
    "                                                                    #swap_memory=False,\n",
    "                                                                    #time_major=False\n",
    "    return output_fn(outputs)\n",
    "\n",
    "\n",
    "\"\"\"\n",
    "DON'T MODIFY ANYTHING IN THIS CELL THAT IS BELOW THIS LINE\n",
    "\"\"\"\n",
    "tests.test_decoding_layer_train(decoding_layer_train)"
   ]
  },
  {
   "cell_type": "markdown",
   "metadata": {
    "deletable": true,
    "editable": true
   },
   "source": [
    "### Decoding - Inference\n",
    "Create inference logits using [`tf.contrib.seq2seq.simple_decoder_fn_inference()`](https://www.tensorflow.org/versions/r1.0/api_docs/python/tf/contrib/seq2seq/simple_decoder_fn_inference) and [`tf.contrib.seq2seq.dynamic_rnn_decoder()`](https://www.tensorflow.org/versions/r1.0/api_docs/python/tf/contrib/seq2seq/dynamic_rnn_decoder). "
   ]
  },
  {
   "cell_type": "code",
   "execution_count": 14,
   "metadata": {
    "collapsed": true
   },
   "outputs": [],
   "source": [
    "from tensorflow.contrib.seq2seq import simple_decoder_fn_inference"
   ]
  },
  {
   "cell_type": "code",
   "execution_count": 15,
   "metadata": {
    "collapsed": false,
    "deletable": true,
    "editable": true
   },
   "outputs": [
    {
     "name": "stdout",
     "output_type": "stream",
     "text": [
      "Tests Passed\n"
     ]
    }
   ],
   "source": [
    "def decoding_layer_infer(encoder_state, dec_cell, dec_embeddings, start_of_sequence_id, end_of_sequence_id,\n",
    "                         maximum_length, vocab_size, decoding_scope, output_fn, keep_prob):\n",
    "    \"\"\"\n",
    "    Create a decoding layer for inference\n",
    "    :param encoder_state: Encoder state\n",
    "    :param dec_cell: Decoder RNN Cell\n",
    "    :param dec_embeddings: Decoder embeddings\n",
    "    :param start_of_sequence_id: GO ID\n",
    "    :param end_of_sequence_id: EOS Id\n",
    "    :param maximum_length: The maximum allowed time steps to decode\n",
    "    :param vocab_size: Size of vocabulary\n",
    "    :param decoding_scope: TensorFlow Variable Scope for decoding\n",
    "    :param output_fn: Function to apply the output layer\n",
    "    :param keep_prob: Dropout keep probability\n",
    "    :return: Inference Logits\n",
    "    \"\"\"\n",
    "    # TODO: Implement Function\n",
    "    if VERBOSE:\n",
    "        print('FUNCTION : decoding_layer_infer')\n",
    "    DOCell = DropoutWrapper(dec_cell, output_keep_prob=keep_prob)\n",
    "    \n",
    "    dynamic_fn_inference = simple_decoder_fn_inference(output_fn,\n",
    "                                                       encoder_state,\n",
    "                                                       dec_embeddings,\n",
    "                                                       start_of_sequence_id,\n",
    "                                                       end_of_sequence_id,\n",
    "                                                       maximum_length,\n",
    "                                                       vocab_size) # dtype=tf.int32, name=None\n",
    "    \n",
    "    outputs, final_state, final_context_state = dynamic_rnn_decoder(DOCell,\n",
    "                                                                    decoder_fn=dynamic_fn_inference,\n",
    "                                                                    #inputs=dec_embeddings,\n",
    "                                                                    #sequence_length=sequence_length,\n",
    "                                                                    scope=decoding_scope)\n",
    "                                                                    #parallel_iterations=None,\n",
    "                                                                    #swap_memory=False,\n",
    "                                                                    #time_major=False\n",
    "    \n",
    "    return outputs\n",
    "\n",
    "\n",
    "\"\"\"\n",
    "DON'T MODIFY ANYTHING IN THIS CELL THAT IS BELOW THIS LINE\n",
    "\"\"\"\n",
    "tests.test_decoding_layer_infer(decoding_layer_infer)"
   ]
  },
  {
   "cell_type": "markdown",
   "metadata": {
    "deletable": true,
    "editable": true
   },
   "source": [
    "### Build the Decoding Layer\n",
    "Implement `decoding_layer()` to create a Decoder RNN layer.\n",
    "\n",
    "- Create RNN cell for decoding using `rnn_size` and `num_layers`.\n",
    "- Create the output fuction using [`lambda`](https://docs.python.org/3/tutorial/controlflow.html#lambda-expressions) to transform it's input, logits, to class logits.\n",
    "- Use the your `decoding_layer_train(encoder_state, dec_cell, dec_embed_input, sequence_length, decoding_scope, output_fn, keep_prob)` function to get the training logits.\n",
    "- Use your `decoding_layer_infer(encoder_state, dec_cell, dec_embeddings, start_of_sequence_id, end_of_sequence_id, maximum_length, vocab_size, decoding_scope, output_fn, keep_prob)` function to get the inference logits.\n",
    "\n",
    "Note: You'll need to use [tf.variable_scope](https://www.tensorflow.org/api_docs/python/tf/variable_scope) to share variables between training and inference."
   ]
  },
  {
   "cell_type": "markdown",
   "metadata": {},
   "source": [
    "#### Medium post about Chat Bot (code base structure very similar to assigment)\n",
    "- See Medium post from Dave Currie : https://tutorials.botsfloor.com/how-to-build-your-first-chatbot-c84495d4622d\n",
    "\n",
    "#### Git code from MOOC slides\n",
    "- https://github.com/ematvey/tensorflow-seq2seq-tutorials/blob/master/2-seq2seq-advanced.ipynb"
   ]
  },
  {
   "cell_type": "code",
   "execution_count": 34,
   "metadata": {
    "collapsed": false,
    "deletable": true,
    "editable": true
   },
   "outputs": [
    {
     "name": "stdout",
     "output_type": "stream",
     "text": [
      "Tests Passed\n"
     ]
    }
   ],
   "source": [
    "def decoding_layer(dec_embed_input, dec_embeddings, encoder_state, vocab_size, sequence_length, rnn_size,\n",
    "                   num_layers, target_vocab_to_int, keep_prob):\n",
    "    \"\"\"\n",
    "    Create decoding layer\n",
    "    :param dec_embed_input: Decoder embedded input\n",
    "    :param dec_embeddings: Decoder embeddings\n",
    "    :param encoder_state: The encoded state\n",
    "    :param vocab_size: Size of vocabulary\n",
    "    :param sequence_length: Sequence Length\n",
    "    :param rnn_size: RNN Size\n",
    "    :param num_layers: Number of layers\n",
    "    :param target_vocab_to_int: Dictionary to go from the target words to an id\n",
    "    :param keep_prob: Dropout keep probability\n",
    "    :return: Tuple of (Training Logits, Inference Logits)\n",
    "    \"\"\"\n",
    "    # TODO: Implement Function\n",
    "    if VERBOSE:\n",
    "        print('FUNCTION : decoding_layer')\n",
    "    # To share variables between training and inference use \"tf.variable_scope\"\n",
    "    # See documentation at (https://www.tensorflow.org/api_docs/python/tf/variable_scope)\n",
    "    with tf.variable_scope(\"decoding\") as decoding_scope:\n",
    "        # Create RNN cell for decoding using `rnn_size` and `num_layers`\n",
    "        cells = []\n",
    "        for i in range(num_layers):\n",
    "            cells.append( BasicLSTMCell(rnn_size) )\n",
    "        dec_cell = MultiRNNCell(cells)\n",
    "        #zs = Cell.zero_state(batch_size, tf.float32) # WARNING : we need a 0 state initialization ?\n",
    "        #tf.identity(zs, name='initial_state')\n",
    "        #DOCell = DropoutWrapper(dec_cell, output_keep_prob=keep_prob)\n",
    "\n",
    "        # Transform it's input, logits, to class logits using Lambda\n",
    "        # see Lambda documentation at (https://docs.python.org/3/tutorial/controlflow.html#lambda-expressions)\n",
    "        if True:\n",
    "            output_fn = lambda x: tf.contrib.layers.fully_connected(x,\n",
    "                                                                    vocab_size, # num_outputs\n",
    "                                                                    None, # activation_fn\n",
    "                                                                    scope=decoding_scope)\n",
    "        else:\n",
    "            # INFO :\n",
    "            # Adding preset weight of low variance helps training according to Dave Currie Medium post\n",
    "            # Needs formal on/off test\n",
    "            weights = tf.truncated_normal_initializer(stddev=0.1) # lower variance than default TF ?\n",
    "            biases = tf.zeros_initializer()\n",
    "            output_fn = lambda x: tf.contrib.layers.fully_connected(x,\n",
    "                                                                    vocab_size, # num_outputs\n",
    "                                                                    None, # activation_fn\n",
    "                                                                    scope=decoding_scope,\n",
    "                                                                    weights_initializer = weights,\n",
    "                                                                    biases_initializer = biases)\n",
    "\n",
    "        training_logits = decoding_layer_train(encoder_state,\n",
    "                                               dec_cell,\n",
    "                                               dec_embed_input,\n",
    "                                               sequence_length,\n",
    "                                               decoding_scope,\n",
    "                                               output_fn,\n",
    "                                               keep_prob)\n",
    "        \n",
    "        # INFO : how to know (aside from error message) when it is required to call 'reuse_variables' ?\n",
    "        # See blog post : https://tutorials.botsfloor.com/how-to-build-your-first-chatbot-c84495d4622d\n",
    "        decoding_scope.reuse_variables()\n",
    "\n",
    "        inference_logits = decoding_layer_infer(encoder_state,\n",
    "                                                dec_cell,\n",
    "                                                dec_embeddings,\n",
    "                                                target_vocab_to_int['<GO>'],\n",
    "                                                target_vocab_to_int['<EOS>'],\n",
    "                                                sequence_length,\n",
    "                                                vocab_size,\n",
    "                                                decoding_scope,\n",
    "                                                output_fn,\n",
    "                                                keep_prob)\n",
    "\n",
    "    return training_logits, inference_logits\n",
    "\n",
    "\"\"\"\n",
    "DON'T MODIFY ANYTHING IN THIS CELL THAT IS BELOW THIS LINE\n",
    "\"\"\"\n",
    "tests.test_decoding_layer(decoding_layer)"
   ]
  },
  {
   "cell_type": "markdown",
   "metadata": {
    "deletable": true,
    "editable": true
   },
   "source": [
    "### Build the Neural Network\n",
    "Apply the functions you implemented above to:\n",
    "\n",
    "- Apply embedding to the input data for the encoder.\n",
    "- Encode the input using your `encoding_layer(rnn_inputs, rnn_size, num_layers, keep_prob)`.\n",
    "- Process target data using your `process_decoding_input(target_data, target_vocab_to_int, batch_size)` function.\n",
    "- Apply embedding to the target data for the decoder.\n",
    "- Decode the encoded input using your `decoding_layer(dec_embed_input, dec_embeddings, encoder_state, vocab_size, sequence_length, rnn_size, num_layers, target_vocab_to_int, keep_prob)`."
   ]
  },
  {
   "cell_type": "code",
   "execution_count": 31,
   "metadata": {
    "collapsed": false,
    "deletable": true,
    "editable": true
   },
   "outputs": [
    {
     "name": "stdout",
     "output_type": "stream",
     "text": [
      "Tests Passed\n"
     ]
    }
   ],
   "source": [
    "def seq2seq_model(input_data, target_data, keep_prob, batch_size, sequence_length, source_vocab_size, target_vocab_size,\n",
    "                  enc_embedding_size, dec_embedding_size, rnn_size, num_layers, target_vocab_to_int):\n",
    "    \"\"\"\n",
    "    Build the Sequence-to-Sequence part of the neural network\n",
    "    :param input_data: Input placeholder\n",
    "    :param target_data: Target placeholder\n",
    "    :param keep_prob: Dropout keep probability placeholder\n",
    "    :param batch_size: Batch Size\n",
    "    :param sequence_length: Sequence Length\n",
    "    :param source_vocab_size: Source vocabulary size\n",
    "    :param target_vocab_size: Target vocabulary size\n",
    "    :param enc_embedding_size: Decoder embedding size\n",
    "    :param dec_embedding_size: Encoder embedding size\n",
    "    :param rnn_size: RNN Size\n",
    "    :param num_layers: Number of layers\n",
    "    :param target_vocab_to_int: Dictionary to go from the target words to an id\n",
    "    :return: Tuple of (Training Logits, Inference Logits)\n",
    "    \"\"\"\n",
    "    # TODO: Implement Function\n",
    "    if VERBOSE:\n",
    "        print('FUNCTION : seq2seq_model')\n",
    "    \n",
    "    if VERBOSE:\n",
    "        print(input_data)\n",
    "        print(target_data)\n",
    "        print(batch_size)\n",
    "        print(rnn_size)\n",
    "        print(num_layers)\n",
    "        print(enc_embedding_size)\n",
    "    \n",
    "    # Apply embedding to the input data for the encoder :\n",
    "    input_embeddings = tf.Variable(tf.random_uniform([source_vocab_size, enc_embedding_size], -1.0, 1.0),\n",
    "                                   dtype=tf.float32)\n",
    "    rnn_inputs = tf.nn.embedding_lookup(input_embeddings, input_data)\n",
    "    if VERBOSE:\n",
    "        print(rnn_inputs)\n",
    "    \n",
    "    # Encode the input :\n",
    "    encoder_state = encoding_layer(rnn_inputs, rnn_size, num_layers, keep_prob) # all good\n",
    "    if VERBOSE:\n",
    "        print(encoder_state)\n",
    "    \n",
    "    # Process target data :\n",
    "    process_target_data = process_decoding_input(target_data, target_vocab_to_int, batch_size) # all good\n",
    "    if VERBOSE:\n",
    "        print(process_target_data)\n",
    "    \n",
    "    # Apply embedding to the target data for the decoder :\n",
    "    target_embeddings = tf.Variable(tf.random_uniform([target_vocab_size, dec_embedding_size], -1.0, 1.0),\n",
    "                                    dtype=tf.float32)\n",
    "    dec_embed_input = tf.nn.embedding_lookup(target_embeddings, process_target_data)\n",
    "    if VERBOSE:\n",
    "        print(dec_embed_input)\n",
    "    \n",
    "    # Decode the encoded input :\n",
    "    training_logits, inference_logits = decoding_layer(dec_embed_input,\n",
    "                                                       target_embeddings,\n",
    "                                                       encoder_state,\n",
    "                                                       target_vocab_size,\n",
    "                                                       sequence_length,\n",
    "                                                       rnn_size,\n",
    "                                                       num_layers,\n",
    "                                                       target_vocab_to_int,\n",
    "                                                       keep_prob)\n",
    "    \n",
    "    return training_logits, inference_logits\n",
    "\n",
    "\n",
    "\"\"\"\n",
    "DON'T MODIFY ANYTHING IN THIS CELL THAT IS BELOW THIS LINE\n",
    "\"\"\"\n",
    "tests.test_seq2seq_model(seq2seq_model)"
   ]
  },
  {
   "cell_type": "markdown",
   "metadata": {
    "deletable": true,
    "editable": true
   },
   "source": [
    "## Neural Network Training\n",
    "### Hyperparameters\n",
    "Tune the following parameters:\n",
    "\n",
    "- Set `epochs` to the number of epochs.\n",
    "- Set `batch_size` to the batch size.\n",
    "- Set `rnn_size` to the size of the RNNs.\n",
    "- Set `num_layers` to the number of layers.\n",
    "- Set `encoding_embedding_size` to the size of the embedding for the encoder.\n",
    "- Set `decoding_embedding_size` to the size of the embedding for the decoder.\n",
    "- Set `learning_rate` to the learning rate.\n",
    "- Set `keep_probability` to the Dropout keep probability"
   ]
  },
  {
   "cell_type": "code",
   "execution_count": 32,
   "metadata": {
    "collapsed": false,
    "deletable": true,
    "editable": true
   },
   "outputs": [],
   "source": [
    "# Number of Epochs\n",
    "epochs = 6\n",
    "# Batch Size\n",
    "batch_size = 512*2 # with \"usual\" value like 64 it is way too slow ... but batch_size should be be too high\n",
    "# RNN Size\n",
    "rnn_size = 256 # in tv-script I used 150 only but here the state holds the full sentence\n",
    "# Number of Layers\n",
    "num_layers = 2\n",
    "# Embedding Size\n",
    "encoding_embedding_size = 200 # I saw a paper suggesting that above 200-ish was almost a plateau\n",
    "decoding_embedding_size = 200\n",
    "# Learning Rate\n",
    "learning_rate = 0.003 # 0.003 is too high to run 20 \"useful\" epochs, maybe try lower with 10 epochs ?\n",
    "# Dropout Keep Probability\n",
    "keep_probability = 0.70 # to avoid overfitting (ie train error being over optimistic) what was enough here"
   ]
  },
  {
   "cell_type": "markdown",
   "metadata": {
    "deletable": true,
    "editable": true
   },
   "source": [
    "### Build the Graph\n",
    "Build the graph using the neural network you implemented."
   ]
  },
  {
   "cell_type": "code",
   "execution_count": 33,
   "metadata": {
    "collapsed": false,
    "deletable": true,
    "editable": true
   },
   "outputs": [],
   "source": [
    "\"\"\"\n",
    "DON'T MODIFY ANYTHING IN THIS CELL\n",
    "\"\"\"\n",
    "save_path = 'checkpoints/dev'\n",
    "(source_int_text, target_int_text), (source_vocab_to_int, target_vocab_to_int), _ = helper.load_preprocess()\n",
    "max_source_sentence_length = max([len(sentence) for sentence in source_int_text])\n",
    "\n",
    "train_graph = tf.Graph()\n",
    "with train_graph.as_default():\n",
    "    input_data, targets, lr, keep_prob = model_inputs()\n",
    "    sequence_length = tf.placeholder_with_default(max_source_sentence_length, None, name='sequence_length')\n",
    "    input_shape = tf.shape(input_data)\n",
    "    \n",
    "    train_logits, inference_logits = seq2seq_model(\n",
    "        tf.reverse(input_data, [-1]), targets, keep_prob, batch_size, sequence_length, len(source_vocab_to_int), len(target_vocab_to_int),\n",
    "        encoding_embedding_size, decoding_embedding_size, rnn_size, num_layers, target_vocab_to_int)\n",
    "\n",
    "    tf.identity(inference_logits, 'logits')\n",
    "    with tf.name_scope(\"optimization\"):\n",
    "        # Loss function\n",
    "        cost = tf.contrib.seq2seq.sequence_loss(\n",
    "            train_logits,\n",
    "            targets,\n",
    "            tf.ones([input_shape[0], sequence_length]))\n",
    "\n",
    "        # Optimizer\n",
    "        optimizer = tf.train.AdamOptimizer(lr)\n",
    "\n",
    "        # Gradient Clipping\n",
    "        gradients = optimizer.compute_gradients(cost)\n",
    "        capped_gradients = [(tf.clip_by_value(grad, -1., 1.), var) for grad, var in gradients if grad is not None]\n",
    "        train_op = optimizer.apply_gradients(capped_gradients)"
   ]
  },
  {
   "cell_type": "markdown",
   "metadata": {
    "deletable": true,
    "editable": true
   },
   "source": [
    "### Train\n",
    "Train the neural network on the preprocessed data. If you have a hard time getting a good loss, check the forums to see if anyone is having the same problem."
   ]
  },
  {
   "cell_type": "code",
   "execution_count": null,
   "metadata": {
    "collapsed": false,
    "deletable": true,
    "editable": true,
    "scrolled": true
   },
   "outputs": [
    {
     "name": "stdout",
     "output_type": "stream",
     "text": [
      "Epoch   0 Batch    0/134 - Train Accuracy:  0.315, Validation Accuracy:  0.358, Loss:  5.875\n",
      "Epoch   0 Batch    1/134 - Train Accuracy:  0.276, Validation Accuracy:  0.345, Loss:  5.357\n",
      "Epoch   0 Batch    2/134 - Train Accuracy:  0.311, Validation Accuracy:  0.345, Loss:  4.142\n",
      "Epoch   0 Batch    3/134 - Train Accuracy:  0.312, Validation Accuracy:  0.343, Loss:  3.684\n",
      "Epoch   0 Batch    4/134 - Train Accuracy:  0.213, Validation Accuracy:  0.247, Loss:  3.705\n",
      "Epoch   0 Batch    5/134 - Train Accuracy:  0.323, Validation Accuracy:  0.355, Loss:  3.241\n",
      "Epoch   0 Batch    6/134 - Train Accuracy:  0.388, Validation Accuracy:  0.394, Loss:  3.013\n",
      "Epoch   0 Batch    7/134 - Train Accuracy:  0.347, Validation Accuracy:  0.388, Loss:  3.000\n",
      "Epoch   0 Batch    8/134 - Train Accuracy:  0.351, Validation Accuracy:  0.389, Loss:  2.866\n",
      "Epoch   0 Batch    9/134 - Train Accuracy:  0.394, Validation Accuracy:  0.397, Loss:  2.646\n",
      "Epoch   0 Batch   10/134 - Train Accuracy:  0.388, Validation Accuracy:  0.418, Loss:  2.714\n",
      "Epoch   0 Batch   11/134 - Train Accuracy:  0.393, Validation Accuracy:  0.420, Loss:  2.639\n",
      "Epoch   0 Batch   12/134 - Train Accuracy:  0.422, Validation Accuracy:  0.423, Loss:  2.465\n",
      "Epoch   0 Batch   13/134 - Train Accuracy:  0.386, Validation Accuracy:  0.428, Loss:  2.554\n",
      "Epoch   0 Batch   14/134 - Train Accuracy:  0.367, Validation Accuracy:  0.403, Loss:  2.470\n",
      "Epoch   0 Batch   15/134 - Train Accuracy:  0.398, Validation Accuracy:  0.433, Loss:  2.391\n",
      "Epoch   0 Batch   16/134 - Train Accuracy:  0.400, Validation Accuracy:  0.429, Loss:  2.310\n",
      "Epoch   0 Batch   17/134 - Train Accuracy:  0.391, Validation Accuracy:  0.423, Loss:  2.271\n",
      "Epoch   0 Batch   18/134 - Train Accuracy:  0.401, Validation Accuracy:  0.432, Loss:  2.222\n",
      "Epoch   0 Batch   19/134 - Train Accuracy:  0.397, Validation Accuracy:  0.430, Loss:  2.161\n",
      "Epoch   0 Batch   20/134 - Train Accuracy:  0.433, Validation Accuracy:  0.441, Loss:  2.027\n",
      "Epoch   0 Batch   21/134 - Train Accuracy:  0.399, Validation Accuracy:  0.422, Loss:  2.045\n",
      "Epoch   0 Batch   22/134 - Train Accuracy:  0.358, Validation Accuracy:  0.424, Loss:  2.120\n",
      "Epoch   0 Batch   23/134 - Train Accuracy:  0.426, Validation Accuracy:  0.426, Loss:  1.859\n",
      "Epoch   0 Batch   24/134 - Train Accuracy:  0.389, Validation Accuracy:  0.439, Loss:  2.006\n",
      "Epoch   0 Batch   25/134 - Train Accuracy:  0.413, Validation Accuracy:  0.449, Loss:  1.891\n",
      "Epoch   0 Batch   26/134 - Train Accuracy:  0.370, Validation Accuracy:  0.427, Loss:  1.935\n",
      "Epoch   0 Batch   27/134 - Train Accuracy:  0.405, Validation Accuracy:  0.439, Loss:  1.802\n",
      "Epoch   0 Batch   28/134 - Train Accuracy:  0.408, Validation Accuracy:  0.435, Loss:  1.770\n",
      "Epoch   0 Batch   29/134 - Train Accuracy:  0.422, Validation Accuracy:  0.436, Loss:  1.651\n",
      "Epoch   0 Batch   30/134 - Train Accuracy:  0.429, Validation Accuracy:  0.438, Loss:  1.626\n",
      "Epoch   0 Batch   31/134 - Train Accuracy:  0.391, Validation Accuracy:  0.425, Loss:  1.660\n",
      "Epoch   0 Batch   32/134 - Train Accuracy:  0.441, Validation Accuracy:  0.446, Loss:  1.548\n",
      "Epoch   0 Batch   33/134 - Train Accuracy:  0.403, Validation Accuracy:  0.441, Loss:  1.606\n",
      "Epoch   0 Batch   34/134 - Train Accuracy:  0.406, Validation Accuracy:  0.434, Loss:  1.573\n",
      "Epoch   0 Batch   35/134 - Train Accuracy:  0.447, Validation Accuracy:  0.452, Loss:  1.475\n",
      "Epoch   0 Batch   36/134 - Train Accuracy:  0.435, Validation Accuracy:  0.461, Loss:  1.493\n",
      "Epoch   0 Batch   37/134 - Train Accuracy:  0.419, Validation Accuracy:  0.457, Loss:  1.483\n",
      "Epoch   0 Batch   38/134 - Train Accuracy:  0.427, Validation Accuracy:  0.461, Loss:  1.439\n",
      "Epoch   0 Batch   39/134 - Train Accuracy:  0.422, Validation Accuracy:  0.446, Loss:  1.403\n",
      "Epoch   0 Batch   40/134 - Train Accuracy:  0.463, Validation Accuracy:  0.485, Loss:  1.383\n",
      "Epoch   0 Batch   41/134 - Train Accuracy:  0.447, Validation Accuracy:  0.472, Loss:  1.343\n",
      "Epoch   0 Batch   42/134 - Train Accuracy:  0.444, Validation Accuracy:  0.482, Loss:  1.344\n",
      "Epoch   0 Batch   43/134 - Train Accuracy:  0.426, Validation Accuracy:  0.462, Loss:  1.324\n",
      "Epoch   0 Batch   44/134 - Train Accuracy:  0.446, Validation Accuracy:  0.485, Loss:  1.294\n",
      "Epoch   0 Batch   45/134 - Train Accuracy:  0.444, Validation Accuracy:  0.470, Loss:  1.261\n",
      "Epoch   0 Batch   46/134 - Train Accuracy:  0.478, Validation Accuracy:  0.479, Loss:  1.195\n",
      "Epoch   0 Batch   47/134 - Train Accuracy:  0.430, Validation Accuracy:  0.458, Loss:  1.214\n",
      "Epoch   0 Batch   48/134 - Train Accuracy:  0.453, Validation Accuracy:  0.475, Loss:  1.195\n",
      "Epoch   0 Batch   49/134 - Train Accuracy:  0.467, Validation Accuracy:  0.487, Loss:  1.156\n",
      "Epoch   0 Batch   50/134 - Train Accuracy:  0.452, Validation Accuracy:  0.477, Loss:  1.148\n",
      "Epoch   0 Batch   51/134 - Train Accuracy:  0.449, Validation Accuracy:  0.482, Loss:  1.134\n",
      "Epoch   0 Batch   52/134 - Train Accuracy:  0.445, Validation Accuracy:  0.477, Loss:  1.121\n",
      "Epoch   0 Batch   53/134 - Train Accuracy:  0.507, Validation Accuracy:  0.540, Loss:  1.086\n",
      "Epoch   0 Batch   54/134 - Train Accuracy:  0.446, Validation Accuracy:  0.479, Loss:  1.077\n",
      "Epoch   0 Batch   55/134 - Train Accuracy:  0.516, Validation Accuracy:  0.546, Loss:  1.068\n",
      "Epoch   0 Batch   56/134 - Train Accuracy:  0.530, Validation Accuracy:  0.532, Loss:  0.994\n",
      "Epoch   0 Batch   57/134 - Train Accuracy:  0.496, Validation Accuracy:  0.521, Loss:  1.009\n",
      "Epoch   0 Batch   58/134 - Train Accuracy:  0.552, Validation Accuracy:  0.571, Loss:  0.983\n",
      "Epoch   0 Batch   59/134 - Train Accuracy:  0.490, Validation Accuracy:  0.534, Loss:  1.033\n",
      "Epoch   0 Batch   60/134 - Train Accuracy:  0.542, Validation Accuracy:  0.563, Loss:  0.966\n",
      "Epoch   0 Batch   61/134 - Train Accuracy:  0.568, Validation Accuracy:  0.582, Loss:  0.937\n",
      "Epoch   0 Batch   62/134 - Train Accuracy:  0.551, Validation Accuracy:  0.567, Loss:  0.915\n",
      "Epoch   0 Batch   63/134 - Train Accuracy:  0.577, Validation Accuracy:  0.583, Loss:  0.920\n",
      "Epoch   0 Batch   64/134 - Train Accuracy:  0.544, Validation Accuracy:  0.576, Loss:  0.915\n",
      "Epoch   0 Batch   65/134 - Train Accuracy:  0.552, Validation Accuracy:  0.569, Loss:  0.894\n",
      "Epoch   0 Batch   66/134 - Train Accuracy:  0.572, Validation Accuracy:  0.592, Loss:  0.871\n",
      "Epoch   0 Batch   67/134 - Train Accuracy:  0.552, Validation Accuracy:  0.588, Loss:  0.931\n",
      "Epoch   0 Batch   68/134 - Train Accuracy:  0.573, Validation Accuracy:  0.601, Loss:  0.894\n",
      "Epoch   0 Batch   69/134 - Train Accuracy:  0.602, Validation Accuracy:  0.598, Loss:  0.843\n",
      "Epoch   0 Batch   70/134 - Train Accuracy:  0.594, Validation Accuracy:  0.595, Loss:  0.812\n",
      "Epoch   0 Batch   71/134 - Train Accuracy:  0.593, Validation Accuracy:  0.598, Loss:  0.813\n",
      "Epoch   0 Batch   72/134 - Train Accuracy:  0.588, Validation Accuracy:  0.603, Loss:  0.807\n",
      "Epoch   0 Batch   73/134 - Train Accuracy:  0.614, Validation Accuracy:  0.607, Loss:  0.776\n",
      "Epoch   0 Batch   74/134 - Train Accuracy:  0.593, Validation Accuracy:  0.607, Loss:  0.803\n",
      "Epoch   0 Batch   75/134 - Train Accuracy:  0.617, Validation Accuracy:  0.606, Loss:  0.757\n",
      "Epoch   0 Batch   76/134 - Train Accuracy:  0.601, Validation Accuracy:  0.612, Loss:  0.758\n",
      "Epoch   0 Batch   77/134 - Train Accuracy:  0.624, Validation Accuracy:  0.617, Loss:  0.728\n",
      "Epoch   0 Batch   78/134 - Train Accuracy:  0.597, Validation Accuracy:  0.623, Loss:  0.757\n",
      "Epoch   0 Batch   79/134 - Train Accuracy:  0.606, Validation Accuracy:  0.622, Loss:  0.749\n",
      "Epoch   0 Batch   80/134 - Train Accuracy:  0.596, Validation Accuracy:  0.621, Loss:  0.739\n",
      "Epoch   0 Batch   81/134 - Train Accuracy:  0.615, Validation Accuracy:  0.626, Loss:  0.726\n",
      "Epoch   0 Batch   82/134 - Train Accuracy:  0.629, Validation Accuracy:  0.630, Loss:  0.678\n",
      "Epoch   0 Batch   83/134 - Train Accuracy:  0.607, Validation Accuracy:  0.628, Loss:  0.722\n",
      "Epoch   0 Batch   84/134 - Train Accuracy:  0.613, Validation Accuracy:  0.626, Loss:  0.709\n",
      "Epoch   0 Batch   85/134 - Train Accuracy:  0.625, Validation Accuracy:  0.630, Loss:  0.705\n",
      "Epoch   0 Batch   86/134 - Train Accuracy:  0.610, Validation Accuracy:  0.631, Loss:  0.692\n",
      "Epoch   0 Batch   87/134 - Train Accuracy:  0.626, Validation Accuracy:  0.635, Loss:  0.701\n",
      "Epoch   0 Batch   88/134 - Train Accuracy:  0.631, Validation Accuracy:  0.631, Loss:  0.645\n",
      "Epoch   0 Batch   89/134 - Train Accuracy:  0.616, Validation Accuracy:  0.627, Loss:  0.673\n",
      "Epoch   0 Batch   90/134 - Train Accuracy:  0.610, Validation Accuracy:  0.628, Loss:  0.675\n",
      "Epoch   0 Batch   91/134 - Train Accuracy:  0.664, Validation Accuracy:  0.625, Loss:  0.578\n",
      "Epoch   0 Batch   92/134 - Train Accuracy:  0.624, Validation Accuracy:  0.627, Loss:  0.651\n",
      "Epoch   0 Batch   93/134 - Train Accuracy:  0.628, Validation Accuracy:  0.629, Loss:  0.639\n",
      "Epoch   0 Batch   94/134 - Train Accuracy:  0.620, Validation Accuracy:  0.637, Loss:  0.631\n",
      "Epoch   0 Batch   95/134 - Train Accuracy:  0.636, Validation Accuracy:  0.640, Loss:  0.635\n",
      "Epoch   0 Batch   96/134 - Train Accuracy:  0.639, Validation Accuracy:  0.648, Loss:  0.636\n",
      "Epoch   0 Batch   97/134 - Train Accuracy:  0.627, Validation Accuracy:  0.648, Loss:  0.629\n",
      "Epoch   0 Batch   98/134 - Train Accuracy:  0.613, Validation Accuracy:  0.650, Loss:  0.657\n",
      "Epoch   0 Batch   99/134 - Train Accuracy:  0.648, Validation Accuracy:  0.652, Loss:  0.624\n",
      "Epoch   0 Batch  100/134 - Train Accuracy:  0.640, Validation Accuracy:  0.655, Loss:  0.614\n",
      "Epoch   0 Batch  101/134 - Train Accuracy:  0.623, Validation Accuracy:  0.646, Loss:  0.645\n",
      "Epoch   0 Batch  102/134 - Train Accuracy:  0.662, Validation Accuracy:  0.661, Loss:  0.598\n",
      "Epoch   0 Batch  103/134 - Train Accuracy:  0.661, Validation Accuracy:  0.655, Loss:  0.580\n",
      "Epoch   0 Batch  104/134 - Train Accuracy:  0.668, Validation Accuracy:  0.663, Loss:  0.578\n",
      "Epoch   0 Batch  105/134 - Train Accuracy:  0.653, Validation Accuracy:  0.660, Loss:  0.597\n",
      "Epoch   0 Batch  106/134 - Train Accuracy:  0.647, Validation Accuracy:  0.660, Loss:  0.587\n",
      "Epoch   0 Batch  107/134 - Train Accuracy:  0.673, Validation Accuracy:  0.672, Loss:  0.560\n",
      "Epoch   0 Batch  108/134 - Train Accuracy:  0.650, Validation Accuracy:  0.675, Loss:  0.601\n",
      "Epoch   0 Batch  109/134 - Train Accuracy:  0.672, Validation Accuracy:  0.662, Loss:  0.544\n",
      "Epoch   0 Batch  110/134 - Train Accuracy:  0.671, Validation Accuracy:  0.662, Loss:  0.560\n",
      "Epoch   0 Batch  111/134 - Train Accuracy:  0.663, Validation Accuracy:  0.675, Loss:  0.573\n",
      "Epoch   0 Batch  112/134 - Train Accuracy:  0.644, Validation Accuracy:  0.656, Loss:  0.558\n",
      "Epoch   0 Batch  113/134 - Train Accuracy:  0.718, Validation Accuracy:  0.682, Loss:  0.502\n",
      "Epoch   0 Batch  114/134 - Train Accuracy:  0.677, Validation Accuracy:  0.696, Loss:  0.549\n",
      "Epoch   0 Batch  115/134 - Train Accuracy:  0.643, Validation Accuracy:  0.671, Loss:  0.587\n",
      "Epoch   0 Batch  116/134 - Train Accuracy:  0.669, Validation Accuracy:  0.683, Loss:  0.556\n",
      "Epoch   0 Batch  117/134 - Train Accuracy:  0.677, Validation Accuracy:  0.690, Loss:  0.536\n",
      "Epoch   0 Batch  118/134 - Train Accuracy:  0.700, Validation Accuracy:  0.704, Loss:  0.532\n",
      "Epoch   0 Batch  119/134 - Train Accuracy:  0.713, Validation Accuracy:  0.701, Loss:  0.487\n",
      "Epoch   0 Batch  120/134 - Train Accuracy:  0.683, Validation Accuracy:  0.698, Loss:  0.535\n",
      "Epoch   0 Batch  121/134 - Train Accuracy:  0.699, Validation Accuracy:  0.695, Loss:  0.521\n",
      "Epoch   0 Batch  122/134 - Train Accuracy:  0.680, Validation Accuracy:  0.703, Loss:  0.526\n",
      "Epoch   0 Batch  123/134 - Train Accuracy:  0.702, Validation Accuracy:  0.716, Loss:  0.515\n",
      "Epoch   0 Batch  124/134 - Train Accuracy:  0.734, Validation Accuracy:  0.719, Loss:  0.481\n",
      "Epoch   0 Batch  125/134 - Train Accuracy:  0.697, Validation Accuracy:  0.711, Loss:  0.504\n",
      "Epoch   0 Batch  126/134 - Train Accuracy:  0.708, Validation Accuracy:  0.724, Loss:  0.505\n",
      "Epoch   0 Batch  127/134 - Train Accuracy:  0.724, Validation Accuracy:  0.722, Loss:  0.482\n",
      "Epoch   0 Batch  128/134 - Train Accuracy:  0.709, Validation Accuracy:  0.724, Loss:  0.501\n",
      "Epoch   0 Batch  129/134 - Train Accuracy:  0.724, Validation Accuracy:  0.724, Loss:  0.486\n",
      "Epoch   0 Batch  130/134 - Train Accuracy:  0.722, Validation Accuracy:  0.731, Loss:  0.484\n",
      "Epoch   0 Batch  131/134 - Train Accuracy:  0.712, Validation Accuracy:  0.732, Loss:  0.500\n",
      "Epoch   0 Batch  132/134 - Train Accuracy:  0.733, Validation Accuracy:  0.730, Loss:  0.466\n",
      "Epoch   1 Batch    0/134 - Train Accuracy:  0.718, Validation Accuracy:  0.721, Loss:  0.471\n",
      "Epoch   1 Batch    1/134 - Train Accuracy:  0.714, Validation Accuracy:  0.733, Loss:  0.486\n",
      "Epoch   1 Batch    2/134 - Train Accuracy:  0.707, Validation Accuracy:  0.715, Loss:  0.462\n",
      "Epoch   1 Batch    3/134 - Train Accuracy:  0.731, Validation Accuracy:  0.744, Loss:  0.463\n",
      "Epoch   1 Batch    4/134 - Train Accuracy:  0.743, Validation Accuracy:  0.731, Loss:  0.460\n",
      "Epoch   1 Batch    5/134 - Train Accuracy:  0.733, Validation Accuracy:  0.735, Loss:  0.460\n",
      "Epoch   1 Batch    6/134 - Train Accuracy:  0.747, Validation Accuracy:  0.750, Loss:  0.427\n",
      "Epoch   1 Batch    7/134 - Train Accuracy:  0.746, Validation Accuracy:  0.751, Loss:  0.441\n",
      "Epoch   1 Batch    8/134 - Train Accuracy:  0.749, Validation Accuracy:  0.751, Loss:  0.431\n",
      "Epoch   1 Batch    9/134 - Train Accuracy:  0.760, Validation Accuracy:  0.752, Loss:  0.409\n",
      "Epoch   1 Batch   10/134 - Train Accuracy:  0.752, Validation Accuracy:  0.750, Loss:  0.430\n",
      "Epoch   1 Batch   11/134 - Train Accuracy:  0.738, Validation Accuracy:  0.747, Loss:  0.430\n",
      "Epoch   1 Batch   12/134 - Train Accuracy:  0.757, Validation Accuracy:  0.757, Loss:  0.417\n",
      "Epoch   1 Batch   13/134 - Train Accuracy:  0.733, Validation Accuracy:  0.754, Loss:  0.435\n",
      "Epoch   1 Batch   14/134 - Train Accuracy:  0.754, Validation Accuracy:  0.749, Loss:  0.433\n",
      "Epoch   1 Batch   15/134 - Train Accuracy:  0.758, Validation Accuracy:  0.761, Loss:  0.415\n",
      "Epoch   1 Batch   16/134 - Train Accuracy:  0.762, Validation Accuracy:  0.759, Loss:  0.414\n",
      "Epoch   1 Batch   17/134 - Train Accuracy:  0.739, Validation Accuracy:  0.759, Loss:  0.421\n",
      "Epoch   1 Batch   18/134 - Train Accuracy:  0.756, Validation Accuracy:  0.758, Loss:  0.409\n",
      "Epoch   1 Batch   19/134 - Train Accuracy:  0.749, Validation Accuracy:  0.764, Loss:  0.407\n",
      "Epoch   1 Batch   20/134 - Train Accuracy:  0.776, Validation Accuracy:  0.769, Loss:  0.389\n",
      "Epoch   1 Batch   21/134 - Train Accuracy:  0.765, Validation Accuracy:  0.769, Loss:  0.399\n",
      "Epoch   1 Batch   22/134 - Train Accuracy:  0.758, Validation Accuracy:  0.766, Loss:  0.411\n",
      "Epoch   1 Batch   23/134 - Train Accuracy:  0.783, Validation Accuracy:  0.772, Loss:  0.368\n",
      "Epoch   1 Batch   24/134 - Train Accuracy:  0.761, Validation Accuracy:  0.778, Loss:  0.403\n",
      "Epoch   1 Batch   25/134 - Train Accuracy:  0.772, Validation Accuracy:  0.780, Loss:  0.377\n",
      "Epoch   1 Batch   26/134 - Train Accuracy:  0.765, Validation Accuracy:  0.776, Loss:  0.398\n",
      "Epoch   1 Batch   27/134 - Train Accuracy:  0.782, Validation Accuracy:  0.782, Loss:  0.373\n",
      "Epoch   1 Batch   28/134 - Train Accuracy:  0.775, Validation Accuracy:  0.786, Loss:  0.379\n",
      "Epoch   1 Batch   29/134 - Train Accuracy:  0.797, Validation Accuracy:  0.786, Loss:  0.342\n",
      "Epoch   1 Batch   30/134 - Train Accuracy:  0.797, Validation Accuracy:  0.790, Loss:  0.350\n",
      "Epoch   1 Batch   31/134 - Train Accuracy:  0.787, Validation Accuracy:  0.789, Loss:  0.361\n",
      "Epoch   1 Batch   32/134 - Train Accuracy:  0.798, Validation Accuracy:  0.793, Loss:  0.344\n",
      "Epoch   1 Batch   33/134 - Train Accuracy:  0.786, Validation Accuracy:  0.797, Loss:  0.362\n",
      "Epoch   1 Batch   34/134 - Train Accuracy:  0.794, Validation Accuracy:  0.798, Loss:  0.362\n",
      "Epoch   1 Batch   35/134 - Train Accuracy:  0.799, Validation Accuracy:  0.802, Loss:  0.344\n",
      "Epoch   1 Batch   36/134 - Train Accuracy:  0.794, Validation Accuracy:  0.804, Loss:  0.348\n",
      "Epoch   1 Batch   37/134 - Train Accuracy:  0.792, Validation Accuracy:  0.801, Loss:  0.343\n",
      "Epoch   1 Batch   38/134 - Train Accuracy:  0.805, Validation Accuracy:  0.804, Loss:  0.334\n",
      "Epoch   1 Batch   39/134 - Train Accuracy:  0.793, Validation Accuracy:  0.809, Loss:  0.331\n",
      "Epoch   1 Batch   40/134 - Train Accuracy:  0.811, Validation Accuracy:  0.809, Loss:  0.332\n",
      "Epoch   1 Batch   41/134 - Train Accuracy:  0.809, Validation Accuracy:  0.811, Loss:  0.327\n",
      "Epoch   1 Batch   42/134 - Train Accuracy:  0.810, Validation Accuracy:  0.814, Loss:  0.323\n",
      "Epoch   1 Batch   43/134 - Train Accuracy:  0.795, Validation Accuracy:  0.820, Loss:  0.324\n",
      "Epoch   1 Batch   44/134 - Train Accuracy:  0.807, Validation Accuracy:  0.812, Loss:  0.321\n",
      "Epoch   1 Batch   45/134 - Train Accuracy:  0.824, Validation Accuracy:  0.806, Loss:  0.312\n",
      "Epoch   1 Batch   46/134 - Train Accuracy:  0.808, Validation Accuracy:  0.811, Loss:  0.327\n",
      "Epoch   1 Batch   47/134 - Train Accuracy:  0.782, Validation Accuracy:  0.794, Loss:  0.337\n",
      "Epoch   1 Batch   48/134 - Train Accuracy:  0.776, Validation Accuracy:  0.778, Loss:  0.358\n",
      "Epoch   1 Batch   49/134 - Train Accuracy:  0.801, Validation Accuracy:  0.807, Loss:  0.386\n",
      "Epoch   1 Batch   50/134 - Train Accuracy:  0.779, Validation Accuracy:  0.786, Loss:  0.332\n",
      "Epoch   1 Batch   51/134 - Train Accuracy:  0.800, Validation Accuracy:  0.806, Loss:  0.368\n",
      "Epoch   1 Batch   52/134 - Train Accuracy:  0.788, Validation Accuracy:  0.806, Loss:  0.323\n",
      "Epoch   1 Batch   53/134 - Train Accuracy:  0.807, Validation Accuracy:  0.815, Loss:  0.332\n",
      "Epoch   1 Batch   54/134 - Train Accuracy:  0.799, Validation Accuracy:  0.810, Loss:  0.321\n",
      "Epoch   1 Batch   55/134 - Train Accuracy:  0.801, Validation Accuracy:  0.807, Loss:  0.315\n",
      "Epoch   1 Batch   56/134 - Train Accuracy:  0.814, Validation Accuracy:  0.809, Loss:  0.307\n",
      "Epoch   1 Batch   57/134 - Train Accuracy:  0.821, Validation Accuracy:  0.816, Loss:  0.315\n",
      "Epoch   1 Batch   58/134 - Train Accuracy:  0.824, Validation Accuracy:  0.819, Loss:  0.294\n",
      "Epoch   1 Batch   59/134 - Train Accuracy:  0.809, Validation Accuracy:  0.826, Loss:  0.311\n",
      "Epoch   1 Batch   60/134 - Train Accuracy:  0.828, Validation Accuracy:  0.829, Loss:  0.288\n",
      "Epoch   1 Batch   61/134 - Train Accuracy:  0.835, Validation Accuracy:  0.836, Loss:  0.283\n",
      "Epoch   1 Batch   62/134 - Train Accuracy:  0.830, Validation Accuracy:  0.834, Loss:  0.279\n",
      "Epoch   1 Batch   63/134 - Train Accuracy:  0.827, Validation Accuracy:  0.829, Loss:  0.275\n",
      "Epoch   1 Batch   64/134 - Train Accuracy:  0.832, Validation Accuracy:  0.832, Loss:  0.279\n",
      "Epoch   1 Batch   65/134 - Train Accuracy:  0.829, Validation Accuracy:  0.839, Loss:  0.271\n",
      "Epoch   1 Batch   66/134 - Train Accuracy:  0.843, Validation Accuracy:  0.843, Loss:  0.260\n",
      "Epoch   1 Batch   67/134 - Train Accuracy:  0.821, Validation Accuracy:  0.840, Loss:  0.283\n",
      "Epoch   1 Batch   68/134 - Train Accuracy:  0.843, Validation Accuracy:  0.848, Loss:  0.273\n",
      "Epoch   1 Batch   69/134 - Train Accuracy:  0.851, Validation Accuracy:  0.848, Loss:  0.257\n",
      "Epoch   1 Batch   70/134 - Train Accuracy:  0.845, Validation Accuracy:  0.855, Loss:  0.246\n",
      "Epoch   1 Batch   71/134 - Train Accuracy:  0.854, Validation Accuracy:  0.856, Loss:  0.241\n",
      "Epoch   1 Batch   72/134 - Train Accuracy:  0.853, Validation Accuracy:  0.857, Loss:  0.243\n",
      "Epoch   1 Batch   73/134 - Train Accuracy:  0.858, Validation Accuracy:  0.862, Loss:  0.235\n",
      "Epoch   1 Batch   74/134 - Train Accuracy:  0.840, Validation Accuracy:  0.857, Loss:  0.245\n",
      "Epoch   1 Batch   75/134 - Train Accuracy:  0.865, Validation Accuracy:  0.860, Loss:  0.229\n",
      "Epoch   1 Batch   76/134 - Train Accuracy:  0.867, Validation Accuracy:  0.859, Loss:  0.231\n",
      "Epoch   1 Batch   77/134 - Train Accuracy:  0.859, Validation Accuracy:  0.864, Loss:  0.218\n",
      "Epoch   1 Batch   78/134 - Train Accuracy:  0.859, Validation Accuracy:  0.869, Loss:  0.222\n",
      "Epoch   1 Batch   79/134 - Train Accuracy:  0.870, Validation Accuracy:  0.876, Loss:  0.225\n",
      "Epoch   1 Batch   80/134 - Train Accuracy:  0.866, Validation Accuracy:  0.870, Loss:  0.214\n",
      "Epoch   1 Batch   81/134 - Train Accuracy:  0.861, Validation Accuracy:  0.857, Loss:  0.226\n",
      "Epoch   1 Batch   82/134 - Train Accuracy:  0.874, Validation Accuracy:  0.865, Loss:  0.219\n",
      "Epoch   1 Batch   83/134 - Train Accuracy:  0.874, Validation Accuracy:  0.874, Loss:  0.223\n",
      "Epoch   1 Batch   84/134 - Train Accuracy:  0.856, Validation Accuracy:  0.870, Loss:  0.208\n",
      "Epoch   1 Batch   85/134 - Train Accuracy:  0.874, Validation Accuracy:  0.868, Loss:  0.219\n",
      "Epoch   1 Batch   86/134 - Train Accuracy:  0.879, Validation Accuracy:  0.872, Loss:  0.208\n",
      "Epoch   1 Batch   87/134 - Train Accuracy:  0.861, Validation Accuracy:  0.876, Loss:  0.214\n",
      "Epoch   1 Batch   88/134 - Train Accuracy:  0.886, Validation Accuracy:  0.885, Loss:  0.191\n",
      "Epoch   1 Batch   89/134 - Train Accuracy:  0.872, Validation Accuracy:  0.879, Loss:  0.195\n",
      "Epoch   1 Batch   90/134 - Train Accuracy:  0.879, Validation Accuracy:  0.894, Loss:  0.204\n",
      "Epoch   1 Batch   91/134 - Train Accuracy:  0.898, Validation Accuracy:  0.890, Loss:  0.163\n",
      "Epoch   1 Batch   92/134 - Train Accuracy:  0.892, Validation Accuracy:  0.893, Loss:  0.184\n",
      "Epoch   1 Batch   93/134 - Train Accuracy:  0.893, Validation Accuracy:  0.890, Loss:  0.180\n",
      "Epoch   1 Batch   94/134 - Train Accuracy:  0.893, Validation Accuracy:  0.889, Loss:  0.176\n",
      "Epoch   1 Batch   95/134 - Train Accuracy:  0.888, Validation Accuracy:  0.893, Loss:  0.184\n",
      "Epoch   1 Batch   96/134 - Train Accuracy:  0.899, Validation Accuracy:  0.893, Loss:  0.180\n",
      "Epoch   1 Batch   97/134 - Train Accuracy:  0.886, Validation Accuracy:  0.902, Loss:  0.176\n",
      "Epoch   1 Batch   98/134 - Train Accuracy:  0.888, Validation Accuracy:  0.907, Loss:  0.183\n",
      "Epoch   1 Batch   99/134 - Train Accuracy:  0.895, Validation Accuracy:  0.903, Loss:  0.174\n",
      "Epoch   1 Batch  100/134 - Train Accuracy:  0.899, Validation Accuracy:  0.904, Loss:  0.168\n",
      "Epoch   1 Batch  101/134 - Train Accuracy:  0.896, Validation Accuracy:  0.905, Loss:  0.179\n",
      "Epoch   1 Batch  102/134 - Train Accuracy:  0.894, Validation Accuracy:  0.906, Loss:  0.163\n",
      "Epoch   1 Batch  103/134 - Train Accuracy:  0.908, Validation Accuracy:  0.905, Loss:  0.159\n",
      "Epoch   1 Batch  104/134 - Train Accuracy:  0.905, Validation Accuracy:  0.908, Loss:  0.148\n",
      "Epoch   1 Batch  105/134 - Train Accuracy:  0.906, Validation Accuracy:  0.907, Loss:  0.157\n",
      "Epoch   1 Batch  106/134 - Train Accuracy:  0.899, Validation Accuracy:  0.903, Loss:  0.153\n",
      "Epoch   1 Batch  107/134 - Train Accuracy:  0.902, Validation Accuracy:  0.907, Loss:  0.151\n",
      "Epoch   1 Batch  108/134 - Train Accuracy:  0.905, Validation Accuracy:  0.906, Loss:  0.152\n",
      "Epoch   1 Batch  109/134 - Train Accuracy:  0.912, Validation Accuracy:  0.913, Loss:  0.143\n",
      "Epoch   1 Batch  110/134 - Train Accuracy:  0.918, Validation Accuracy:  0.910, Loss:  0.140\n",
      "Epoch   1 Batch  111/134 - Train Accuracy:  0.902, Validation Accuracy:  0.911, Loss:  0.143\n",
      "Epoch   1 Batch  112/134 - Train Accuracy:  0.907, Validation Accuracy:  0.908, Loss:  0.138\n",
      "Epoch   1 Batch  113/134 - Train Accuracy:  0.918, Validation Accuracy:  0.914, Loss:  0.128\n",
      "Epoch   1 Batch  114/134 - Train Accuracy:  0.911, Validation Accuracy:  0.920, Loss:  0.135\n",
      "Epoch   1 Batch  115/134 - Train Accuracy:  0.901, Validation Accuracy:  0.917, Loss:  0.136\n",
      "Epoch   1 Batch  116/134 - Train Accuracy:  0.919, Validation Accuracy:  0.915, Loss:  0.138\n",
      "Epoch   1 Batch  117/134 - Train Accuracy:  0.919, Validation Accuracy:  0.915, Loss:  0.129\n",
      "Epoch   1 Batch  118/134 - Train Accuracy:  0.912, Validation Accuracy:  0.919, Loss:  0.130\n",
      "Epoch   1 Batch  119/134 - Train Accuracy:  0.919, Validation Accuracy:  0.924, Loss:  0.114\n",
      "Epoch   1 Batch  120/134 - Train Accuracy:  0.917, Validation Accuracy:  0.920, Loss:  0.132\n",
      "Epoch   1 Batch  121/134 - Train Accuracy:  0.922, Validation Accuracy:  0.927, Loss:  0.119\n",
      "Epoch   1 Batch  122/134 - Train Accuracy:  0.909, Validation Accuracy:  0.924, Loss:  0.123\n",
      "Epoch   1 Batch  123/134 - Train Accuracy:  0.922, Validation Accuracy:  0.925, Loss:  0.118\n",
      "Epoch   1 Batch  124/134 - Train Accuracy:  0.927, Validation Accuracy:  0.929, Loss:  0.109\n",
      "Epoch   1 Batch  125/134 - Train Accuracy:  0.927, Validation Accuracy:  0.925, Loss:  0.110\n",
      "Epoch   1 Batch  126/134 - Train Accuracy:  0.917, Validation Accuracy:  0.928, Loss:  0.115\n",
      "Epoch   1 Batch  127/134 - Train Accuracy:  0.915, Validation Accuracy:  0.921, Loss:  0.108\n",
      "Epoch   1 Batch  128/134 - Train Accuracy:  0.914, Validation Accuracy:  0.924, Loss:  0.117\n",
      "Epoch   1 Batch  129/134 - Train Accuracy:  0.923, Validation Accuracy:  0.923, Loss:  0.107\n",
      "Epoch   1 Batch  130/134 - Train Accuracy:  0.925, Validation Accuracy:  0.932, Loss:  0.105\n",
      "Epoch   1 Batch  131/134 - Train Accuracy:  0.910, Validation Accuracy:  0.930, Loss:  0.114\n",
      "Epoch   1 Batch  132/134 - Train Accuracy:  0.925, Validation Accuracy:  0.933, Loss:  0.099\n",
      "Epoch   2 Batch    0/134 - Train Accuracy:  0.924, Validation Accuracy:  0.934, Loss:  0.100\n",
      "Epoch   2 Batch    1/134 - Train Accuracy:  0.917, Validation Accuracy:  0.934, Loss:  0.105\n",
      "Epoch   2 Batch    2/134 - Train Accuracy:  0.932, Validation Accuracy:  0.933, Loss:  0.097\n",
      "Epoch   2 Batch    3/134 - Train Accuracy:  0.928, Validation Accuracy:  0.925, Loss:  0.096\n",
      "Epoch   2 Batch    4/134 - Train Accuracy:  0.930, Validation Accuracy:  0.927, Loss:  0.096\n",
      "Epoch   2 Batch    5/134 - Train Accuracy:  0.928, Validation Accuracy:  0.932, Loss:  0.105\n",
      "Epoch   2 Batch    6/134 - Train Accuracy:  0.926, Validation Accuracy:  0.933, Loss:  0.088\n",
      "Epoch   2 Batch    7/134 - Train Accuracy:  0.922, Validation Accuracy:  0.928, Loss:  0.094\n",
      "Epoch   2 Batch    8/134 - Train Accuracy:  0.931, Validation Accuracy:  0.934, Loss:  0.089\n",
      "Epoch   2 Batch    9/134 - Train Accuracy:  0.936, Validation Accuracy:  0.932, Loss:  0.083\n",
      "Epoch   2 Batch   10/134 - Train Accuracy:  0.927, Validation Accuracy:  0.935, Loss:  0.094\n",
      "Epoch   2 Batch   11/134 - Train Accuracy:  0.921, Validation Accuracy:  0.932, Loss:  0.091\n",
      "Epoch   2 Batch   12/134 - Train Accuracy:  0.932, Validation Accuracy:  0.939, Loss:  0.084\n",
      "Epoch   2 Batch   13/134 - Train Accuracy:  0.917, Validation Accuracy:  0.938, Loss:  0.084\n",
      "Epoch   2 Batch   14/134 - Train Accuracy:  0.936, Validation Accuracy:  0.936, Loss:  0.086\n",
      "Epoch   2 Batch   15/134 - Train Accuracy:  0.935, Validation Accuracy:  0.937, Loss:  0.085\n",
      "Epoch   2 Batch   16/134 - Train Accuracy:  0.937, Validation Accuracy:  0.930, Loss:  0.079\n",
      "Epoch   2 Batch   17/134 - Train Accuracy:  0.926, Validation Accuracy:  0.936, Loss:  0.087\n",
      "Epoch   2 Batch   18/134 - Train Accuracy:  0.933, Validation Accuracy:  0.937, Loss:  0.087\n",
      "Epoch   2 Batch   19/134 - Train Accuracy:  0.924, Validation Accuracy:  0.941, Loss:  0.083\n",
      "Epoch   2 Batch   20/134 - Train Accuracy:  0.933, Validation Accuracy:  0.940, Loss:  0.082\n",
      "Epoch   2 Batch   21/134 - Train Accuracy:  0.933, Validation Accuracy:  0.941, Loss:  0.085\n",
      "Epoch   2 Batch   22/134 - Train Accuracy:  0.938, Validation Accuracy:  0.935, Loss:  0.082\n",
      "Epoch   2 Batch   23/134 - Train Accuracy:  0.939, Validation Accuracy:  0.935, Loss:  0.071\n",
      "Epoch   2 Batch   24/134 - Train Accuracy:  0.933, Validation Accuracy:  0.938, Loss:  0.083\n",
      "Epoch   2 Batch   25/134 - Train Accuracy:  0.940, Validation Accuracy:  0.940, Loss:  0.075\n",
      "Epoch   2 Batch   26/134 - Train Accuracy:  0.933, Validation Accuracy:  0.942, Loss:  0.081\n",
      "Epoch   2 Batch   27/134 - Train Accuracy:  0.934, Validation Accuracy:  0.938, Loss:  0.076\n",
      "Epoch   2 Batch   28/134 - Train Accuracy:  0.935, Validation Accuracy:  0.944, Loss:  0.081\n",
      "Epoch   2 Batch   29/134 - Train Accuracy:  0.944, Validation Accuracy:  0.940, Loss:  0.064\n",
      "Epoch   2 Batch   30/134 - Train Accuracy:  0.939, Validation Accuracy:  0.942, Loss:  0.076\n",
      "Epoch   2 Batch   31/134 - Train Accuracy:  0.936, Validation Accuracy:  0.944, Loss:  0.076\n",
      "Epoch   2 Batch   32/134 - Train Accuracy:  0.934, Validation Accuracy:  0.947, Loss:  0.069\n",
      "Epoch   2 Batch   33/134 - Train Accuracy:  0.934, Validation Accuracy:  0.944, Loss:  0.079\n",
      "Epoch   2 Batch   34/134 - Train Accuracy:  0.934, Validation Accuracy:  0.940, Loss:  0.080\n",
      "Epoch   2 Batch   35/134 - Train Accuracy:  0.940, Validation Accuracy:  0.944, Loss:  0.077\n",
      "Epoch   2 Batch   36/134 - Train Accuracy:  0.939, Validation Accuracy:  0.943, Loss:  0.074\n",
      "Epoch   2 Batch   37/134 - Train Accuracy:  0.929, Validation Accuracy:  0.943, Loss:  0.074\n",
      "Epoch   2 Batch   38/134 - Train Accuracy:  0.945, Validation Accuracy:  0.940, Loss:  0.070\n",
      "Epoch   2 Batch   39/134 - Train Accuracy:  0.935, Validation Accuracy:  0.943, Loss:  0.068\n",
      "Epoch   2 Batch   40/134 - Train Accuracy:  0.940, Validation Accuracy:  0.938, Loss:  0.074\n",
      "Epoch   2 Batch   41/134 - Train Accuracy:  0.931, Validation Accuracy:  0.943, Loss:  0.074\n",
      "Epoch   2 Batch   42/134 - Train Accuracy:  0.939, Validation Accuracy:  0.942, Loss:  0.066\n",
      "Epoch   2 Batch   43/134 - Train Accuracy:  0.938, Validation Accuracy:  0.940, Loss:  0.070\n",
      "Epoch   2 Batch   44/134 - Train Accuracy:  0.941, Validation Accuracy:  0.940, Loss:  0.068\n",
      "Epoch   2 Batch   45/134 - Train Accuracy:  0.947, Validation Accuracy:  0.945, Loss:  0.064\n",
      "Epoch   2 Batch   46/134 - Train Accuracy:  0.947, Validation Accuracy:  0.946, Loss:  0.069\n",
      "Epoch   2 Batch   47/134 - Train Accuracy:  0.943, Validation Accuracy:  0.949, Loss:  0.066\n",
      "Epoch   2 Batch   48/134 - Train Accuracy:  0.939, Validation Accuracy:  0.951, Loss:  0.069\n",
      "Epoch   2 Batch   49/134 - Train Accuracy:  0.945, Validation Accuracy:  0.946, Loss:  0.063\n",
      "Epoch   2 Batch   50/134 - Train Accuracy:  0.944, Validation Accuracy:  0.950, Loss:  0.069\n",
      "Epoch   2 Batch   51/134 - Train Accuracy:  0.943, Validation Accuracy:  0.949, Loss:  0.069\n",
      "Epoch   2 Batch   52/134 - Train Accuracy:  0.946, Validation Accuracy:  0.947, Loss:  0.062\n",
      "Epoch   2 Batch   53/134 - Train Accuracy:  0.953, Validation Accuracy:  0.949, Loss:  0.062\n",
      "Epoch   2 Batch   54/134 - Train Accuracy:  0.931, Validation Accuracy:  0.941, Loss:  0.063\n",
      "Epoch   2 Batch   55/134 - Train Accuracy:  0.942, Validation Accuracy:  0.948, Loss:  0.065\n",
      "Epoch   2 Batch   56/134 - Train Accuracy:  0.936, Validation Accuracy:  0.942, Loss:  0.062\n",
      "Epoch   2 Batch   57/134 - Train Accuracy:  0.946, Validation Accuracy:  0.947, Loss:  0.062\n",
      "Epoch   2 Batch   58/134 - Train Accuracy:  0.942, Validation Accuracy:  0.947, Loss:  0.055\n",
      "Epoch   2 Batch   59/134 - Train Accuracy:  0.935, Validation Accuracy:  0.947, Loss:  0.065\n",
      "Epoch   2 Batch   60/134 - Train Accuracy:  0.943, Validation Accuracy:  0.949, Loss:  0.058\n",
      "Epoch   2 Batch   61/134 - Train Accuracy:  0.944, Validation Accuracy:  0.950, Loss:  0.054\n",
      "Epoch   2 Batch   62/134 - Train Accuracy:  0.938, Validation Accuracy:  0.951, Loss:  0.058\n",
      "Epoch   2 Batch   63/134 - Train Accuracy:  0.947, Validation Accuracy:  0.952, Loss:  0.058\n",
      "Epoch   2 Batch   64/134 - Train Accuracy:  0.939, Validation Accuracy:  0.954, Loss:  0.060\n",
      "Epoch   2 Batch   65/134 - Train Accuracy:  0.941, Validation Accuracy:  0.954, Loss:  0.061\n",
      "Epoch   2 Batch   66/134 - Train Accuracy:  0.950, Validation Accuracy:  0.953, Loss:  0.053\n",
      "Epoch   2 Batch   67/134 - Train Accuracy:  0.934, Validation Accuracy:  0.952, Loss:  0.060\n",
      "Epoch   2 Batch   68/134 - Train Accuracy:  0.940, Validation Accuracy:  0.953, Loss:  0.059\n",
      "Epoch   2 Batch   69/134 - Train Accuracy:  0.950, Validation Accuracy:  0.956, Loss:  0.056\n",
      "Epoch   2 Batch   70/134 - Train Accuracy:  0.950, Validation Accuracy:  0.956, Loss:  0.057\n",
      "Epoch   2 Batch   71/134 - Train Accuracy:  0.953, Validation Accuracy:  0.955, Loss:  0.049\n",
      "Epoch   2 Batch   72/134 - Train Accuracy:  0.952, Validation Accuracy:  0.956, Loss:  0.053\n",
      "Epoch   2 Batch   73/134 - Train Accuracy:  0.951, Validation Accuracy:  0.950, Loss:  0.057\n",
      "Epoch   2 Batch   74/134 - Train Accuracy:  0.951, Validation Accuracy:  0.953, Loss:  0.061\n",
      "Epoch   2 Batch   75/134 - Train Accuracy:  0.948, Validation Accuracy:  0.954, Loss:  0.053\n",
      "Epoch   2 Batch   76/134 - Train Accuracy:  0.956, Validation Accuracy:  0.949, Loss:  0.050\n",
      "Epoch   2 Batch   77/134 - Train Accuracy:  0.944, Validation Accuracy:  0.953, Loss:  0.051\n",
      "Epoch   2 Batch   78/134 - Train Accuracy:  0.942, Validation Accuracy:  0.953, Loss:  0.051\n",
      "Epoch   2 Batch   79/134 - Train Accuracy:  0.947, Validation Accuracy:  0.960, Loss:  0.052\n",
      "Epoch   2 Batch   80/134 - Train Accuracy:  0.954, Validation Accuracy:  0.959, Loss:  0.050\n",
      "Epoch   2 Batch   81/134 - Train Accuracy:  0.959, Validation Accuracy:  0.960, Loss:  0.053\n",
      "Epoch   2 Batch   82/134 - Train Accuracy:  0.957, Validation Accuracy:  0.960, Loss:  0.049\n",
      "Epoch   2 Batch   83/134 - Train Accuracy:  0.950, Validation Accuracy:  0.958, Loss:  0.052\n",
      "Epoch   2 Batch   84/134 - Train Accuracy:  0.947, Validation Accuracy:  0.962, Loss:  0.049\n",
      "Epoch   2 Batch   85/134 - Train Accuracy:  0.951, Validation Accuracy:  0.960, Loss:  0.055\n",
      "Epoch   2 Batch   86/134 - Train Accuracy:  0.951, Validation Accuracy:  0.956, Loss:  0.050\n",
      "Epoch   2 Batch   87/134 - Train Accuracy:  0.948, Validation Accuracy:  0.957, Loss:  0.059\n",
      "Epoch   2 Batch   88/134 - Train Accuracy:  0.958, Validation Accuracy:  0.958, Loss:  0.046\n",
      "Epoch   2 Batch   89/134 - Train Accuracy:  0.950, Validation Accuracy:  0.957, Loss:  0.047\n",
      "Epoch   2 Batch   90/134 - Train Accuracy:  0.947, Validation Accuracy:  0.957, Loss:  0.054\n",
      "Epoch   2 Batch   91/134 - Train Accuracy:  0.959, Validation Accuracy:  0.958, Loss:  0.039\n",
      "Epoch   2 Batch   92/134 - Train Accuracy:  0.952, Validation Accuracy:  0.958, Loss:  0.048\n",
      "Epoch   2 Batch   93/134 - Train Accuracy:  0.953, Validation Accuracy:  0.958, Loss:  0.045\n",
      "Epoch   2 Batch   94/134 - Train Accuracy:  0.962, Validation Accuracy:  0.960, Loss:  0.046\n",
      "Epoch   2 Batch   95/134 - Train Accuracy:  0.954, Validation Accuracy:  0.958, Loss:  0.049\n",
      "Epoch   2 Batch   96/134 - Train Accuracy:  0.953, Validation Accuracy:  0.959, Loss:  0.046\n",
      "Epoch   2 Batch   97/134 - Train Accuracy:  0.950, Validation Accuracy:  0.958, Loss:  0.047\n",
      "Epoch   2 Batch   98/134 - Train Accuracy:  0.951, Validation Accuracy:  0.963, Loss:  0.049\n",
      "Epoch   2 Batch   99/134 - Train Accuracy:  0.955, Validation Accuracy:  0.962, Loss:  0.047\n",
      "Epoch   2 Batch  100/134 - Train Accuracy:  0.957, Validation Accuracy:  0.963, Loss:  0.046\n",
      "Epoch   2 Batch  101/134 - Train Accuracy:  0.955, Validation Accuracy:  0.963, Loss:  0.049\n",
      "Epoch   2 Batch  102/134 - Train Accuracy:  0.952, Validation Accuracy:  0.966, Loss:  0.046\n",
      "Epoch   2 Batch  103/134 - Train Accuracy:  0.961, Validation Accuracy:  0.966, Loss:  0.045\n",
      "Epoch   2 Batch  104/134 - Train Accuracy:  0.956, Validation Accuracy:  0.965, Loss:  0.043\n",
      "Epoch   2 Batch  105/134 - Train Accuracy:  0.955, Validation Accuracy:  0.965, Loss:  0.050\n",
      "Epoch   2 Batch  106/134 - Train Accuracy:  0.956, Validation Accuracy:  0.962, Loss:  0.046\n",
      "Epoch   2 Batch  107/134 - Train Accuracy:  0.952, Validation Accuracy:  0.963, Loss:  0.048\n",
      "Epoch   2 Batch  108/134 - Train Accuracy:  0.955, Validation Accuracy:  0.963, Loss:  0.044\n",
      "Epoch   2 Batch  109/134 - Train Accuracy:  0.955, Validation Accuracy:  0.963, Loss:  0.043\n",
      "Epoch   2 Batch  110/134 - Train Accuracy:  0.960, Validation Accuracy:  0.964, Loss:  0.043\n",
      "Epoch   2 Batch  111/134 - Train Accuracy:  0.950, Validation Accuracy:  0.963, Loss:  0.047\n",
      "Epoch   2 Batch  112/134 - Train Accuracy:  0.954, Validation Accuracy:  0.965, Loss:  0.045\n",
      "Epoch   2 Batch  113/134 - Train Accuracy:  0.959, Validation Accuracy:  0.962, Loss:  0.044\n",
      "Epoch   2 Batch  114/134 - Train Accuracy:  0.959, Validation Accuracy:  0.962, Loss:  0.043\n",
      "Epoch   2 Batch  115/134 - Train Accuracy:  0.954, Validation Accuracy:  0.962, Loss:  0.042\n",
      "Epoch   2 Batch  116/134 - Train Accuracy:  0.955, Validation Accuracy:  0.962, Loss:  0.046\n",
      "Epoch   2 Batch  117/134 - Train Accuracy:  0.969, Validation Accuracy:  0.963, Loss:  0.036\n",
      "Epoch   2 Batch  118/134 - Train Accuracy:  0.963, Validation Accuracy:  0.961, Loss:  0.043\n",
      "Epoch   2 Batch  119/134 - Train Accuracy:  0.959, Validation Accuracy:  0.965, Loss:  0.040\n",
      "Epoch   2 Batch  120/134 - Train Accuracy:  0.953, Validation Accuracy:  0.965, Loss:  0.047\n",
      "Epoch   2 Batch  121/134 - Train Accuracy:  0.953, Validation Accuracy:  0.964, Loss:  0.041\n",
      "Epoch   2 Batch  122/134 - Train Accuracy:  0.953, Validation Accuracy:  0.961, Loss:  0.044\n",
      "Epoch   2 Batch  123/134 - Train Accuracy:  0.963, Validation Accuracy:  0.963, Loss:  0.040\n",
      "Epoch   2 Batch  124/134 - Train Accuracy:  0.961, Validation Accuracy:  0.966, Loss:  0.039\n",
      "Epoch   2 Batch  125/134 - Train Accuracy:  0.965, Validation Accuracy:  0.966, Loss:  0.038\n",
      "Epoch   2 Batch  126/134 - Train Accuracy:  0.959, Validation Accuracy:  0.968, Loss:  0.043\n",
      "Epoch   2 Batch  127/134 - Train Accuracy:  0.958, Validation Accuracy:  0.966, Loss:  0.040\n",
      "Epoch   2 Batch  128/134 - Train Accuracy:  0.954, Validation Accuracy:  0.960, Loss:  0.045\n",
      "Epoch   2 Batch  129/134 - Train Accuracy:  0.965, Validation Accuracy:  0.963, Loss:  0.040\n",
      "Epoch   2 Batch  130/134 - Train Accuracy:  0.956, Validation Accuracy:  0.966, Loss:  0.043\n",
      "Epoch   2 Batch  131/134 - Train Accuracy:  0.953, Validation Accuracy:  0.966, Loss:  0.043\n",
      "Epoch   2 Batch  132/134 - Train Accuracy:  0.963, Validation Accuracy:  0.970, Loss:  0.037\n",
      "Epoch   3 Batch    0/134 - Train Accuracy:  0.960, Validation Accuracy:  0.966, Loss:  0.039\n",
      "Epoch   3 Batch    1/134 - Train Accuracy:  0.949, Validation Accuracy:  0.968, Loss:  0.041\n",
      "Epoch   3 Batch    2/134 - Train Accuracy:  0.964, Validation Accuracy:  0.964, Loss:  0.040\n",
      "Epoch   3 Batch    3/134 - Train Accuracy:  0.958, Validation Accuracy:  0.962, Loss:  0.040\n",
      "Epoch   3 Batch    4/134 - Train Accuracy:  0.963, Validation Accuracy:  0.965, Loss:  0.037\n",
      "Epoch   3 Batch    5/134 - Train Accuracy:  0.957, Validation Accuracy:  0.962, Loss:  0.044\n",
      "Epoch   3 Batch    6/134 - Train Accuracy:  0.960, Validation Accuracy:  0.964, Loss:  0.035\n",
      "Epoch   3 Batch    7/134 - Train Accuracy:  0.960, Validation Accuracy:  0.965, Loss:  0.039\n",
      "Epoch   3 Batch    8/134 - Train Accuracy:  0.962, Validation Accuracy:  0.964, Loss:  0.034\n",
      "Epoch   3 Batch    9/134 - Train Accuracy:  0.963, Validation Accuracy:  0.965, Loss:  0.032\n",
      "Epoch   3 Batch   10/134 - Train Accuracy:  0.960, Validation Accuracy:  0.965, Loss:  0.040\n",
      "Epoch   3 Batch   11/134 - Train Accuracy:  0.956, Validation Accuracy:  0.964, Loss:  0.040\n",
      "Epoch   3 Batch   12/134 - Train Accuracy:  0.957, Validation Accuracy:  0.963, Loss:  0.037\n",
      "Epoch   3 Batch   13/134 - Train Accuracy:  0.955, Validation Accuracy:  0.964, Loss:  0.036\n",
      "Epoch   3 Batch   14/134 - Train Accuracy:  0.961, Validation Accuracy:  0.967, Loss:  0.038\n",
      "Epoch   3 Batch   15/134 - Train Accuracy:  0.963, Validation Accuracy:  0.966, Loss:  0.035\n",
      "Epoch   3 Batch   16/134 - Train Accuracy:  0.962, Validation Accuracy:  0.962, Loss:  0.035\n",
      "Epoch   3 Batch   17/134 - Train Accuracy:  0.961, Validation Accuracy:  0.964, Loss:  0.040\n",
      "Epoch   3 Batch   18/134 - Train Accuracy:  0.964, Validation Accuracy:  0.968, Loss:  0.037\n",
      "Epoch   3 Batch   19/134 - Train Accuracy:  0.956, Validation Accuracy:  0.966, Loss:  0.036\n",
      "Epoch   3 Batch   20/134 - Train Accuracy:  0.961, Validation Accuracy:  0.965, Loss:  0.036\n",
      "Epoch   3 Batch   21/134 - Train Accuracy:  0.963, Validation Accuracy:  0.960, Loss:  0.038\n",
      "Epoch   3 Batch   22/134 - Train Accuracy:  0.961, Validation Accuracy:  0.962, Loss:  0.037\n",
      "Epoch   3 Batch   23/134 - Train Accuracy:  0.969, Validation Accuracy:  0.963, Loss:  0.031\n",
      "Epoch   3 Batch   24/134 - Train Accuracy:  0.956, Validation Accuracy:  0.961, Loss:  0.038\n",
      "Epoch   3 Batch   25/134 - Train Accuracy:  0.967, Validation Accuracy:  0.965, Loss:  0.032\n",
      "Epoch   3 Batch   26/134 - Train Accuracy:  0.966, Validation Accuracy:  0.964, Loss:  0.037\n",
      "Epoch   3 Batch   27/134 - Train Accuracy:  0.956, Validation Accuracy:  0.960, Loss:  0.035\n",
      "Epoch   3 Batch   28/134 - Train Accuracy:  0.964, Validation Accuracy:  0.967, Loss:  0.040\n",
      "Epoch   3 Batch   29/134 - Train Accuracy:  0.964, Validation Accuracy:  0.965, Loss:  0.032\n",
      "Epoch   3 Batch   30/134 - Train Accuracy:  0.955, Validation Accuracy:  0.969, Loss:  0.037\n",
      "Epoch   3 Batch   31/134 - Train Accuracy:  0.957, Validation Accuracy:  0.962, Loss:  0.036\n",
      "Epoch   3 Batch   32/134 - Train Accuracy:  0.962, Validation Accuracy:  0.964, Loss:  0.035\n",
      "Epoch   3 Batch   33/134 - Train Accuracy:  0.961, Validation Accuracy:  0.965, Loss:  0.039\n",
      "Epoch   3 Batch   34/134 - Train Accuracy:  0.958, Validation Accuracy:  0.966, Loss:  0.039\n",
      "Epoch   3 Batch   35/134 - Train Accuracy:  0.964, Validation Accuracy:  0.966, Loss:  0.039\n",
      "Epoch   3 Batch   36/134 - Train Accuracy:  0.962, Validation Accuracy:  0.962, Loss:  0.036\n",
      "Epoch   3 Batch   37/134 - Train Accuracy:  0.960, Validation Accuracy:  0.962, Loss:  0.037\n",
      "Epoch   3 Batch   38/134 - Train Accuracy:  0.964, Validation Accuracy:  0.965, Loss:  0.036\n",
      "Epoch   3 Batch   39/134 - Train Accuracy:  0.963, Validation Accuracy:  0.966, Loss:  0.032\n",
      "Epoch   5 Batch   57/134 - Train Accuracy:  0.978, Validation Accuracy:  0.975, Loss:  0.015\n",
      "Epoch   5 Batch   58/134 - Train Accuracy:  0.979, Validation Accuracy:  0.976, Loss:  0.015\n",
      "Epoch   5 Batch   59/134 - Train Accuracy:  0.974, Validation Accuracy:  0.980, Loss:  0.018\n",
      "Epoch   5 Batch   60/134 - Train Accuracy:  0.974, Validation Accuracy:  0.979, Loss:  0.016\n",
      "Epoch   5 Batch   61/134 - Train Accuracy:  0.976, Validation Accuracy:  0.980, Loss:  0.015\n",
      "Epoch   5 Batch   62/134 - Train Accuracy:  0.971, Validation Accuracy:  0.975, Loss:  0.015\n",
      "Epoch   5 Batch   63/134 - Train Accuracy:  0.981, Validation Accuracy:  0.973, Loss:  0.016\n",
      "Epoch   5 Batch   64/134 - Train Accuracy:  0.973, Validation Accuracy:  0.975, Loss:  0.018\n",
      "Epoch   5 Batch   65/134 - Train Accuracy:  0.974, Validation Accuracy:  0.977, Loss:  0.018\n",
      "Epoch   5 Batch   66/134 - Train Accuracy:  0.976, Validation Accuracy:  0.977, Loss:  0.014\n",
      "Epoch   5 Batch   67/134 - Train Accuracy:  0.976, Validation Accuracy:  0.976, Loss:  0.017\n",
      "Epoch   5 Batch   68/134 - Train Accuracy:  0.975, Validation Accuracy:  0.975, Loss:  0.018\n",
      "Epoch   5 Batch   69/134 - Train Accuracy:  0.971, Validation Accuracy:  0.972, Loss:  0.016\n",
      "Epoch   5 Batch   70/134 - Train Accuracy:  0.977, Validation Accuracy:  0.979, Loss:  0.018\n",
      "Epoch   5 Batch   71/134 - Train Accuracy:  0.981, Validation Accuracy:  0.982, Loss:  0.014\n",
      "Epoch   5 Batch   72/134 - Train Accuracy:  0.977, Validation Accuracy:  0.981, Loss:  0.016\n",
      "Epoch   5 Batch   73/134 - Train Accuracy:  0.981, Validation Accuracy:  0.979, Loss:  0.019\n",
      "Epoch   5 Batch   74/134 - Train Accuracy:  0.973, Validation Accuracy:  0.971, Loss:  0.018\n",
      "Epoch   5 Batch   75/134 - Train Accuracy:  0.977, Validation Accuracy:  0.972, Loss:  0.017\n",
      "Epoch   5 Batch   76/134 - Train Accuracy:  0.984, Validation Accuracy:  0.975, Loss:  0.017\n",
      "Epoch   5 Batch   77/134 - Train Accuracy:  0.975, Validation Accuracy:  0.977, Loss:  0.016\n",
      "Epoch   5 Batch   78/134 - Train Accuracy:  0.976, Validation Accuracy:  0.974, Loss:  0.015\n",
      "Epoch   5 Batch   79/134 - Train Accuracy:  0.980, Validation Accuracy:  0.978, Loss:  0.017\n",
      "Epoch   5 Batch   80/134 - Train Accuracy:  0.980, Validation Accuracy:  0.978, Loss:  0.015\n",
      "Epoch   5 Batch   81/134 - Train Accuracy:  0.977, Validation Accuracy:  0.978, Loss:  0.016\n",
      "Epoch   5 Batch   82/134 - Train Accuracy:  0.981, Validation Accuracy:  0.979, Loss:  0.015\n",
      "Epoch   5 Batch   83/134 - Train Accuracy:  0.979, Validation Accuracy:  0.979, Loss:  0.018\n",
      "Epoch   5 Batch   84/134 - Train Accuracy:  0.976, Validation Accuracy:  0.975, Loss:  0.015\n",
      "Epoch   5 Batch   85/134 - Train Accuracy:  0.978, Validation Accuracy:  0.974, Loss:  0.016\n",
      "Epoch   5 Batch   86/134 - Train Accuracy:  0.977, Validation Accuracy:  0.977, Loss:  0.015\n",
      "Epoch   5 Batch   87/134 - Train Accuracy:  0.976, Validation Accuracy:  0.980, Loss:  0.022\n",
      "Epoch   5 Batch   88/134 - Train Accuracy:  0.980, Validation Accuracy:  0.977, Loss:  0.015\n",
      "Epoch   5 Batch   89/134 - Train Accuracy:  0.980, Validation Accuracy:  0.978, Loss:  0.016\n",
      "Epoch   5 Batch   90/134 - Train Accuracy:  0.979, Validation Accuracy:  0.977, Loss:  0.017\n",
      "Epoch   5 Batch   91/134 - Train Accuracy:  0.983, Validation Accuracy:  0.977, Loss:  0.012\n",
      "Epoch   5 Batch   92/134 - Train Accuracy:  0.981, Validation Accuracy:  0.977, Loss:  0.015\n",
      "Epoch   5 Batch   93/134 - Train Accuracy:  0.980, Validation Accuracy:  0.977, Loss:  0.015\n",
      "Epoch   5 Batch   94/134 - Train Accuracy:  0.978, Validation Accuracy:  0.978, Loss:  0.015\n",
      "Epoch   5 Batch   95/134 - Train Accuracy:  0.977, Validation Accuracy:  0.979, Loss:  0.016\n",
      "Epoch   5 Batch   96/134 - Train Accuracy:  0.978, Validation Accuracy:  0.979, Loss:  0.015\n",
      "Epoch   5 Batch   97/134 - Train Accuracy:  0.978, Validation Accuracy:  0.976, Loss:  0.015\n",
      "Epoch   5 Batch   98/134 - Train Accuracy:  0.976, Validation Accuracy:  0.974, Loss:  0.017\n",
      "Epoch   5 Batch   99/134 - Train Accuracy:  0.984, Validation Accuracy:  0.973, Loss:  0.015\n",
      "Epoch   5 Batch  100/134 - Train Accuracy:  0.977, Validation Accuracy:  0.977, Loss:  0.017\n",
      "Epoch   5 Batch  101/134 - Train Accuracy:  0.978, Validation Accuracy:  0.977, Loss:  0.017\n",
      "Epoch   5 Batch  102/134 - Train Accuracy:  0.973, Validation Accuracy:  0.980, Loss:  0.016\n",
      "Epoch   5 Batch  103/134 - Train Accuracy:  0.980, Validation Accuracy:  0.977, Loss:  0.016\n",
      "Epoch   5 Batch  104/134 - Train Accuracy:  0.977, Validation Accuracy:  0.978, Loss:  0.016\n",
      "Epoch   5 Batch  105/134 - Train Accuracy:  0.975, Validation Accuracy:  0.977, Loss:  0.019\n",
      "Epoch   5 Batch  106/134 - Train Accuracy:  0.979, Validation Accuracy:  0.979, Loss:  0.015\n",
      "Epoch   5 Batch  107/134 - Train Accuracy:  0.972, Validation Accuracy:  0.978, Loss:  0.017\n",
      "Epoch   5 Batch  108/134 - Train Accuracy:  0.979, Validation Accuracy:  0.977, Loss:  0.016\n",
      "Epoch   5 Batch  109/134 - Train Accuracy:  0.981, Validation Accuracy:  0.979, Loss:  0.014\n",
      "Epoch   5 Batch  110/134 - Train Accuracy:  0.978, Validation Accuracy:  0.977, Loss:  0.015\n",
      "Epoch   5 Batch  111/134 - Train Accuracy:  0.976, Validation Accuracy:  0.975, Loss:  0.018\n",
      "Epoch   5 Batch  112/134 - Train Accuracy:  0.978, Validation Accuracy:  0.977, Loss:  0.015\n",
      "Epoch   5 Batch  113/134 - Train Accuracy:  0.979, Validation Accuracy:  0.976, Loss:  0.018\n",
      "Epoch   5 Batch  114/134 - Train Accuracy:  0.982, Validation Accuracy:  0.976, Loss:  0.013\n",
      "Epoch   5 Batch  115/134 - Train Accuracy:  0.974, Validation Accuracy:  0.977, Loss:  0.015\n",
      "Epoch   5 Batch  116/134 - Train Accuracy:  0.981, Validation Accuracy:  0.978, Loss:  0.016\n",
      "Epoch   5 Batch  117/134 - Train Accuracy:  0.986, Validation Accuracy:  0.979, Loss:  0.012\n",
      "Epoch   5 Batch  118/134 - Train Accuracy:  0.983, Validation Accuracy:  0.979, Loss:  0.015\n",
      "Epoch   5 Batch  119/134 - Train Accuracy:  0.981, Validation Accuracy:  0.978, Loss:  0.015\n",
      "Epoch   5 Batch  120/134 - Train Accuracy:  0.976, Validation Accuracy:  0.977, Loss:  0.018\n",
      "Epoch   5 Batch  121/134 - Train Accuracy:  0.978, Validation Accuracy:  0.978, Loss:  0.015\n",
      "Epoch   5 Batch  122/134 - Train Accuracy:  0.973, Validation Accuracy:  0.978, Loss:  0.016\n",
      "Epoch   5 Batch  123/134 - Train Accuracy:  0.979, Validation Accuracy:  0.977, Loss:  0.015\n",
      "Epoch   5 Batch  124/134 - Train Accuracy:  0.983, Validation Accuracy:  0.978, Loss:  0.013\n",
      "Epoch   5 Batch  125/134 - Train Accuracy:  0.983, Validation Accuracy:  0.979, Loss:  0.014\n",
      "Epoch   5 Batch  126/134 - Train Accuracy:  0.979, Validation Accuracy:  0.980, Loss:  0.016\n",
      "Epoch   5 Batch  127/134 - Train Accuracy:  0.974, Validation Accuracy:  0.979, Loss:  0.016\n",
      "Epoch   5 Batch  128/134 - Train Accuracy:  0.978, Validation Accuracy:  0.977, Loss:  0.017\n",
      "Epoch   5 Batch  129/134 - Train Accuracy:  0.981, Validation Accuracy:  0.976, Loss:  0.014\n",
      "Epoch   5 Batch  130/134 - Train Accuracy:  0.978, Validation Accuracy:  0.977, Loss:  0.017\n",
      "Epoch   5 Batch  131/134 - Train Accuracy:  0.976, Validation Accuracy:  0.978, Loss:  0.014\n",
      "Epoch   5 Batch  132/134 - Train Accuracy:  0.980, Validation Accuracy:  0.979, Loss:  0.012\n",
      "Model Trained and Saved\n"
     ]
    }
   ],
   "source": [
    "\"\"\"\n",
    "DON'T MODIFY ANYTHING IN THIS CELL\n",
    "\"\"\"\n",
    "import time\n",
    "\n",
    "def get_accuracy(target, logits):\n",
    "    \"\"\"\n",
    "    Calculate accuracy\n",
    "    \"\"\"\n",
    "    max_seq = max(target.shape[1], logits.shape[1])\n",
    "    if max_seq - target.shape[1]:\n",
    "        target = np.pad(\n",
    "            target,\n",
    "            [(0,0),(0,max_seq - target.shape[1])],\n",
    "            'constant')\n",
    "    if max_seq - logits.shape[1]:\n",
    "        logits = np.pad(\n",
    "            logits,\n",
    "            [(0,0),(0,max_seq - logits.shape[1]), (0,0)],\n",
    "            'constant')\n",
    "\n",
    "    return np.mean(np.equal(target, np.argmax(logits, 2)))\n",
    "\n",
    "train_source = source_int_text[batch_size:]\n",
    "train_target = target_int_text[batch_size:]\n",
    "\n",
    "valid_source = helper.pad_sentence_batch(source_int_text[:batch_size])\n",
    "valid_target = helper.pad_sentence_batch(target_int_text[:batch_size])\n",
    "\n",
    "with tf.Session(graph=train_graph) as sess:\n",
    "    sess.run(tf.global_variables_initializer())\n",
    "\n",
    "    for epoch_i in range(epochs):\n",
    "        for batch_i, (source_batch, target_batch) in enumerate(\n",
    "                helper.batch_data(train_source, train_target, batch_size)):\n",
    "            start_time = time.time()\n",
    "            \n",
    "            _, loss = sess.run(\n",
    "                [train_op, cost],\n",
    "                {input_data: source_batch,\n",
    "                 targets: target_batch,\n",
    "                 lr: learning_rate,\n",
    "                 sequence_length: target_batch.shape[1],\n",
    "                 keep_prob: keep_probability})\n",
    "            \n",
    "            batch_train_logits = sess.run(\n",
    "                inference_logits,\n",
    "                {input_data: source_batch, keep_prob: 1.0})\n",
    "            batch_valid_logits = sess.run(\n",
    "                inference_logits,\n",
    "                {input_data: valid_source, keep_prob: 1.0})\n",
    "                \n",
    "            train_acc = get_accuracy(target_batch, batch_train_logits)\n",
    "            valid_acc = get_accuracy(np.array(valid_target), batch_valid_logits)\n",
    "            end_time = time.time()\n",
    "            print('Epoch {:>3} Batch {:>4}/{} - Train Accuracy: {:>6.3f}, Validation Accuracy: {:>6.3f}, Loss: {:>6.3f}'\n",
    "                  .format(epoch_i, batch_i, len(source_int_text) // batch_size, train_acc, valid_acc, loss))\n",
    "\n",
    "    # Save Model\n",
    "    saver = tf.train.Saver()\n",
    "    saver.save(sess, save_path)\n",
    "    print('Model Trained and Saved')"
   ]
  },
  {
   "cell_type": "markdown",
   "metadata": {
    "deletable": true,
    "editable": true
   },
   "source": [
    "### Save Parameters\n",
    "Save the `batch_size` and `save_path` parameters for inference."
   ]
  },
  {
   "cell_type": "code",
   "execution_count": 26,
   "metadata": {
    "collapsed": false,
    "deletable": true,
    "editable": true
   },
   "outputs": [],
   "source": [
    "\"\"\"\n",
    "DON'T MODIFY ANYTHING IN THIS CELL\n",
    "\"\"\"\n",
    "# Save parameters for checkpoint\n",
    "helper.save_params(save_path)"
   ]
  },
  {
   "cell_type": "markdown",
   "metadata": {
    "deletable": true,
    "editable": true
   },
   "source": [
    "# Checkpoint"
   ]
  },
  {
   "cell_type": "code",
   "execution_count": 27,
   "metadata": {
    "collapsed": false,
    "deletable": true,
    "editable": true
   },
   "outputs": [],
   "source": [
    "\"\"\"\n",
    "DON'T MODIFY ANYTHING IN THIS CELL\n",
    "\"\"\"\n",
    "import tensorflow as tf\n",
    "import numpy as np\n",
    "import helper\n",
    "import problem_unittests as tests\n",
    "\n",
    "_, (source_vocab_to_int, target_vocab_to_int), (source_int_to_vocab, target_int_to_vocab) = helper.load_preprocess()\n",
    "load_path = helper.load_params()"
   ]
  },
  {
   "cell_type": "markdown",
   "metadata": {
    "deletable": true,
    "editable": true
   },
   "source": [
    "## Sentence to Sequence\n",
    "To feed a sentence into the model for translation, you first need to preprocess it.  Implement the function `sentence_to_seq()` to preprocess new sentences.\n",
    "\n",
    "- Convert the sentence to lowercase\n",
    "- Convert words into ids using `vocab_to_int`\n",
    "- Convert words not in the vocabulary, to the `<UNK>` word id."
   ]
  },
  {
   "cell_type": "code",
   "execution_count": 28,
   "metadata": {
    "collapsed": false,
    "deletable": true,
    "editable": true
   },
   "outputs": [
    {
     "name": "stdout",
     "output_type": "stream",
     "text": [
      "Tests Passed\n"
     ]
    }
   ],
   "source": [
    "def sentence_to_seq(sentence, vocab_to_int):\n",
    "    \"\"\"\n",
    "    Convert a sentence to a sequence of ids\n",
    "    :param sentence: String\n",
    "    :param vocab_to_int: Dictionary to go from the words to an id\n",
    "    :return: List of word ids\n",
    "    \"\"\"\n",
    "    # TODO: Implement Function\n",
    "    WRDS = sentence.lower().split(' ') # WARNING : to we also need to take care of commas and other signs ?\n",
    "    IDs = [(vocab_to_int[wrd] if wrd in vocab_to_int else vocab_to_int['<UNK>']) for wrd in WRDS]\n",
    "    return IDs\n",
    "\n",
    "\"\"\"\n",
    "DON'T MODIFY ANYTHING IN THIS CELL THAT IS BELOW THIS LINE\n",
    "\"\"\"\n",
    "tests.test_sentence_to_seq(sentence_to_seq)"
   ]
  },
  {
   "cell_type": "markdown",
   "metadata": {
    "deletable": true,
    "editable": true
   },
   "source": [
    "## Translate\n",
    "This will translate `translate_sentence` from English to French."
   ]
  },
  {
   "cell_type": "code",
   "execution_count": 29,
   "metadata": {
    "collapsed": false,
    "deletable": true,
    "editable": true
   },
   "outputs": [
    {
     "name": "stdout",
     "output_type": "stream",
     "text": [
      "Input\n",
      "  Word Ids:      [145, 67, 211, 156, 54, 146, 47]\n",
      "  English Words: ['he', 'saw', 'a', 'old', 'yellow', 'truck', '.']\n",
      "\n",
      "Prediction\n",
      "  Word Ids:      [112, 174, 212, 307, 42, 291, 296, 104, 1]\n",
      "  French Words: ['il', 'a', 'vu', 'un', 'vieux', 'camion', 'noir', '.', '<EOS>']\n"
     ]
    }
   ],
   "source": [
    "translate_sentence = 'he saw a old yellow truck .'\n",
    "\n",
    "\n",
    "\"\"\"\n",
    "DON'T MODIFY ANYTHING IN THIS CELL\n",
    "\"\"\"\n",
    "translate_sentence = sentence_to_seq(translate_sentence, source_vocab_to_int)\n",
    "\n",
    "loaded_graph = tf.Graph()\n",
    "with tf.Session(graph=loaded_graph) as sess:\n",
    "    # Load saved model\n",
    "    loader = tf.train.import_meta_graph(load_path + '.meta')\n",
    "    loader.restore(sess, load_path)\n",
    "\n",
    "    input_data = loaded_graph.get_tensor_by_name('input:0')\n",
    "    logits = loaded_graph.get_tensor_by_name('logits:0')\n",
    "    keep_prob = loaded_graph.get_tensor_by_name('keep_prob:0')\n",
    "\n",
    "    translate_logits = sess.run(logits, {input_data: [translate_sentence], keep_prob: 1.0})[0]\n",
    "\n",
    "print('Input')\n",
    "print('  Word Ids:      {}'.format([i for i in translate_sentence]))\n",
    "print('  English Words: {}'.format([source_int_to_vocab[i] for i in translate_sentence]))\n",
    "\n",
    "print('\\nPrediction')\n",
    "print('  Word Ids:      {}'.format([i for i in np.argmax(translate_logits, 1)]))\n",
    "print('  French Words: {}'.format([target_int_to_vocab[i] for i in np.argmax(translate_logits, 1)]))"
   ]
  },
  {
   "cell_type": "markdown",
   "metadata": {
    "deletable": true,
    "editable": true
   },
   "source": [
    "## Imperfect Translation\n",
    "You might notice that some sentences translate better than others.  Since the dataset you're using only has a vocabulary of 227 English words of the thousands that you use, you're only going to see good results using these words.  Additionally, the translations in this data set were made by Google translate, so the translations themselves aren't particularly good.  (We apologize to the French speakers out there!) Thankfully, for this project, you don't need a perfect translation. However, if you want to create a better translation model, you'll need better data.\n",
    "\n",
    "You can train on the [WMT10 French-English corpus](http://www.statmt.org/wmt10/training-giga-fren.tar).  This dataset has more vocabulary and richer in topics discussed.  However, this will take you days to train, so make sure you've a GPU and the neural network is performing well on dataset we provided.  Just make sure you play with the WMT10 corpus after you've submitted this project.\n",
    "## Submitting This Project\n",
    "When submitting this project, make sure to run all the cells before saving the notebook. Save the notebook file as \"dlnd_language_translation.ipynb\" and save it as a HTML file under \"File\" -> \"Download as\". Include the \"helper.py\" and \"problem_unittests.py\" files in your submission."
   ]
  },
  {
   "cell_type": "markdown",
   "metadata": {},
   "source": [
    "### To convert as html from console :\n",
    "* jupyter nbconvert --to html dlnd_language_translation.ipynb"
   ]
  },
  {
   "cell_type": "code",
   "execution_count": null,
   "metadata": {
    "collapsed": true
   },
   "outputs": [],
   "source": []
  }
 ],
 "metadata": {
  "anaconda-cloud": {},
  "kernelspec": {
   "display_name": "Python [conda env:py35_tf_v10]",
   "language": "python",
   "name": "conda-env-py35_tf_v10-py"
  },
  "language_info": {
   "codemirror_mode": {
    "name": "ipython",
    "version": 3
   },
   "file_extension": ".py",
   "mimetype": "text/x-python",
   "name": "python",
   "nbconvert_exporter": "python",
   "pygments_lexer": "ipython3",
   "version": "3.5.3"
  }
 },
 "nbformat": 4,
 "nbformat_minor": 0
}
