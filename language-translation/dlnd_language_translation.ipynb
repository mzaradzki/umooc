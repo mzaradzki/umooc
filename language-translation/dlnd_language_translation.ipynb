{
 "cells": [
  {
   "cell_type": "markdown",
   "metadata": {
    "collapsed": true,
    "deletable": true,
    "editable": true
   },
   "source": [
    "# Language Translation\n",
    "In this project, you’re going to take a peek into the realm of neural network machine translation.  You’ll be training a sequence to sequence model on a dataset of English and French sentences that can translate new sentences from English to French.\n",
    "## Get the Data\n",
    "Since translating the whole language of English to French will take lots of time to train, we have provided you with a small portion of the English corpus."
   ]
  },
  {
   "cell_type": "code",
   "execution_count": 1,
   "metadata": {
    "collapsed": false,
    "deletable": true,
    "editable": true
   },
   "outputs": [],
   "source": [
    "\"\"\"\n",
    "DON'T MODIFY ANYTHING IN THIS CELL\n",
    "\"\"\"\n",
    "import helper\n",
    "import problem_unittests as tests\n",
    "\n",
    "source_path = 'data/small_vocab_en'\n",
    "target_path = 'data/small_vocab_fr'\n",
    "source_text = helper.load_data(source_path)\n",
    "target_text = helper.load_data(target_path)"
   ]
  },
  {
   "cell_type": "markdown",
   "metadata": {
    "deletable": true,
    "editable": true
   },
   "source": [
    "## Explore the Data\n",
    "Play around with view_sentence_range to view different parts of the data."
   ]
  },
  {
   "cell_type": "code",
   "execution_count": 2,
   "metadata": {
    "collapsed": false,
    "deletable": true,
    "editable": true
   },
   "outputs": [
    {
     "name": "stdout",
     "output_type": "stream",
     "text": [
      "Dataset Stats\n",
      "Roughly the number of unique words: 227\n",
      "Number of sentences: 137861\n",
      "Average number of words in a sentence: 13.225277634719028\n",
      "\n",
      "English sentences 0 to 10:\n",
      "new jersey is sometimes quiet during autumn , and it is snowy in april .\n",
      "the united states is usually chilly during july , and it is usually freezing in november .\n",
      "california is usually quiet during march , and it is usually hot in june .\n",
      "the united states is sometimes mild during june , and it is cold in september .\n",
      "your least liked fruit is the grape , but my least liked is the apple .\n",
      "his favorite fruit is the orange , but my favorite is the grape .\n",
      "paris is relaxing during december , but it is usually chilly in july .\n",
      "new jersey is busy during spring , and it is never hot in march .\n",
      "our least liked fruit is the lemon , but my least liked is the grape .\n",
      "the united states is sometimes busy during january , and it is sometimes warm in november .\n",
      "\n",
      "French sentences 0 to 10:\n",
      "new jersey est parfois calme pendant l' automne , et il est neigeux en avril .\n",
      "les états-unis est généralement froid en juillet , et il gèle habituellement en novembre .\n",
      "california est généralement calme en mars , et il est généralement chaud en juin .\n",
      "les états-unis est parfois légère en juin , et il fait froid en septembre .\n",
      "votre moins aimé fruit est le raisin , mais mon moins aimé est la pomme .\n",
      "son fruit préféré est l'orange , mais mon préféré est le raisin .\n",
      "paris est relaxant en décembre , mais il est généralement froid en juillet .\n",
      "new jersey est occupé au printemps , et il est jamais chaude en mars .\n",
      "notre fruit est moins aimé le citron , mais mon moins aimé est le raisin .\n",
      "les états-unis est parfois occupé en janvier , et il est parfois chaud en novembre .\n"
     ]
    }
   ],
   "source": [
    "view_sentence_range = (0, 10)\n",
    "\n",
    "\"\"\"\n",
    "DON'T MODIFY ANYTHING IN THIS CELL\n",
    "\"\"\"\n",
    "import numpy as np\n",
    "\n",
    "print('Dataset Stats')\n",
    "print('Roughly the number of unique words: {}'.format(len({word: None for word in source_text.split()})))\n",
    "\n",
    "sentences = source_text.split('\\n')\n",
    "word_counts = [len(sentence.split()) for sentence in sentences]\n",
    "print('Number of sentences: {}'.format(len(sentences)))\n",
    "print('Average number of words in a sentence: {}'.format(np.average(word_counts)))\n",
    "\n",
    "print()\n",
    "print('English sentences {} to {}:'.format(*view_sentence_range))\n",
    "print('\\n'.join(source_text.split('\\n')[view_sentence_range[0]:view_sentence_range[1]]))\n",
    "print()\n",
    "print('French sentences {} to {}:'.format(*view_sentence_range))\n",
    "print('\\n'.join(target_text.split('\\n')[view_sentence_range[0]:view_sentence_range[1]]))"
   ]
  },
  {
   "cell_type": "markdown",
   "metadata": {
    "deletable": true,
    "editable": true
   },
   "source": [
    "## Implement Preprocessing Function\n",
    "### Text to Word Ids\n",
    "As you did with other RNNs, you must turn the text into a number so the computer can understand it. In the function `text_to_ids()`, you'll turn `source_text` and `target_text` from words to ids.  However, you need to add the `<EOS>` word id at the end of each sentence from `target_text`.  This will help the neural network predict when the sentence should end.\n",
    "\n",
    "You can get the `<EOS>` word id by doing:\n",
    "```python\n",
    "target_vocab_to_int['<EOS>']\n",
    "```\n",
    "You can get other word ids using `source_vocab_to_int` and `target_vocab_to_int`."
   ]
  },
  {
   "cell_type": "code",
   "execution_count": 3,
   "metadata": {
    "collapsed": false,
    "deletable": true,
    "editable": true
   },
   "outputs": [
    {
     "name": "stdout",
     "output_type": "stream",
     "text": [
      "Tests Passed\n"
     ]
    }
   ],
   "source": [
    "def text_to_ids(source_text, target_text, source_vocab_to_int, target_vocab_to_int):\n",
    "    \"\"\"\n",
    "    Convert source and target text to proper word ids\n",
    "    :param source_text: String that contains all the source text.\n",
    "    :param target_text: String that contains all the target text.\n",
    "    :param source_vocab_to_int: Dictionary to go from the source words to an id\n",
    "    :param target_vocab_to_int: Dictionary to go from the target words to an id\n",
    "    :return: A tuple of lists (source_id_text, target_id_text)\n",
    "    \"\"\"\n",
    "    # TODO: Implement Function\n",
    "    \n",
    "    source_id_text = []\n",
    "    for stnc in source_text.split('\\n'):\n",
    "        L = []\n",
    "        for wrd in stnc.split(' '):\n",
    "            if len(wrd)>0:\n",
    "                L.append( source_vocab_to_int[wrd] )\n",
    "        source_id_text.append( L )\n",
    "            \n",
    "    target_id_text = []\n",
    "    for stnc in target_text.split('\\n'):\n",
    "        L = []\n",
    "        for wrd in stnc.split(' '):\n",
    "            if len(wrd)>0:\n",
    "                L.append( target_vocab_to_int[wrd] )\n",
    "        L.append( target_vocab_to_int['<EOS>'] ) # WARNING : <EOS> only for the TARGET sentences\n",
    "        target_id_text.append( L )\n",
    "    \n",
    "    return source_id_text, target_id_text\n",
    "\n",
    "\"\"\"\n",
    "DON'T MODIFY ANYTHING IN THIS CELL THAT IS BELOW THIS LINE\n",
    "\"\"\"\n",
    "tests.test_text_to_ids(text_to_ids)"
   ]
  },
  {
   "cell_type": "markdown",
   "metadata": {
    "deletable": true,
    "editable": true
   },
   "source": [
    "### Preprocess all the data and save it\n",
    "Running the code cell below will preprocess all the data and save it to file."
   ]
  },
  {
   "cell_type": "code",
   "execution_count": 4,
   "metadata": {
    "collapsed": false,
    "deletable": true,
    "editable": true
   },
   "outputs": [],
   "source": [
    "\"\"\"\n",
    "DON'T MODIFY ANYTHING IN THIS CELL\n",
    "\"\"\"\n",
    "helper.preprocess_and_save_data(source_path, target_path, text_to_ids)"
   ]
  },
  {
   "cell_type": "markdown",
   "metadata": {
    "deletable": true,
    "editable": true
   },
   "source": [
    "# Check Point\n",
    "This is your first checkpoint. If you ever decide to come back to this notebook or have to restart the notebook, you can start from here. The preprocessed data has been saved to disk."
   ]
  },
  {
   "cell_type": "code",
   "execution_count": 5,
   "metadata": {
    "collapsed": false,
    "deletable": true,
    "editable": true
   },
   "outputs": [],
   "source": [
    "\"\"\"\n",
    "DON'T MODIFY ANYTHING IN THIS CELL\n",
    "\"\"\"\n",
    "import numpy as np\n",
    "import helper\n",
    "\n",
    "(source_int_text, target_int_text), (source_vocab_to_int, target_vocab_to_int), _ = helper.load_preprocess()"
   ]
  },
  {
   "cell_type": "markdown",
   "metadata": {
    "deletable": true,
    "editable": true
   },
   "source": [
    "### Check the Version of TensorFlow and Access to GPU\n",
    "This will check to make sure you have the correct version of TensorFlow and access to a GPU"
   ]
  },
  {
   "cell_type": "code",
   "execution_count": 6,
   "metadata": {
    "collapsed": false,
    "deletable": true,
    "editable": true
   },
   "outputs": [
    {
     "name": "stdout",
     "output_type": "stream",
     "text": [
      "TensorFlow Version: 1.0.1\n",
      "Default GPU Device: /gpu:0\n"
     ]
    }
   ],
   "source": [
    "\"\"\"\n",
    "DON'T MODIFY ANYTHING IN THIS CELL\n",
    "\"\"\"\n",
    "from distutils.version import LooseVersion\n",
    "import warnings\n",
    "import tensorflow as tf\n",
    "\n",
    "# Check TensorFlow Version\n",
    "assert LooseVersion(tf.__version__) in [LooseVersion('1.0.0'), LooseVersion('1.0.1')], 'This project requires TensorFlow version 1.0  You are using {}'.format(tf.__version__)\n",
    "print('TensorFlow Version: {}'.format(tf.__version__))\n",
    "\n",
    "# Check for a GPU\n",
    "if not tf.test.gpu_device_name():\n",
    "    warnings.warn('No GPU found. Please use a GPU to train your neural network.')\n",
    "else:\n",
    "    print('Default GPU Device: {}'.format(tf.test.gpu_device_name()))"
   ]
  },
  {
   "cell_type": "code",
   "execution_count": 45,
   "metadata": {
    "collapsed": true
   },
   "outputs": [],
   "source": [
    "VERBOSE = False"
   ]
  },
  {
   "cell_type": "markdown",
   "metadata": {
    "deletable": true,
    "editable": true
   },
   "source": [
    "## Build the Neural Network\n",
    "You'll build the components necessary to build a Sequence-to-Sequence model by implementing the following functions below:\n",
    "- `model_inputs`\n",
    "- `process_decoding_input`\n",
    "- `encoding_layer`\n",
    "- `decoding_layer_train`\n",
    "- `decoding_layer_infer`\n",
    "- `decoding_layer`\n",
    "- `seq2seq_model`\n",
    "\n",
    "### Input\n",
    "Implement the `model_inputs()` function to create TF Placeholders for the Neural Network. It should create the following placeholders:\n",
    "\n",
    "- Input text placeholder named \"input\" using the TF Placeholder name parameter with rank 2.\n",
    "- Targets placeholder with rank 2.\n",
    "- Learning rate placeholder with rank 0.\n",
    "- Keep probability placeholder named \"keep_prob\" using the TF Placeholder name parameter with rank 0.\n",
    "\n",
    "Return the placeholders in the following the tuple (Input, Targets, Learing Rate, Keep Probability)"
   ]
  },
  {
   "cell_type": "code",
   "execution_count": 46,
   "metadata": {
    "collapsed": false,
    "deletable": true,
    "editable": true
   },
   "outputs": [
    {
     "name": "stdout",
     "output_type": "stream",
     "text": [
      "Tests Passed\n"
     ]
    }
   ],
   "source": [
    "def model_inputs():\n",
    "    \"\"\"\n",
    "    Create TF Placeholders for input, targets, and learning rate.\n",
    "    :return: Tuple (input, targets, learning rate, keep probability)\n",
    "    \"\"\"\n",
    "    # TODO: Implement Function\n",
    "    if VERBOSE:\n",
    "        print('FUNCTION : model_inputs')\n",
    "    inputs = tf.placeholder(tf.int32, shape=(None, None), name='input')\n",
    "    targets = tf.placeholder(tf.int32, shape=(None, None))\n",
    "    learning_rate = tf.placeholder(tf.float32, shape=None)\n",
    "    keep_prob = tf.placeholder(tf.float32, shape=None, name='keep_prob')\n",
    "    return inputs, targets, learning_rate, keep_prob\n",
    "\n",
    "\"\"\"\n",
    "DON'T MODIFY ANYTHING IN THIS CELL THAT IS BELOW THIS LINE\n",
    "\"\"\"\n",
    "tests.test_model_inputs(model_inputs)"
   ]
  },
  {
   "cell_type": "markdown",
   "metadata": {
    "deletable": true,
    "editable": true
   },
   "source": [
    "### Process Decoding Input\n",
    "Implement `process_decoding_input` using TensorFlow to remove the last word id from each batch in `target_data` and concat the GO ID to the beginning of each batch."
   ]
  },
  {
   "cell_type": "code",
   "execution_count": 55,
   "metadata": {
    "collapsed": false,
    "deletable": true,
    "editable": true
   },
   "outputs": [
    {
     "name": "stdout",
     "output_type": "stream",
     "text": [
      "Tests Passed\n"
     ]
    }
   ],
   "source": [
    "def process_decoding_input(target_data, target_vocab_to_int, batch_size):\n",
    "    \"\"\"\n",
    "    Preprocess target data for decoding\n",
    "    :param target_data: Target Placeholder\n",
    "    :param target_vocab_to_int: Dictionary to go from the target words to an id\n",
    "    :param batch_size: Batch Size\n",
    "    :return: Preprocessed target data\n",
    "    \"\"\"\n",
    "    # TODO: Implement Function\n",
    "    if VERBOSE:\n",
    "        print('FUNCTION : process_decoding_input')\n",
    "    # INFO : target data is as INTEGER (so already coded) so only need dictionary to find GO ID\n",
    "    # INFO : tensor shape is (batch_size, nb_words)\n",
    "    \n",
    "    # Create a vector of GO_ID\n",
    "    goid = target_vocab_to_int['<GO>']\n",
    "    goid_tensor = tf.constant(goid, dtype=tf.int32, shape=[batch_size,1], verify_shape=False)\n",
    "    \n",
    "    # Remove the last column of target_data\n",
    "    if VERBOSE:\n",
    "        print(target_data)\n",
    "    sliced_target_data = tf.strided_slice(target_data,\n",
    "                                          [0, 0],\n",
    "                                          [batch_size, -1],\n",
    "                                          [1,1]) # INFO : still confused about the way to do this with \"slice\"\n",
    "    if VERBOSE:\n",
    "        print(sliced_target_data)\n",
    "    \n",
    "    # Append GO_ID vector to 1 column of tensor\n",
    "    return tf.concat([goid_tensor, sliced_target_data], 1)\n",
    "\n",
    "\"\"\"\n",
    "DON'T MODIFY ANYTHING IN THIS CELL THAT IS BELOW THIS LINE\n",
    "\"\"\"\n",
    "tests.test_process_decoding_input(process_decoding_input)"
   ]
  },
  {
   "cell_type": "markdown",
   "metadata": {
    "deletable": true,
    "editable": true
   },
   "source": [
    "### Encoding\n",
    "Implement `encoding_layer()` to create a Encoder RNN layer using [`tf.nn.dynamic_rnn()`](https://www.tensorflow.org/api_docs/python/tf/nn/dynamic_rnn)."
   ]
  },
  {
   "cell_type": "code",
   "execution_count": 9,
   "metadata": {
    "collapsed": false
   },
   "outputs": [],
   "source": [
    "from tensorflow.contrib.rnn import BasicLSTMCell, MultiRNNCell, DropoutWrapper\n",
    "from tensorflow.python.ops.rnn import dynamic_rnn"
   ]
  },
  {
   "cell_type": "code",
   "execution_count": 48,
   "metadata": {
    "collapsed": false,
    "deletable": true,
    "editable": true
   },
   "outputs": [
    {
     "name": "stdout",
     "output_type": "stream",
     "text": [
      "Tests Passed\n"
     ]
    }
   ],
   "source": [
    "def encoding_layer(rnn_inputs, rnn_size, num_layers, keep_prob):\n",
    "    \"\"\"\n",
    "    Create encoding layer\n",
    "    :param rnn_inputs: Inputs for the RNN\n",
    "    :param rnn_size: RNN Size\n",
    "    :param num_layers: Number of layers\n",
    "    :param keep_prob: Dropout keep probability\n",
    "    :return: RNN state\n",
    "    \"\"\"\n",
    "    # TODO: Implement Function\n",
    "    if VERBOSE:\n",
    "        print('FUNCTION : encoding_layer')\n",
    "    cells = []\n",
    "    for i in range(num_layers):\n",
    "        cells.append( BasicLSTMCell(rnn_size) )\n",
    "    \n",
    "    Cell = MultiRNNCell(cells)\n",
    "    #zs = Cell.zero_state(batch_size, tf.float32) # WARNING : we need a 0 state initialization ?\n",
    "    #tf.identity(zs, name='initial_state')\n",
    "    DOCell = DropoutWrapper(Cell, output_keep_prob=keep_prob)\n",
    "    outputs, fs = dynamic_rnn(DOCell, rnn_inputs,\n",
    "                              dtype=tf.float32)\n",
    "    return fs\n",
    "\n",
    "\"\"\"\n",
    "DON'T MODIFY ANYTHING IN THIS CELL THAT IS BELOW THIS LINE\n",
    "\"\"\"\n",
    "tests.test_encoding_layer(encoding_layer)"
   ]
  },
  {
   "cell_type": "markdown",
   "metadata": {
    "deletable": true,
    "editable": true
   },
   "source": [
    "### Decoding - Training\n",
    "Create training logits using [`tf.contrib.seq2seq.simple_decoder_fn_train()`](https://www.tensorflow.org/versions/r1.0/api_docs/python/tf/contrib/seq2seq/simple_decoder_fn_train) and [`tf.contrib.seq2seq.dynamic_rnn_decoder()`](https://www.tensorflow.org/versions/r1.0/api_docs/python/tf/contrib/seq2seq/dynamic_rnn_decoder).  Apply the `output_fn` to the [`tf.contrib.seq2seq.dynamic_rnn_decoder()`](https://www.tensorflow.org/versions/r1.0/api_docs/python/tf/contrib/seq2seq/dynamic_rnn_decoder) outputs."
   ]
  },
  {
   "cell_type": "code",
   "execution_count": 11,
   "metadata": {
    "collapsed": false
   },
   "outputs": [],
   "source": [
    "from tensorflow.contrib.seq2seq import simple_decoder_fn_train, dynamic_rnn_decoder"
   ]
  },
  {
   "cell_type": "code",
   "execution_count": 49,
   "metadata": {
    "collapsed": false,
    "deletable": true,
    "editable": true
   },
   "outputs": [
    {
     "name": "stdout",
     "output_type": "stream",
     "text": [
      "Tests Passed\n"
     ]
    }
   ],
   "source": [
    "def decoding_layer_train(encoder_state, dec_cell, dec_embed_input, sequence_length, decoding_scope,\n",
    "                         output_fn, keep_prob):\n",
    "    \"\"\"\n",
    "    Create a decoding layer for training\n",
    "    :param encoder_state: Encoder State\n",
    "    :param dec_cell: Decoder RNN Cell\n",
    "    :param dec_embed_input: Decoder embedded input\n",
    "    :param sequence_length: Sequence Length\n",
    "    :param decoding_scope: TenorFlow Variable Scope for decoding\n",
    "    :param output_fn: Function to apply the output layer\n",
    "    :param keep_prob: Dropout keep probability\n",
    "    :return: Train Logits\n",
    "    \"\"\"\n",
    "    # TODO: Implement Function\n",
    "    if VERBOSE:\n",
    "        print('FUNCTION : decoding_layer_train')\n",
    "    DOCell = DropoutWrapper(dec_cell, output_keep_prob=keep_prob)\n",
    "    \n",
    "    dynamic_fn_train = simple_decoder_fn_train(encoder_state)\n",
    "    \n",
    "    outputs, final_state, final_context_state = dynamic_rnn_decoder(DOCell,\n",
    "                                                                    decoder_fn=dynamic_fn_train,\n",
    "                                                                    inputs=dec_embed_input,\n",
    "                                                                    sequence_length=sequence_length,\n",
    "                                                                    scope=decoding_scope)\n",
    "                                                                    #parallel_iterations=None,\n",
    "                                                                    #swap_memory=False,\n",
    "                                                                    #time_major=False\n",
    "    return output_fn(outputs)\n",
    "\n",
    "\n",
    "\"\"\"\n",
    "DON'T MODIFY ANYTHING IN THIS CELL THAT IS BELOW THIS LINE\n",
    "\"\"\"\n",
    "tests.test_decoding_layer_train(decoding_layer_train)"
   ]
  },
  {
   "cell_type": "markdown",
   "metadata": {
    "deletable": true,
    "editable": true
   },
   "source": [
    "### Decoding - Inference\n",
    "Create inference logits using [`tf.contrib.seq2seq.simple_decoder_fn_inference()`](https://www.tensorflow.org/versions/r1.0/api_docs/python/tf/contrib/seq2seq/simple_decoder_fn_inference) and [`tf.contrib.seq2seq.dynamic_rnn_decoder()`](https://www.tensorflow.org/versions/r1.0/api_docs/python/tf/contrib/seq2seq/dynamic_rnn_decoder). "
   ]
  },
  {
   "cell_type": "code",
   "execution_count": 13,
   "metadata": {
    "collapsed": true
   },
   "outputs": [],
   "source": [
    "from tensorflow.contrib.seq2seq import simple_decoder_fn_inference"
   ]
  },
  {
   "cell_type": "code",
   "execution_count": 50,
   "metadata": {
    "collapsed": false,
    "deletable": true,
    "editable": true
   },
   "outputs": [
    {
     "name": "stdout",
     "output_type": "stream",
     "text": [
      "Tests Passed\n"
     ]
    }
   ],
   "source": [
    "def decoding_layer_infer(encoder_state, dec_cell, dec_embeddings, start_of_sequence_id, end_of_sequence_id,\n",
    "                         maximum_length, vocab_size, decoding_scope, output_fn, keep_prob):\n",
    "    \"\"\"\n",
    "    Create a decoding layer for inference\n",
    "    :param encoder_state: Encoder state\n",
    "    :param dec_cell: Decoder RNN Cell\n",
    "    :param dec_embeddings: Decoder embeddings\n",
    "    :param start_of_sequence_id: GO ID\n",
    "    :param end_of_sequence_id: EOS Id\n",
    "    :param maximum_length: The maximum allowed time steps to decode\n",
    "    :param vocab_size: Size of vocabulary\n",
    "    :param decoding_scope: TensorFlow Variable Scope for decoding\n",
    "    :param output_fn: Function to apply the output layer\n",
    "    :param keep_prob: Dropout keep probability\n",
    "    :return: Inference Logits\n",
    "    \"\"\"\n",
    "    # TODO: Implement Function\n",
    "    if VERBOSE:\n",
    "        print('FUNCTION : decoding_layer_infer')\n",
    "    DOCell = DropoutWrapper(dec_cell, output_keep_prob=keep_prob)\n",
    "    \n",
    "    dynamic_fn_inference = simple_decoder_fn_inference(output_fn,\n",
    "                                                       encoder_state,\n",
    "                                                       dec_embeddings,\n",
    "                                                       start_of_sequence_id,\n",
    "                                                       end_of_sequence_id,\n",
    "                                                       maximum_length,\n",
    "                                                       vocab_size) # dtype=tf.int32, name=None\n",
    "    \n",
    "    outputs, final_state, final_context_state = dynamic_rnn_decoder(DOCell,\n",
    "                                                                    decoder_fn=dynamic_fn_inference,\n",
    "                                                                    #inputs=dec_embeddings,\n",
    "                                                                    #sequence_length=sequence_length,\n",
    "                                                                    scope=decoding_scope)\n",
    "                                                                    #parallel_iterations=None,\n",
    "                                                                    #swap_memory=False,\n",
    "                                                                    #time_major=False\n",
    "    \n",
    "    return outputs\n",
    "\n",
    "\n",
    "\"\"\"\n",
    "DON'T MODIFY ANYTHING IN THIS CELL THAT IS BELOW THIS LINE\n",
    "\"\"\"\n",
    "tests.test_decoding_layer_infer(decoding_layer_infer)"
   ]
  },
  {
   "cell_type": "markdown",
   "metadata": {
    "deletable": true,
    "editable": true
   },
   "source": [
    "### Build the Decoding Layer\n",
    "Implement `decoding_layer()` to create a Decoder RNN layer.\n",
    "\n",
    "- Create RNN cell for decoding using `rnn_size` and `num_layers`.\n",
    "- Create the output fuction using [`lambda`](https://docs.python.org/3/tutorial/controlflow.html#lambda-expressions) to transform it's input, logits, to class logits.\n",
    "- Use the your `decoding_layer_train(encoder_state, dec_cell, dec_embed_input, sequence_length, decoding_scope, output_fn, keep_prob)` function to get the training logits.\n",
    "- Use your `decoding_layer_infer(encoder_state, dec_cell, dec_embeddings, start_of_sequence_id, end_of_sequence_id, maximum_length, vocab_size, decoding_scope, output_fn, keep_prob)` function to get the inference logits.\n",
    "\n",
    "Note: You'll need to use [tf.variable_scope](https://www.tensorflow.org/api_docs/python/tf/variable_scope) to share variables between training and inference."
   ]
  },
  {
   "cell_type": "code",
   "execution_count": 51,
   "metadata": {
    "collapsed": false,
    "deletable": true,
    "editable": true
   },
   "outputs": [
    {
     "name": "stdout",
     "output_type": "stream",
     "text": [
      "Tests Passed\n"
     ]
    }
   ],
   "source": [
    "def decoding_layer(dec_embed_input, dec_embeddings, encoder_state, vocab_size, sequence_length, rnn_size,\n",
    "                   num_layers, target_vocab_to_int, keep_prob):\n",
    "    \"\"\"\n",
    "    Create decoding layer\n",
    "    :param dec_embed_input: Decoder embedded input\n",
    "    :param dec_embeddings: Decoder embeddings\n",
    "    :param encoder_state: The encoded state\n",
    "    :param vocab_size: Size of vocabulary\n",
    "    :param sequence_length: Sequence Length\n",
    "    :param rnn_size: RNN Size\n",
    "    :param num_layers: Number of layers\n",
    "    :param target_vocab_to_int: Dictionary to go from the target words to an id\n",
    "    :param keep_prob: Dropout keep probability\n",
    "    :return: Tuple of (Training Logits, Inference Logits)\n",
    "    \"\"\"\n",
    "    # TODO: Implement Function\n",
    "    if VERBOSE:\n",
    "        print('FUNCTION : decoding_layer')\n",
    "    # To share variables between training and inference use \"tf.variable_scope\"\n",
    "    # See documentation at (https://www.tensorflow.org/api_docs/python/tf/variable_scope)\n",
    "    with tf.variable_scope(\"decoding\") as decoding_scope:\n",
    "        # Create RNN cell for decoding using `rnn_size` and `num_layers`\n",
    "        cells = []\n",
    "        for i in range(num_layers):\n",
    "            cells.append( BasicLSTMCell(rnn_size) )\n",
    "        dec_cell = MultiRNNCell(cells)\n",
    "        #zs = Cell.zero_state(batch_size, tf.float32) # WARNING : we need a 0 state initialization ?\n",
    "        #tf.identity(zs, name='initial_state')\n",
    "        #DOCell = DropoutWrapper(dec_cell, output_keep_prob=keep_prob)\n",
    "\n",
    "        # Transform it's input, logits, to class logits using Lambda\n",
    "        # see Lambda documentation at (https://docs.python.org/3/tutorial/controlflow.html#lambda-expressions)\n",
    "        weights = tf.truncated_normal_initializer(stddev=0.1)\n",
    "        biases = tf.zeros_initializer()\n",
    "        output_fn = lambda x: tf.contrib.layers.fully_connected(x,\n",
    "                                                                vocab_size, \n",
    "                                                                None,\n",
    "                                                                scope=decoding_scope,\n",
    "                                                                weights_initializer=weights,\n",
    "                                                                biases_initializer=biases)\n",
    "\n",
    "        training_logits = decoding_layer_train(encoder_state,\n",
    "                                               dec_cell,\n",
    "                                               dec_embed_input,\n",
    "                                               sequence_length,\n",
    "                                               decoding_scope,\n",
    "                                               output_fn,\n",
    "                                               keep_prob)\n",
    "        \n",
    "        decoding_scope.reuse_variables()\n",
    "\n",
    "        inference_logits = decoding_layer_infer(encoder_state,\n",
    "                                                dec_cell,\n",
    "                                                dec_embeddings,\n",
    "                                                target_vocab_to_int['<GO>'],\n",
    "                                                target_vocab_to_int['<EOS>'],\n",
    "                                                sequence_length-1,\n",
    "                                                vocab_size,\n",
    "                                                decoding_scope,\n",
    "                                                output_fn,\n",
    "                                                keep_prob)\n",
    "\n",
    "    return training_logits, inference_logits\n",
    "\n",
    "\"\"\"\n",
    "DON'T MODIFY ANYTHING IN THIS CELL THAT IS BELOW THIS LINE\n",
    "\"\"\"\n",
    "tests.test_decoding_layer(decoding_layer)"
   ]
  },
  {
   "cell_type": "markdown",
   "metadata": {
    "deletable": true,
    "editable": true
   },
   "source": [
    "### Build the Neural Network\n",
    "Apply the functions you implemented above to:\n",
    "\n",
    "- Apply embedding to the input data for the encoder.\n",
    "- Encode the input using your `encoding_layer(rnn_inputs, rnn_size, num_layers, keep_prob)`.\n",
    "- Process target data using your `process_decoding_input(target_data, target_vocab_to_int, batch_size)` function.\n",
    "- Apply embedding to the target data for the decoder.\n",
    "- Decode the encoded input using your `decoding_layer(dec_embed_input, dec_embeddings, encoder_state, vocab_size, sequence_length, rnn_size, num_layers, target_vocab_to_int, keep_prob)`."
   ]
  },
  {
   "cell_type": "code",
   "execution_count": 52,
   "metadata": {
    "collapsed": false,
    "deletable": true,
    "editable": true
   },
   "outputs": [
    {
     "name": "stdout",
     "output_type": "stream",
     "text": [
      "Tests Passed\n"
     ]
    }
   ],
   "source": [
    "def seq2seq_model(input_data, target_data, keep_prob, batch_size, sequence_length, source_vocab_size, target_vocab_size,\n",
    "                  enc_embedding_size, dec_embedding_size, rnn_size, num_layers, target_vocab_to_int):\n",
    "    \"\"\"\n",
    "    Build the Sequence-to-Sequence part of the neural network\n",
    "    :param input_data: Input placeholder\n",
    "    :param target_data: Target placeholder\n",
    "    :param keep_prob: Dropout keep probability placeholder\n",
    "    :param batch_size: Batch Size\n",
    "    :param sequence_length: Sequence Length\n",
    "    :param source_vocab_size: Source vocabulary size\n",
    "    :param target_vocab_size: Target vocabulary size\n",
    "    :param enc_embedding_size: Decoder embedding size\n",
    "    :param dec_embedding_size: Encoder embedding size\n",
    "    :param rnn_size: RNN Size\n",
    "    :param num_layers: Number of layers\n",
    "    :param target_vocab_to_int: Dictionary to go from the target words to an id\n",
    "    :return: Tuple of (Training Logits, Inference Logits)\n",
    "    \"\"\"\n",
    "    # TODO: Implement Function\n",
    "    if VERBOSE:\n",
    "        print('FUNCTION : seq2seq_model')\n",
    "    \n",
    "    if VERBOSE:\n",
    "        print(input_data)\n",
    "        print(target_data)\n",
    "        print(batch_size)\n",
    "        print(rnn_size)\n",
    "        print(num_layers)\n",
    "        print(enc_embedding_size)\n",
    "    \n",
    "    # Apply embedding to the input data for the encoder :\n",
    "    input_embeddings = tf.Variable(tf.random_uniform([source_vocab_size, enc_embedding_size], -1.0, 1.0),\n",
    "                                   dtype=tf.float32)\n",
    "    rnn_inputs = tf.nn.embedding_lookup(input_embeddings, input_data)\n",
    "    if VERBOSE:\n",
    "        print(rnn_inputs)\n",
    "    \n",
    "    # Encode the input :\n",
    "    encoder_state = encoding_layer(rnn_inputs, rnn_size, num_layers, keep_prob) # all good\n",
    "    if VERBOSE:\n",
    "        print(encoder_state)\n",
    "    \n",
    "    # Process target data :\n",
    "    process_target_data = process_decoding_input(target_data, target_vocab_to_int, batch_size) # all good\n",
    "    if VERBOSE:\n",
    "        print(process_target_data)\n",
    "    \n",
    "    # Apply embedding to the target data for the decoder :\n",
    "    target_embeddings = tf.Variable(tf.random_uniform([target_vocab_size, dec_embedding_size], -1.0, 1.0),\n",
    "                                    dtype=tf.float32)\n",
    "    dec_embed_input = tf.nn.embedding_lookup(target_embeddings, process_target_data)\n",
    "    if VERBOSE:\n",
    "        print(dec_embed_input)\n",
    "    \n",
    "    # Decode the encoded input :\n",
    "    training_logits, inference_logits = decoding_layer(dec_embed_input, # ?\n",
    "                                                       target_embeddings, # ?\n",
    "                                                       encoder_state,\n",
    "                                                       target_vocab_size,\n",
    "                                                       sequence_length,\n",
    "                                                       rnn_size,\n",
    "                                                       num_layers,\n",
    "                                                       target_vocab_to_int,\n",
    "                                                       keep_prob)\n",
    "    \n",
    "    return training_logits, inference_logits\n",
    "\n",
    "\n",
    "\"\"\"\n",
    "DON'T MODIFY ANYTHING IN THIS CELL THAT IS BELOW THIS LINE\n",
    "\"\"\"\n",
    "tests.test_seq2seq_model(seq2seq_model)"
   ]
  },
  {
   "cell_type": "markdown",
   "metadata": {
    "deletable": true,
    "editable": true
   },
   "source": [
    "## Neural Network Training\n",
    "### Hyperparameters\n",
    "Tune the following parameters:\n",
    "\n",
    "- Set `epochs` to the number of epochs.\n",
    "- Set `batch_size` to the batch size.\n",
    "- Set `rnn_size` to the size of the RNNs.\n",
    "- Set `num_layers` to the number of layers.\n",
    "- Set `encoding_embedding_size` to the size of the embedding for the encoder.\n",
    "- Set `decoding_embedding_size` to the size of the embedding for the decoder.\n",
    "- Set `learning_rate` to the learning rate.\n",
    "- Set `keep_probability` to the Dropout keep probability"
   ]
  },
  {
   "cell_type": "code",
   "execution_count": 56,
   "metadata": {
    "collapsed": false,
    "deletable": true,
    "editable": true
   },
   "outputs": [],
   "source": [
    "# Number of Epochs\n",
    "epochs = 2\n",
    "# Batch Size\n",
    "batch_size = 512\n",
    "# RNN Size\n",
    "rnn_size = 256\n",
    "# Number of Layers\n",
    "num_layers = 2\n",
    "# Embedding Size\n",
    "encoding_embedding_size = 200\n",
    "decoding_embedding_size = 200\n",
    "# Learning Rate\n",
    "learning_rate = 0.003\n",
    "# Dropout Keep Probability\n",
    "keep_probability = 0.70"
   ]
  },
  {
   "cell_type": "markdown",
   "metadata": {
    "deletable": true,
    "editable": true
   },
   "source": [
    "### Build the Graph\n",
    "Build the graph using the neural network you implemented."
   ]
  },
  {
   "cell_type": "code",
   "execution_count": 54,
   "metadata": {
    "collapsed": false,
    "deletable": true,
    "editable": true
   },
   "outputs": [],
   "source": [
    "\"\"\"\n",
    "DON'T MODIFY ANYTHING IN THIS CELL\n",
    "\"\"\"\n",
    "save_path = 'checkpoints/dev'\n",
    "(source_int_text, target_int_text), (source_vocab_to_int, target_vocab_to_int), _ = helper.load_preprocess()\n",
    "max_source_sentence_length = max([len(sentence) for sentence in source_int_text])\n",
    "\n",
    "train_graph = tf.Graph()\n",
    "with train_graph.as_default():\n",
    "    input_data, targets, lr, keep_prob = model_inputs()\n",
    "    sequence_length = tf.placeholder_with_default(max_source_sentence_length, None, name='sequence_length')\n",
    "    input_shape = tf.shape(input_data)\n",
    "    \n",
    "    train_logits, inference_logits = seq2seq_model(\n",
    "        tf.reverse(input_data, [-1]), targets, keep_prob, batch_size, sequence_length, len(source_vocab_to_int), len(target_vocab_to_int),\n",
    "        encoding_embedding_size, decoding_embedding_size, rnn_size, num_layers, target_vocab_to_int)\n",
    "\n",
    "    tf.identity(inference_logits, 'logits')\n",
    "    with tf.name_scope(\"optimization\"):\n",
    "        # Loss function\n",
    "        cost = tf.contrib.seq2seq.sequence_loss(\n",
    "            train_logits,\n",
    "            targets,\n",
    "            tf.ones([input_shape[0], sequence_length]))\n",
    "\n",
    "        # Optimizer\n",
    "        optimizer = tf.train.AdamOptimizer(lr)\n",
    "\n",
    "        # Gradient Clipping\n",
    "        gradients = optimizer.compute_gradients(cost)\n",
    "        capped_gradients = [(tf.clip_by_value(grad, -1., 1.), var) for grad, var in gradients if grad is not None]\n",
    "        train_op = optimizer.apply_gradients(capped_gradients)"
   ]
  },
  {
   "cell_type": "markdown",
   "metadata": {
    "deletable": true,
    "editable": true
   },
   "source": [
    "### Train\n",
    "Train the neural network on the preprocessed data. If you have a hard time getting a good loss, check the forums to see if anyone is having the same problem."
   ]
  },
  {
   "cell_type": "code",
   "execution_count": 39,
   "metadata": {
    "collapsed": false,
    "deletable": true,
    "editable": true,
    "scrolled": true
   },
   "outputs": [
    {
     "name": "stdout",
     "output_type": "stream",
     "text": [
      "Epoch   0 Batch    0/67 - Train Accuracy:  0.260, Validation Accuracy:  0.293, Loss:  5.887\n",
      "Epoch   0 Batch    1/67 - Train Accuracy:  0.307, Validation Accuracy:  0.339, Loss:  5.569\n",
      "Epoch   0 Batch    2/67 - Train Accuracy:  0.339, Validation Accuracy:  0.336, Loss:  5.044\n",
      "Epoch   0 Batch    3/67 - Train Accuracy:  0.300, Validation Accuracy:  0.335, Loss:  4.560\n",
      "Epoch   0 Batch    4/67 - Train Accuracy:  0.341, Validation Accuracy:  0.338, Loss:  3.890\n",
      "Epoch   0 Batch    5/67 - Train Accuracy:  0.347, Validation Accuracy:  0.340, Loss:  3.758\n",
      "Epoch   0 Batch    6/67 - Train Accuracy:  0.329, Validation Accuracy:  0.362, Loss:  3.669\n",
      "Epoch   0 Batch    7/67 - Train Accuracy:  0.335, Validation Accuracy:  0.364, Loss:  3.599\n",
      "Epoch   0 Batch    8/67 - Train Accuracy:  0.325, Validation Accuracy:  0.353, Loss:  3.447\n",
      "Epoch   0 Batch    9/67 - Train Accuracy:  0.375, Validation Accuracy:  0.376, Loss:  3.122\n",
      "Epoch   0 Batch   10/67 - Train Accuracy:  0.352, Validation Accuracy:  0.377, Loss:  3.179\n",
      "Epoch   0 Batch   11/67 - Train Accuracy:  0.383, Validation Accuracy:  0.379, Loss:  2.984\n",
      "Epoch   0 Batch   12/67 - Train Accuracy:  0.359, Validation Accuracy:  0.385, Loss:  3.033\n",
      "Epoch   0 Batch   13/67 - Train Accuracy:  0.377, Validation Accuracy:  0.402, Loss:  2.936\n",
      "Epoch   0 Batch   14/67 - Train Accuracy:  0.417, Validation Accuracy:  0.418, Loss:  2.781\n",
      "Epoch   0 Batch   15/67 - Train Accuracy:  0.423, Validation Accuracy:  0.422, Loss:  2.732\n",
      "Epoch   0 Batch   16/67 - Train Accuracy:  0.382, Validation Accuracy:  0.408, Loss:  2.788\n",
      "Epoch   0 Batch   17/67 - Train Accuracy:  0.402, Validation Accuracy:  0.400, Loss:  2.596\n",
      "Epoch   0 Batch   18/67 - Train Accuracy:  0.375, Validation Accuracy:  0.406, Loss:  2.703\n",
      "Epoch   0 Batch   19/67 - Train Accuracy:  0.400, Validation Accuracy:  0.421, Loss:  2.632\n",
      "Epoch   0 Batch   20/67 - Train Accuracy:  0.406, Validation Accuracy:  0.435, Loss:  2.595\n",
      "Epoch   0 Batch   21/67 - Train Accuracy:  0.420, Validation Accuracy:  0.447, Loss:  2.561\n",
      "Epoch   0 Batch   22/67 - Train Accuracy:  0.429, Validation Accuracy:  0.429, Loss:  2.408\n",
      "Epoch   0 Batch   23/67 - Train Accuracy:  0.384, Validation Accuracy:  0.408, Loss:  2.464\n",
      "Epoch   0 Batch   24/67 - Train Accuracy:  0.382, Validation Accuracy:  0.405, Loss:  2.418\n",
      "Epoch   0 Batch   25/67 - Train Accuracy:  0.387, Validation Accuracy:  0.415, Loss:  2.400\n",
      "Epoch   0 Batch   26/67 - Train Accuracy:  0.410, Validation Accuracy:  0.441, Loss:  2.368\n",
      "Epoch   0 Batch   27/67 - Train Accuracy:  0.439, Validation Accuracy:  0.440, Loss:  2.228\n",
      "Epoch   0 Batch   28/67 - Train Accuracy:  0.418, Validation Accuracy:  0.438, Loss:  2.282\n",
      "Epoch   0 Batch   29/67 - Train Accuracy:  0.394, Validation Accuracy:  0.415, Loss:  2.245\n",
      "Epoch   0 Batch   30/67 - Train Accuracy:  0.384, Validation Accuracy:  0.414, Loss:  2.219\n",
      "Epoch   0 Batch   31/67 - Train Accuracy:  0.403, Validation Accuracy:  0.424, Loss:  2.192\n",
      "Epoch   0 Batch   32/67 - Train Accuracy:  0.413, Validation Accuracy:  0.434, Loss:  2.149\n",
      "Epoch   0 Batch   33/67 - Train Accuracy:  0.376, Validation Accuracy:  0.431, Loss:  2.244\n",
      "Epoch   0 Batch   34/67 - Train Accuracy:  0.421, Validation Accuracy:  0.438, Loss:  2.079\n",
      "Epoch   0 Batch   35/67 - Train Accuracy:  0.417, Validation Accuracy:  0.442, Loss:  2.068\n",
      "Epoch   0 Batch   36/67 - Train Accuracy:  0.443, Validation Accuracy:  0.441, Loss:  1.962\n",
      "Epoch   0 Batch   37/67 - Train Accuracy:  0.446, Validation Accuracy:  0.443, Loss:  1.926\n",
      "Epoch   0 Batch   38/67 - Train Accuracy:  0.443, Validation Accuracy:  0.436, Loss:  1.883\n",
      "Epoch   0 Batch   39/67 - Train Accuracy:  0.405, Validation Accuracy:  0.432, Loss:  1.963\n",
      "Epoch   0 Batch   40/67 - Train Accuracy:  0.442, Validation Accuracy:  0.441, Loss:  1.837\n",
      "Epoch   0 Batch   41/67 - Train Accuracy:  0.421, Validation Accuracy:  0.446, Loss:  1.915\n",
      "Epoch   0 Batch   42/67 - Train Accuracy:  0.420, Validation Accuracy:  0.442, Loss:  1.886\n",
      "Epoch   0 Batch   43/67 - Train Accuracy:  0.446, Validation Accuracy:  0.441, Loss:  1.777\n",
      "Epoch   0 Batch   44/67 - Train Accuracy:  0.421, Validation Accuracy:  0.444, Loss:  1.838\n",
      "Epoch   0 Batch   45/67 - Train Accuracy:  0.491, Validation Accuracy:  0.441, Loss:  1.579\n",
      "Epoch   0 Batch   46/67 - Train Accuracy:  0.415, Validation Accuracy:  0.433, Loss:  1.761\n",
      "Epoch   0 Batch   47/67 - Train Accuracy:  0.410, Validation Accuracy:  0.436, Loss:  1.768\n",
      "Epoch   0 Batch   48/67 - Train Accuracy:  0.405, Validation Accuracy:  0.439, Loss:  1.750\n",
      "Epoch   0 Batch   49/67 - Train Accuracy:  0.415, Validation Accuracy:  0.436, Loss:  1.728\n",
      "Epoch   0 Batch   50/67 - Train Accuracy:  0.409, Validation Accuracy:  0.438, Loss:  1.696\n",
      "Epoch   0 Batch   51/67 - Train Accuracy:  0.441, Validation Accuracy:  0.440, Loss:  1.604\n",
      "Epoch   0 Batch   52/67 - Train Accuracy:  0.415, Validation Accuracy:  0.435, Loss:  1.643\n",
      "Epoch   0 Batch   53/67 - Train Accuracy:  0.436, Validation Accuracy:  0.434, Loss:  1.562\n",
      "Epoch   0 Batch   54/67 - Train Accuracy:  0.444, Validation Accuracy:  0.440, Loss:  1.524\n",
      "Epoch   0 Batch   55/67 - Train Accuracy:  0.425, Validation Accuracy:  0.442, Loss:  1.588\n",
      "Epoch   0 Batch   56/67 - Train Accuracy:  0.488, Validation Accuracy:  0.438, Loss:  1.384\n",
      "Epoch   0 Batch   57/67 - Train Accuracy:  0.420, Validation Accuracy:  0.447, Loss:  1.571\n",
      "Epoch   0 Batch   58/67 - Train Accuracy:  0.424, Validation Accuracy:  0.446, Loss:  1.543\n",
      "Epoch   0 Batch   59/67 - Train Accuracy:  0.470, Validation Accuracy:  0.443, Loss:  1.393\n",
      "Epoch   0 Batch   60/67 - Train Accuracy:  0.438, Validation Accuracy:  0.460, Loss:  1.496\n",
      "Epoch   0 Batch   61/67 - Train Accuracy:  0.462, Validation Accuracy:  0.456, Loss:  1.418\n",
      "Epoch   0 Batch   62/67 - Train Accuracy:  0.430, Validation Accuracy:  0.456, Loss:  1.475\n",
      "Epoch   0 Batch   63/67 - Train Accuracy:  0.462, Validation Accuracy:  0.466, Loss:  1.403\n",
      "Epoch   0 Batch   64/67 - Train Accuracy:  0.435, Validation Accuracy:  0.460, Loss:  1.446\n",
      "Epoch   0 Batch   65/67 - Train Accuracy:  0.443, Validation Accuracy:  0.461, Loss:  1.417\n",
      "Epoch   1 Batch    0/67 - Train Accuracy:  0.449, Validation Accuracy:  0.470, Loss:  1.394\n",
      "Epoch   1 Batch    1/67 - Train Accuracy:  0.438, Validation Accuracy:  0.461, Loss:  1.382\n",
      "Epoch   1 Batch    2/67 - Train Accuracy:  0.464, Validation Accuracy:  0.465, Loss:  1.315\n",
      "Epoch   1 Batch    3/67 - Train Accuracy:  0.464, Validation Accuracy:  0.491, Loss:  1.354\n",
      "Epoch   1 Batch    4/67 - Train Accuracy:  0.466, Validation Accuracy:  0.466, Loss:  1.285\n",
      "Epoch   1 Batch    5/67 - Train Accuracy:  0.496, Validation Accuracy:  0.490, Loss:  1.270\n",
      "Epoch   1 Batch    6/67 - Train Accuracy:  0.454, Validation Accuracy:  0.487, Loss:  1.326\n",
      "Epoch   1 Batch    7/67 - Train Accuracy:  0.451, Validation Accuracy:  0.474, Loss:  1.294\n",
      "Epoch   1 Batch    8/67 - Train Accuracy:  0.465, Validation Accuracy:  0.484, Loss:  1.300\n",
      "Epoch   1 Batch    9/67 - Train Accuracy:  0.489, Validation Accuracy:  0.489, Loss:  1.214\n",
      "Epoch   1 Batch   10/67 - Train Accuracy:  0.462, Validation Accuracy:  0.481, Loss:  1.257\n",
      "Epoch   1 Batch   11/67 - Train Accuracy:  0.505, Validation Accuracy:  0.502, Loss:  1.183\n",
      "Epoch   1 Batch   12/67 - Train Accuracy:  0.466, Validation Accuracy:  0.491, Loss:  1.244\n",
      "Epoch   1 Batch   13/67 - Train Accuracy:  0.474, Validation Accuracy:  0.493, Loss:  1.233\n",
      "Epoch   1 Batch   14/67 - Train Accuracy:  0.507, Validation Accuracy:  0.508, Loss:  1.155\n",
      "Epoch   1 Batch   15/67 - Train Accuracy:  0.488, Validation Accuracy:  0.488, Loss:  1.144\n",
      "Epoch   1 Batch   16/67 - Train Accuracy:  0.483, Validation Accuracy:  0.506, Loss:  1.207\n",
      "Epoch   1 Batch   17/67 - Train Accuracy:  0.475, Validation Accuracy:  0.473, Loss:  1.132\n",
      "Epoch   1 Batch   18/67 - Train Accuracy:  0.506, Validation Accuracy:  0.528, Loss:  1.180\n",
      "Epoch   1 Batch   19/67 - Train Accuracy:  0.452, Validation Accuracy:  0.472, Loss:  1.167\n",
      "Epoch   1 Batch   20/67 - Train Accuracy:  0.507, Validation Accuracy:  0.532, Loss:  1.150\n",
      "Epoch   1 Batch   21/67 - Train Accuracy:  0.499, Validation Accuracy:  0.525, Loss:  1.143\n",
      "Epoch   1 Batch   22/67 - Train Accuracy:  0.484, Validation Accuracy:  0.482, Loss:  1.073\n",
      "Epoch   1 Batch   23/67 - Train Accuracy:  0.510, Validation Accuracy:  0.527, Loss:  1.112\n",
      "Epoch   1 Batch   24/67 - Train Accuracy:  0.521, Validation Accuracy:  0.536, Loss:  1.092\n",
      "Epoch   1 Batch   25/67 - Train Accuracy:  0.464, Validation Accuracy:  0.485, Loss:  1.095\n",
      "Epoch   1 Batch   26/67 - Train Accuracy:  0.496, Validation Accuracy:  0.520, Loss:  1.076\n",
      "Epoch   1 Batch   27/67 - Train Accuracy:  0.548, Validation Accuracy:  0.549, Loss:  1.023\n",
      "Epoch   1 Batch   28/67 - Train Accuracy:  0.484, Validation Accuracy:  0.505, Loss:  1.040\n",
      "Epoch   1 Batch   29/67 - Train Accuracy:  0.492, Validation Accuracy:  0.508, Loss:  1.036\n",
      "Epoch   1 Batch   30/67 - Train Accuracy:  0.524, Validation Accuracy:  0.541, Loss:  1.011\n",
      "Epoch   1 Batch   31/67 - Train Accuracy:  0.493, Validation Accuracy:  0.517, Loss:  1.028\n",
      "Epoch   1 Batch   32/67 - Train Accuracy:  0.512, Validation Accuracy:  0.534, Loss:  1.002\n",
      "Epoch   1 Batch   33/67 - Train Accuracy:  0.521, Validation Accuracy:  0.560, Loss:  1.056\n",
      "Epoch   1 Batch   34/67 - Train Accuracy:  0.527, Validation Accuracy:  0.542, Loss:  0.978\n",
      "Epoch   1 Batch   35/67 - Train Accuracy:  0.524, Validation Accuracy:  0.541, Loss:  0.972\n",
      "Epoch   1 Batch   36/67 - Train Accuracy:  0.560, Validation Accuracy:  0.558, Loss:  0.939\n",
      "Epoch   1 Batch   37/67 - Train Accuracy:  0.549, Validation Accuracy:  0.543, Loss:  0.917\n",
      "Epoch   1 Batch   38/67 - Train Accuracy:  0.558, Validation Accuracy:  0.547, Loss:  0.905\n",
      "Epoch   1 Batch   39/67 - Train Accuracy:  0.543, Validation Accuracy:  0.563, Loss:  0.946\n",
      "Epoch   1 Batch   40/67 - Train Accuracy:  0.570, Validation Accuracy:  0.563, Loss:  0.884\n",
      "Epoch   1 Batch   41/67 - Train Accuracy:  0.540, Validation Accuracy:  0.562, Loss:  0.924\n",
      "Epoch   1 Batch   42/67 - Train Accuracy:  0.554, Validation Accuracy:  0.569, Loss:  0.914\n",
      "Epoch   1 Batch   43/67 - Train Accuracy:  0.563, Validation Accuracy:  0.558, Loss:  0.865\n",
      "Epoch   1 Batch   44/67 - Train Accuracy:  0.552, Validation Accuracy:  0.566, Loss:  0.903\n",
      "Epoch   1 Batch   45/67 - Train Accuracy:  0.625, Validation Accuracy:  0.583, Loss:  0.771\n",
      "Epoch   1 Batch   46/67 - Train Accuracy:  0.555, Validation Accuracy:  0.564, Loss:  0.867\n",
      "Epoch   1 Batch   47/67 - Train Accuracy:  0.565, Validation Accuracy:  0.577, Loss:  0.876\n",
      "Epoch   1 Batch   48/67 - Train Accuracy:  0.563, Validation Accuracy:  0.587, Loss:  0.868\n",
      "Epoch   1 Batch   49/67 - Train Accuracy:  0.581, Validation Accuracy:  0.597, Loss:  0.858\n",
      "Epoch   1 Batch   50/67 - Train Accuracy:  0.561, Validation Accuracy:  0.580, Loss:  0.852\n",
      "Epoch   1 Batch   51/67 - Train Accuracy:  0.593, Validation Accuracy:  0.578, Loss:  0.831\n",
      "Epoch   1 Batch   52/67 - Train Accuracy:  0.576, Validation Accuracy:  0.584, Loss:  0.884\n",
      "Epoch   1 Batch   53/67 - Train Accuracy:  0.579, Validation Accuracy:  0.575, Loss:  0.806\n",
      "Epoch   1 Batch   54/67 - Train Accuracy:  0.616, Validation Accuracy:  0.599, Loss:  0.812\n",
      "Epoch   1 Batch   55/67 - Train Accuracy:  0.583, Validation Accuracy:  0.597, Loss:  0.822\n",
      "Epoch   1 Batch   56/67 - Train Accuracy:  0.638, Validation Accuracy:  0.605, Loss:  0.724\n",
      "Epoch   1 Batch   57/67 - Train Accuracy:  0.599, Validation Accuracy:  0.613, Loss:  0.824\n",
      "Epoch   1 Batch   58/67 - Train Accuracy:  0.603, Validation Accuracy:  0.619, Loss:  0.809\n",
      "Epoch   1 Batch   59/67 - Train Accuracy:  0.638, Validation Accuracy:  0.613, Loss:  0.731\n",
      "Epoch   1 Batch   60/67 - Train Accuracy:  0.597, Validation Accuracy:  0.613, Loss:  0.790\n",
      "Epoch   1 Batch   61/67 - Train Accuracy:  0.631, Validation Accuracy:  0.621, Loss:  0.749\n",
      "Epoch   1 Batch   62/67 - Train Accuracy:  0.604, Validation Accuracy:  0.621, Loss:  0.777\n",
      "Epoch   1 Batch   63/67 - Train Accuracy:  0.616, Validation Accuracy:  0.624, Loss:  0.745\n",
      "Epoch   1 Batch   64/67 - Train Accuracy:  0.622, Validation Accuracy:  0.636, Loss:  0.770\n",
      "Epoch   1 Batch   65/67 - Train Accuracy:  0.629, Validation Accuracy:  0.640, Loss:  0.755\n",
      "Model Trained and Saved\n"
     ]
    }
   ],
   "source": [
    "\"\"\"\n",
    "DON'T MODIFY ANYTHING IN THIS CELL\n",
    "\"\"\"\n",
    "import time\n",
    "\n",
    "def get_accuracy(target, logits):\n",
    "    \"\"\"\n",
    "    Calculate accuracy\n",
    "    \"\"\"\n",
    "    max_seq = max(target.shape[1], logits.shape[1])\n",
    "    if max_seq - target.shape[1]:\n",
    "        target = np.pad(\n",
    "            target,\n",
    "            [(0,0),(0,max_seq - target.shape[1])],\n",
    "            'constant')\n",
    "    if max_seq - logits.shape[1]:\n",
    "        logits = np.pad(\n",
    "            logits,\n",
    "            [(0,0),(0,max_seq - logits.shape[1]), (0,0)],\n",
    "            'constant')\n",
    "\n",
    "    return np.mean(np.equal(target, np.argmax(logits, 2)))\n",
    "\n",
    "train_source = source_int_text[batch_size:]\n",
    "train_target = target_int_text[batch_size:]\n",
    "\n",
    "valid_source = helper.pad_sentence_batch(source_int_text[:batch_size])\n",
    "valid_target = helper.pad_sentence_batch(target_int_text[:batch_size])\n",
    "\n",
    "with tf.Session(graph=train_graph) as sess:\n",
    "    sess.run(tf.global_variables_initializer())\n",
    "\n",
    "    for epoch_i in range(epochs):\n",
    "        for batch_i, (source_batch, target_batch) in enumerate(\n",
    "                helper.batch_data(train_source, train_target, batch_size)):\n",
    "            start_time = time.time()\n",
    "            \n",
    "            _, loss = sess.run(\n",
    "                [train_op, cost],\n",
    "                {input_data: source_batch,\n",
    "                 targets: target_batch,\n",
    "                 lr: learning_rate,\n",
    "                 sequence_length: target_batch.shape[1],\n",
    "                 keep_prob: keep_probability})\n",
    "            \n",
    "            batch_train_logits = sess.run(\n",
    "                inference_logits,\n",
    "                {input_data: source_batch, keep_prob: 1.0})\n",
    "            batch_valid_logits = sess.run(\n",
    "                inference_logits,\n",
    "                {input_data: valid_source, keep_prob: 1.0})\n",
    "                \n",
    "            train_acc = get_accuracy(target_batch, batch_train_logits)\n",
    "            valid_acc = get_accuracy(np.array(valid_target), batch_valid_logits)\n",
    "            end_time = time.time()\n",
    "            print('Epoch {:>3} Batch {:>4}/{} - Train Accuracy: {:>6.3f}, Validation Accuracy: {:>6.3f}, Loss: {:>6.3f}'\n",
    "                  .format(epoch_i, batch_i, len(source_int_text) // batch_size, train_acc, valid_acc, loss))\n",
    "\n",
    "    # Save Model\n",
    "    saver = tf.train.Saver()\n",
    "    saver.save(sess, save_path)\n",
    "    print('Model Trained and Saved')"
   ]
  },
  {
   "cell_type": "markdown",
   "metadata": {
    "deletable": true,
    "editable": true
   },
   "source": [
    "### Save Parameters\n",
    "Save the `batch_size` and `save_path` parameters for inference."
   ]
  },
  {
   "cell_type": "code",
   "execution_count": 40,
   "metadata": {
    "collapsed": false,
    "deletable": true,
    "editable": true
   },
   "outputs": [],
   "source": [
    "\"\"\"\n",
    "DON'T MODIFY ANYTHING IN THIS CELL\n",
    "\"\"\"\n",
    "# Save parameters for checkpoint\n",
    "helper.save_params(save_path)"
   ]
  },
  {
   "cell_type": "markdown",
   "metadata": {
    "deletable": true,
    "editable": true
   },
   "source": [
    "# Checkpoint"
   ]
  },
  {
   "cell_type": "code",
   "execution_count": 41,
   "metadata": {
    "collapsed": false,
    "deletable": true,
    "editable": true
   },
   "outputs": [],
   "source": [
    "\"\"\"\n",
    "DON'T MODIFY ANYTHING IN THIS CELL\n",
    "\"\"\"\n",
    "import tensorflow as tf\n",
    "import numpy as np\n",
    "import helper\n",
    "import problem_unittests as tests\n",
    "\n",
    "_, (source_vocab_to_int, target_vocab_to_int), (source_int_to_vocab, target_int_to_vocab) = helper.load_preprocess()\n",
    "load_path = helper.load_params()"
   ]
  },
  {
   "cell_type": "markdown",
   "metadata": {
    "deletable": true,
    "editable": true
   },
   "source": [
    "## Sentence to Sequence\n",
    "To feed a sentence into the model for translation, you first need to preprocess it.  Implement the function `sentence_to_seq()` to preprocess new sentences.\n",
    "\n",
    "- Convert the sentence to lowercase\n",
    "- Convert words into ids using `vocab_to_int`\n",
    "- Convert words not in the vocabulary, to the `<UNK>` word id."
   ]
  },
  {
   "cell_type": "code",
   "execution_count": 42,
   "metadata": {
    "collapsed": false,
    "deletable": true,
    "editable": true
   },
   "outputs": [
    {
     "name": "stdout",
     "output_type": "stream",
     "text": [
      "Tests Passed\n"
     ]
    }
   ],
   "source": [
    "def sentence_to_seq(sentence, vocab_to_int):\n",
    "    \"\"\"\n",
    "    Convert a sentence to a sequence of ids\n",
    "    :param sentence: String\n",
    "    :param vocab_to_int: Dictionary to go from the words to an id\n",
    "    :return: List of word ids\n",
    "    \"\"\"\n",
    "    # TODO: Implement Function\n",
    "    WRDS = sentence.lower().split(' ') # WARNING : to we also need to take care of commas and other signs ?\n",
    "    IDs = [(vocab_to_int[wrd] if wrd in vocab_to_int else vocab_to_int['<UNK>']) for wrd in WRDS]\n",
    "    return IDs\n",
    "\n",
    "\"\"\"\n",
    "DON'T MODIFY ANYTHING IN THIS CELL THAT IS BELOW THIS LINE\n",
    "\"\"\"\n",
    "tests.test_sentence_to_seq(sentence_to_seq)"
   ]
  },
  {
   "cell_type": "markdown",
   "metadata": {
    "deletable": true,
    "editable": true
   },
   "source": [
    "## Translate\n",
    "This will translate `translate_sentence` from English to French."
   ]
  },
  {
   "cell_type": "code",
   "execution_count": 43,
   "metadata": {
    "collapsed": false,
    "deletable": true,
    "editable": true
   },
   "outputs": [
    {
     "name": "stdout",
     "output_type": "stream",
     "text": [
      "Input\n",
      "  Word Ids:      [130, 131, 146, 129, 207, 76, 7]\n",
      "  English Words: ['he', 'saw', 'a', 'old', 'yellow', 'truck', '.']\n",
      "\n",
      "Prediction\n",
      "  Word Ids:      [120, 188, 214, 188, 343, 343, 255, 84, 95, 214, 300, 163, 102, 177, 1]\n",
      "  French Words: ['la', 'le', 'est', 'le', 'pendant', 'pendant', ',', 'mais', 'il', 'est', 'jamais', 'en', 'janvier', '.', '<EOS>']\n"
     ]
    }
   ],
   "source": [
    "translate_sentence = 'he saw a old yellow truck .'\n",
    "\n",
    "\n",
    "\"\"\"\n",
    "DON'T MODIFY ANYTHING IN THIS CELL\n",
    "\"\"\"\n",
    "translate_sentence = sentence_to_seq(translate_sentence, source_vocab_to_int)\n",
    "\n",
    "loaded_graph = tf.Graph()\n",
    "with tf.Session(graph=loaded_graph) as sess:\n",
    "    # Load saved model\n",
    "    loader = tf.train.import_meta_graph(load_path + '.meta')\n",
    "    loader.restore(sess, load_path)\n",
    "\n",
    "    input_data = loaded_graph.get_tensor_by_name('input:0')\n",
    "    logits = loaded_graph.get_tensor_by_name('logits:0')\n",
    "    keep_prob = loaded_graph.get_tensor_by_name('keep_prob:0')\n",
    "\n",
    "    translate_logits = sess.run(logits, {input_data: [translate_sentence], keep_prob: 1.0})[0]\n",
    "\n",
    "print('Input')\n",
    "print('  Word Ids:      {}'.format([i for i in translate_sentence]))\n",
    "print('  English Words: {}'.format([source_int_to_vocab[i] for i in translate_sentence]))\n",
    "\n",
    "print('\\nPrediction')\n",
    "print('  Word Ids:      {}'.format([i for i in np.argmax(translate_logits, 1)]))\n",
    "print('  French Words: {}'.format([target_int_to_vocab[i] for i in np.argmax(translate_logits, 1)]))"
   ]
  },
  {
   "cell_type": "markdown",
   "metadata": {
    "deletable": true,
    "editable": true
   },
   "source": [
    "## Imperfect Translation\n",
    "You might notice that some sentences translate better than others.  Since the dataset you're using only has a vocabulary of 227 English words of the thousands that you use, you're only going to see good results using these words.  Additionally, the translations in this data set were made by Google translate, so the translations themselves aren't particularly good.  (We apologize to the French speakers out there!) Thankfully, for this project, you don't need a perfect translation. However, if you want to create a better translation model, you'll need better data.\n",
    "\n",
    "You can train on the [WMT10 French-English corpus](http://www.statmt.org/wmt10/training-giga-fren.tar).  This dataset has more vocabulary and richer in topics discussed.  However, this will take you days to train, so make sure you've a GPU and the neural network is performing well on dataset we provided.  Just make sure you play with the WMT10 corpus after you've submitted this project.\n",
    "## Submitting This Project\n",
    "When submitting this project, make sure to run all the cells before saving the notebook. Save the notebook file as \"dlnd_language_translation.ipynb\" and save it as a HTML file under \"File\" -> \"Download as\". Include the \"helper.py\" and \"problem_unittests.py\" files in your submission."
   ]
  },
  {
   "cell_type": "code",
   "execution_count": null,
   "metadata": {
    "collapsed": true
   },
   "outputs": [],
   "source": []
  }
 ],
 "metadata": {
  "anaconda-cloud": {},
  "kernelspec": {
   "display_name": "Python [conda env:py35_tf_v10]",
   "language": "python",
   "name": "conda-env-py35_tf_v10-py"
  },
  "language_info": {
   "codemirror_mode": {
    "name": "ipython",
    "version": 3
   },
   "file_extension": ".py",
   "mimetype": "text/x-python",
   "name": "python",
   "nbconvert_exporter": "python",
   "pygments_lexer": "ipython3",
   "version": "3.5.3"
  }
 },
 "nbformat": 4,
 "nbformat_minor": 0
}
